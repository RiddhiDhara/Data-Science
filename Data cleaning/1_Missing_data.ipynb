{
 "cells": [
  {
   "cell_type": "markdown",
   "id": "80c82691-b40c-4ca8-ad96-b770bafaf90d",
   "metadata": {},
   "source": [
    "## **Missing data**\n",
    "---"
   ]
  },
  {
   "cell_type": "markdown",
   "id": "a2a3c385-a309-4f97-a76c-adf1ebd74e21",
   "metadata": {},
   "source": [
    "### Hands on!!"
   ]
  },
  {
   "cell_type": "code",
   "execution_count": 2,
   "id": "d489f3f4-a248-414c-9bca-e784f9f2a47c",
   "metadata": {},
   "outputs": [],
   "source": [
    "# importing stuffs\n",
    "import numpy as np\n",
    "import pandas as pd"
   ]
  },
  {
   "cell_type": "markdown",
   "id": "25257e64-13b0-45c1-9635-89c0b9a384dd",
   "metadata": {},
   "source": [
    "What does \"missing data\" mean? What is a missing value? It depends on the origin of the data and the context it was generated. For example, for a survey, a Salary field with an empty value, or a number 0, or an invalid value (a string for example) can be considered \"missing data\". These concepts are related to the values that Python will consider \"Falsy\":"
   ]
  },
  {
   "cell_type": "code",
   "execution_count": 3,
   "id": "00f612eb-e3c0-4eeb-96ad-79b888d20e46",
   "metadata": {},
   "outputs": [],
   "source": [
    "falsy_values = (0, False, None, '', [], {})"
   ]
  },
  {
   "cell_type": "markdown",
   "id": "d6472db0-7c4a-4e8a-8e65-a958b7c12729",
   "metadata": {},
   "source": [
    "All the above values are considered falsy"
   ]
  },
  {
   "cell_type": "code",
   "execution_count": 4,
   "id": "3fe1c037-f66a-4ff0-abf8-9dbf4b8852d0",
   "metadata": {},
   "outputs": [
    {
     "data": {
      "text/plain": [
       "False"
      ]
     },
     "execution_count": 4,
     "metadata": {},
     "output_type": "execute_result"
    }
   ],
   "source": [
    "# the any(iterables) gives the following as result :\n",
    "# If at least one element is truthy → Returns True\n",
    "# If all elements are falsy → Returns False\n",
    "any(falsy_values)"
   ]
  },
  {
   "cell_type": "markdown",
   "id": "a1ab0359-4137-46b4-90dc-d18255eafd52",
   "metadata": {},
   "source": [
    "Numpy has a special \"nullable\" value for numbers which is np.nan. It's NaN: \"Not a number\""
   ]
  },
  {
   "cell_type": "code",
   "execution_count": 5,
   "id": "b7ff1d7d-cf02-465a-904c-3be2120b8d12",
   "metadata": {},
   "outputs": [
    {
     "data": {
      "text/plain": [
       "nan"
      ]
     },
     "execution_count": 5,
     "metadata": {},
     "output_type": "execute_result"
    }
   ],
   "source": [
    "np.nan"
   ]
  },
  {
   "cell_type": "markdown",
   "id": "1eabc13f-c9e8-4b01-969c-70fdb50e2625",
   "metadata": {},
   "source": [
    "np.nan is like a void and null value hence any thing operating with np.nan becomes nan  \n",
    "The np.nan value is kind of a virus. Everything that it touches becomes np.nan:"
   ]
  },
  {
   "cell_type": "code",
   "execution_count": 6,
   "id": "5576a3db-c37d-468a-ba1e-4f2d59869c7d",
   "metadata": {},
   "outputs": [
    {
     "data": {
      "text/plain": [
       "nan"
      ]
     },
     "execution_count": 6,
     "metadata": {},
     "output_type": "execute_result"
    }
   ],
   "source": [
    "3 + np.nan"
   ]
  },
  {
   "cell_type": "markdown",
   "id": "a62460a1-a296-4ea2-9320-8a882b7bd552",
   "metadata": {},
   "source": [
    "### **Understanding NaN**"
   ]
  },
  {
   "cell_type": "markdown",
   "id": "f320dc43-8170-4f23-a0bb-4a5005039861",
   "metadata": {},
   "source": [
    "- It is used in Pandas and NumPy to indicate missing values.\n",
    "- It is not equal to any number, including itself (NaN != NaN).\n",
    "- NaN is a float type by default."
   ]
  },
  {
   "cell_type": "code",
   "execution_count": 7,
   "id": "ecd808bb-f24d-44df-8873-6384d9613b09",
   "metadata": {},
   "outputs": [
    {
     "data": {
      "text/plain": [
       "array([ 1.,  2.,  3., nan, nan,  4.])"
      ]
     },
     "execution_count": 7,
     "metadata": {},
     "output_type": "execute_result"
    }
   ],
   "source": [
    "# creating a numpy array using nan values\n",
    "a = np.array([1, 2, 3, np.nan, np.nan, 4])\n",
    "a"
   ]
  },
  {
   "cell_type": "code",
   "execution_count": 8,
   "id": "87223293-d99e-489d-a17f-df3a3d81576b",
   "metadata": {},
   "outputs": [
    {
     "data": {
      "text/plain": [
       "nan"
      ]
     },
     "execution_count": 8,
     "metadata": {},
     "output_type": "execute_result"
    }
   ],
   "source": [
    "# now performing sum operation \n",
    "a.sum()"
   ]
  },
  {
   "cell_type": "markdown",
   "id": "1d48b13d-88df-4ba3-ade9-7ad0d96e4c8f",
   "metadata": {},
   "source": [
    "See told ya ! any number operating using nan is nan"
   ]
  },
  {
   "cell_type": "code",
   "execution_count": 9,
   "id": "5cf346ea-7117-4231-9562-40aa9118f333",
   "metadata": {},
   "outputs": [
    {
     "data": {
      "text/plain": [
       "nan"
      ]
     },
     "execution_count": 9,
     "metadata": {},
     "output_type": "execute_result"
    }
   ],
   "source": [
    "# now performing mean()\n",
    "a.mean()"
   ]
  },
  {
   "cell_type": "markdown",
   "id": "0facd2a4-2f6f-437c-9207-f194d8d035b5",
   "metadata": {},
   "source": [
    "This is better than regular None values, which in the previous examples would have raised an exception:"
   ]
  },
  {
   "cell_type": "markdown",
   "id": "718191ee-8ebc-4391-b9ed-6916c238c1a3",
   "metadata": {},
   "source": [
    "| Feature                  | None                                      | NaN (`numpy.nan` / `pd.NA`)                 |\n",
    "|--------------------------|------------------------------------------|----------------------------------------------|\n",
    "| **Meaning**              | Absence of a value (Python null value)   | \"Not a Number\" (used for missing numerical data) |\n",
    "| **Type**                 | `NoneType`                               | `float` (`numpy.nan` is a float)            |\n",
    "| **Use Case**             | General-purpose missing values in Python | Missing values in numerical computations    |\n",
    "| **Comparison (`==`)**    | `None == None` → ✅ `True`               | `np.nan == np.nan` → ❌ `False`             |\n",
    "| **Check for Missing Values** | `x is None`                        | `pd.isna(x)`, `np.isnan(x)`                 |\n"
   ]
  },
  {
   "cell_type": "markdown",
   "id": "348a464d-c535-43fc-a2d8-40d6a05e9428",
   "metadata": {},
   "source": [
    "### 🔥 Quick recap\n",
    "\n",
    "- ✅ None is Python’s null value, used for general missing values.\n",
    "- ✅ NaN (numpy.nan) is used in Pandas/NumPy for missing numerical data.\n",
    "- ✅ NaN != NaN, while None == None.\n",
    "- ✅ None is converted to NaN in Pandas when used in a numeric column.\n",
    "\n",
    "##### 🚀 TL;DR: Use None for general-purpose missing values in Python and NaN for missing numerical data in Pandas/NumPy! 😊"
   ]
  },
  {
   "cell_type": "code",
   "execution_count": 10,
   "id": "f3c40529-5bec-48e7-b18f-1ef9fbf5ada7",
   "metadata": {},
   "outputs": [],
   "source": [
    "# now checking None value\n",
    "# 3 + None \n",
    "# this gives error since it does matches datatype"
   ]
  },
  {
   "cell_type": "markdown",
   "id": "d0a7e457-a31a-405b-a1ba-c5c6069b9253",
   "metadata": {},
   "source": [
    "🔹 Why?\n",
    "- None is not a number → It represents absence of a value, not 0 or any numeric type.\n",
    "- Python doesn’t know how to add an int and NoneType → Unlike NaN, which is a float, None has no mathematical meaning.\n",
    "- Python is strongly typed → It doesn’t automatically convert None to 0 or any other number."
   ]
  },
  {
   "cell_type": "markdown",
   "id": "405aee01-ffdb-403d-9816-c362886b779d",
   "metadata": {},
   "source": [
    "##### For a numeric array, the None value is replaced by np.nan:"
   ]
  },
  {
   "cell_type": "code",
   "execution_count": 11,
   "id": "91c205eb-eb3c-41f1-81e8-929c6e85f31d",
   "metadata": {},
   "outputs": [],
   "source": [
    "# now trying to convert the content of a to a float datatype\n",
    "a = np.array([1,2,3,np.nan,None,4],dtype = \"float\")"
   ]
  },
  {
   "cell_type": "code",
   "execution_count": 12,
   "id": "08e07f85-2953-4558-9afc-75ce124b6833",
   "metadata": {},
   "outputs": [
    {
     "data": {
      "text/plain": [
       "array([ 1.,  2.,  3., nan, nan,  4.])"
      ]
     },
     "execution_count": 12,
     "metadata": {},
     "output_type": "execute_result"
    }
   ],
   "source": [
    "a"
   ]
  },
  {
   "cell_type": "markdown",
   "id": "f1c876d5-8442-4187-94be-7ce0035fb604",
   "metadata": {},
   "source": [
    "As we said, np.nan is like a virus. If you have any nan value in an array and you try to perform an operation on it, you'll get unexpected results:"
   ]
  },
  {
   "cell_type": "code",
   "execution_count": 13,
   "id": "668fb1dc-40ee-4607-adf1-dcd1ab529584",
   "metadata": {},
   "outputs": [
    {
     "data": {
      "text/plain": [
       "array([ 1.,  2.,  3., nan, nan,  4.])"
      ]
     },
     "execution_count": 13,
     "metadata": {},
     "output_type": "execute_result"
    }
   ],
   "source": [
    "a = np.array([1,2,3,np.nan,np.nan,4])\n",
    "a"
   ]
  },
  {
   "cell_type": "code",
   "execution_count": 14,
   "id": "03e9e6e9-7987-483d-87a4-82eb219e42e2",
   "metadata": {},
   "outputs": [
    {
     "data": {
      "text/plain": [
       "nan"
      ]
     },
     "execution_count": 14,
     "metadata": {},
     "output_type": "execute_result"
    }
   ],
   "source": [
    "a.sum()"
   ]
  },
  {
   "cell_type": "code",
   "execution_count": 15,
   "id": "c7ff8b80-6d0e-464f-9ee5-484eda7ab054",
   "metadata": {},
   "outputs": [
    {
     "data": {
      "text/plain": [
       "nan"
      ]
     },
     "execution_count": 15,
     "metadata": {},
     "output_type": "execute_result"
    }
   ],
   "source": [
    "a.mean()"
   ]
  },
  {
   "cell_type": "markdown",
   "id": "f5f49736-146e-4df5-a636-837a6b9c171d",
   "metadata": {},
   "source": [
    "Numpy also supports an \"Infinite\" type:"
   ]
  },
  {
   "cell_type": "code",
   "execution_count": 16,
   "id": "870fc295-9f2c-42a5-aeb5-93738d823914",
   "metadata": {},
   "outputs": [
    {
     "data": {
      "text/plain": [
       "inf"
      ]
     },
     "execution_count": 16,
     "metadata": {},
     "output_type": "execute_result"
    }
   ],
   "source": [
    "np.inf"
   ]
  },
  {
   "cell_type": "markdown",
   "id": "2a9ae3c1-3227-4b3d-afb2-27a451e29c0d",
   "metadata": {},
   "source": [
    "Which also behaves as a virus:"
   ]
  },
  {
   "cell_type": "markdown",
   "id": "1bd7adb2-c287-4e7a-8c93-b69e9903703a",
   "metadata": {},
   "source": [
    "### 1️⃣ Understanding np.inf\n",
    "- np.inf stands for positive infinity (∞).\n",
    "- -np.inf stands for negative infinity (-∞).\n",
    "- It behaves like a very large number in computations.\n",
    "- Often appears in division by zero or limits."
   ]
  },
  {
   "cell_type": "code",
   "execution_count": 17,
   "id": "370a074d-8fb2-4be3-b272-afe49a8bcd49",
   "metadata": {},
   "outputs": [
    {
     "data": {
      "text/plain": [
       "inf"
      ]
     },
     "execution_count": 17,
     "metadata": {},
     "output_type": "execute_result"
    }
   ],
   "source": [
    "# now performing operation using np.inf\n",
    "3 + np.inf"
   ]
  },
  {
   "cell_type": "code",
   "execution_count": 18,
   "id": "527e366a-8bce-471a-9c12-6b54f7f30a43",
   "metadata": {},
   "outputs": [
    {
     "data": {
      "text/plain": [
       "inf"
      ]
     },
     "execution_count": 18,
     "metadata": {},
     "output_type": "execute_result"
    }
   ],
   "source": [
    "np.inf/3"
   ]
  },
  {
   "cell_type": "code",
   "execution_count": 19,
   "id": "7ef26833-221e-4671-9334-97dc591b0c94",
   "metadata": {},
   "outputs": [
    {
     "data": {
      "text/plain": [
       "nan"
      ]
     },
     "execution_count": 19,
     "metadata": {},
     "output_type": "execute_result"
    }
   ],
   "source": [
    "np.inf / np.inf"
   ]
  },
  {
   "cell_type": "markdown",
   "id": "03e75c9d-62a5-4eb3-ad97-a8f4f9d3117e",
   "metadata": {},
   "source": [
    "#### 1️⃣ Basic Operations with `np.inf`\n",
    "\n",
    "| **Operation**     | **Result** | **Explanation** |\n",
    "|------------------|-----------|----------------|\n",
    "| `np.inf + 10`   | `inf`     | Adding a finite number to infinity is still infinity. |\n",
    "| `np.inf - 100`  | `inf`     | Subtracting a finite number doesn't change infinity. |\n",
    "| `-np.inf + 50`  | `-inf`    | Negative infinity remains negative. |\n",
    "| `np.inf * 2`    | `inf`     | Infinity times any positive number is still infinity. |\n",
    "| `np.inf * -3`   | `-inf`    | Multiplying by a negative flips the sign. |\n",
    "| `np.inf / 2`    | `inf`     | Infinity divided by any positive number is still infinity. |\n",
    "| `np.inf / -1`   | `-inf`    | Dividing by a negative flips the sign. |\n",
    "| `1 / np.inf`    | `0.0`     | Anything divided by infinity approaches zero. |\n",
    "\n",
    "---\n",
    "\n",
    "#### 2️⃣ Special Cases Leading to `NaN`\n",
    "\n",
    "| **Operation**      | **Result** | **Why?** |\n",
    "|-------------------|-----------|----------|\n",
    "| `np.inf - np.inf` | `nan`     | **Undefined**: Infinity minus infinity is ambiguous. |\n",
    "| `np.inf / np.inf` | `nan`     | **Undefined**: Infinity divided by infinity is ambiguous. |\n",
    "| `np.inf * 0`      | `nan`     | **Undefined**: Anything times zero is undefined. |\n",
    "| `0 / np.inf`      | `0.0`     | Zero divided by infinity is well-defined (approaches zero). |\n",
    "|-------------------|-----------|----------------|\n",
    "| `np.nan + np.inf` | `nan`     | Undefined behavior (NaN represents an unknown value, and Infinity cannot resolve it). |\n",
    "| `np.nan - np.inf` | `nan`     | Same as above (Infinity with NaN is still unknown). |\n",
    "| `np.nan * np.inf` | `nan`     | Multiplication with NaN results in NaN. |\n",
    "| `np.nan / np.inf` | `nan`     | NaN divided by any number remains NaN. |\n"
   ]
  },
  {
   "cell_type": "code",
   "execution_count": 20,
   "id": "12f71c04-256c-4e14-b123-d956c399ecf5",
   "metadata": {},
   "outputs": [
    {
     "data": {
      "text/plain": [
       "array([ 1.,  2.,  3., inf, nan,  4.])"
      ]
     },
     "execution_count": 20,
     "metadata": {},
     "output_type": "execute_result"
    }
   ],
   "source": [
    "# now applying this into np array\n",
    "b = np.array([1, 2, 3, np.inf, np.nan, 4], dtype=float)\n",
    "b"
   ]
  },
  {
   "cell_type": "code",
   "execution_count": 21,
   "id": "46db6b95-1bef-4f61-8dd1-97f02e2f363f",
   "metadata": {},
   "outputs": [
    {
     "data": {
      "text/plain": [
       "nan"
      ]
     },
     "execution_count": 21,
     "metadata": {},
     "output_type": "execute_result"
    }
   ],
   "source": [
    "b.sum()"
   ]
  },
  {
   "cell_type": "markdown",
   "id": "4b8b8252-ac8f-41ad-8c93-cb120de4ae74",
   "metadata": {},
   "source": [
    "### **Checking for nan or inf**"
   ]
  },
  {
   "cell_type": "markdown",
   "id": "745bd7b6-1ddf-4963-8e6e-80bc4db88023",
   "metadata": {},
   "source": [
    "There are two functions: **np.isnan** and **np.isinf** that will perform the desired checks:"
   ]
  },
  {
   "cell_type": "markdown",
   "id": "8fff1751-503a-4895-8bfa-1683037dcb45",
   "metadata": {},
   "source": [
    "1️⃣ np.isnan() – Check for NaN (Not a Number)  \n",
    "✅ Used to detect missing or undefined numerical values (NaN)."
   ]
  },
  {
   "cell_type": "markdown",
   "id": "6c6a4aad-00ce-4efb-bb6c-6343652b9f50",
   "metadata": {},
   "source": [
    "2️⃣ np.isinf() – Check for Infinity (inf, -inf)  \n",
    "✅ Used to detect positive or negative infinity (np.inf, -np.inf)."
   ]
  },
  {
   "cell_type": "markdown",
   "id": "c225ef32-fe1a-4435-8879-457e90a400fd",
   "metadata": {},
   "source": [
    "#### 🔹 NumPy Functions for Checking Special Values\n",
    "\n",
    "| **Function**      | **Checks for**       | **Returns `True` for**             |\n",
    "|------------------|---------------------|----------------------------------|\n",
    "| `np.isnan(x)`   | `NaN` values         | `np.nan`                        |\n",
    "| `np.isinf(x)`   | Infinite values      | `np.inf`, `-np.inf`             |\n",
    "| `np.isfinite(x)` | Finite numbers      | Everything except `NaN`, `inf`, `-inf` |\n"
   ]
  },
  {
   "cell_type": "code",
   "execution_count": 22,
   "id": "3787a74a-b5c2-49da-942b-a732e7fba389",
   "metadata": {},
   "outputs": [
    {
     "data": {
      "text/plain": [
       "True"
      ]
     },
     "execution_count": 22,
     "metadata": {},
     "output_type": "execute_result"
    }
   ],
   "source": [
    "np.isnan(np.nan)"
   ]
  },
  {
   "cell_type": "code",
   "execution_count": 24,
   "id": "45e22266-b3cd-46fc-b84e-316021dc168e",
   "metadata": {},
   "outputs": [
    {
     "data": {
      "text/plain": [
       "True"
      ]
     },
     "execution_count": 24,
     "metadata": {},
     "output_type": "execute_result"
    }
   ],
   "source": [
    "np.isinf(np.inf)"
   ]
  },
  {
   "cell_type": "markdown",
   "id": "287ab4b3-cb01-414a-ad0f-e84169b5ca83",
   "metadata": {},
   "source": [
    "And the joint operation can be performed with np.isfinite."
   ]
  },
  {
   "cell_type": "markdown",
   "id": "34e98bd3-181e-444b-b663-4efe6dc25360",
   "metadata": {},
   "source": [
    "**np.isfinite()** checks whether each element in an array is a finite number, meaning it is not NaN, inf, or -inf."
   ]
  },
  {
   "cell_type": "code",
   "execution_count": 25,
   "id": "339c321f-eeaf-4f77-93ce-884c00741c18",
   "metadata": {},
   "outputs": [
    {
     "data": {
      "text/plain": [
       "(False, False)"
      ]
     },
     "execution_count": 25,
     "metadata": {},
     "output_type": "execute_result"
    }
   ],
   "source": [
    "np.isfinite(np.nan) , np.isfinite(np.inf)"
   ]
  },
  {
   "cell_type": "markdown",
   "id": "b590d91e-6513-476e-aed0-dc2af794367a",
   "metadata": {},
   "source": [
    "**np.isnan** and **np.isinf** also take arrays as inputs, and return boolean arrays as results:"
   ]
  },
  {
   "cell_type": "code",
   "execution_count": 26,
   "id": "ae30ab11-d384-43b7-82cc-df117f9f272a",
   "metadata": {},
   "outputs": [
    {
     "data": {
      "text/plain": [
       "array([False, False, False,  True, False, False])"
      ]
     },
     "execution_count": 26,
     "metadata": {},
     "output_type": "execute_result"
    }
   ],
   "source": [
    "np.isnan([1,2,3,np.nan,np.inf,4])"
   ]
  },
  {
   "cell_type": "code",
   "execution_count": 27,
   "id": "7f0171a0-ecc3-42e1-ae65-0f8c196fe747",
   "metadata": {},
   "outputs": [
    {
     "data": {
      "text/plain": [
       "array([False, False, False, False,  True, False])"
      ]
     },
     "execution_count": 27,
     "metadata": {},
     "output_type": "execute_result"
    }
   ],
   "source": [
    "np.isinf(np.array([1, 2, 3, np.nan, np.inf, 4]))"
   ]
  },
  {
   "cell_type": "code",
   "execution_count": 28,
   "id": "c05e511d-45e4-410b-b325-dbe5a81a9166",
   "metadata": {},
   "outputs": [
    {
     "data": {
      "text/plain": [
       "array([ True,  True,  True, False, False,  True])"
      ]
     },
     "execution_count": 28,
     "metadata": {},
     "output_type": "execute_result"
    }
   ],
   "source": [
    "np.isfinite(np.array([1, 2, 3, np.nan, np.inf, 4]))"
   ]
  },
  {
   "cell_type": "markdown",
   "id": "6f639de6-ab1a-4ad1-99bc-05630add2cab",
   "metadata": {},
   "source": [
    "**Note: It's not so common to find infinite values. From now on, we'll keep working with only np.nan**"
   ]
  },
  {
   "cell_type": "markdown",
   "id": "26677d36-5e60-4201-a2df-9e31f6fa0fad",
   "metadata": {},
   "source": [
    "### **Filtering them out**"
   ]
  },
  {
   "cell_type": "markdown",
   "id": "975dd36f-f0d5-4b9e-b1a6-6fe2e16ba27f",
   "metadata": {},
   "source": [
    "Whenever you're trying to perform an operation with a Numpy array and you know there might be missing values, you'll need to filter them out before proceeding, to avoid nan propagation. We'll use a combination of the previous np.isnan + boolean arrays for this purpose:"
   ]
  },
  {
   "cell_type": "code",
   "execution_count": 29,
   "id": "aa13bad7-fa57-47a7-911b-ad808a4e6251",
   "metadata": {},
   "outputs": [],
   "source": [
    "a = np.array([1, 2, 3, np.nan, np.nan, 4])"
   ]
  },
  {
   "cell_type": "code",
   "execution_count": 30,
   "id": "58d8ca21-9518-4dd0-8bd5-210bac5f256e",
   "metadata": {},
   "outputs": [
    {
     "data": {
      "text/plain": [
       "array([1., 2., 3., 4.])"
      ]
     },
     "execution_count": 30,
     "metadata": {},
     "output_type": "execute_result"
    }
   ],
   "source": [
    "a[~np.isnan(a)]"
   ]
  },
  {
   "cell_type": "markdown",
   "id": "0b90e2f2-b9fc-4de1-8aeb-cd1421743f26",
   "metadata": {},
   "source": [
    "Which is equivalent to:"
   ]
  },
  {
   "cell_type": "code",
   "execution_count": 32,
   "id": "3bed933c-bd9b-4d8b-b567-ef22d5d36281",
   "metadata": {},
   "outputs": [
    {
     "data": {
      "text/plain": [
       "array([1., 2., 3., 4.])"
      ]
     },
     "execution_count": 32,
     "metadata": {},
     "output_type": "execute_result"
    }
   ],
   "source": [
    "a[np.isfinite(a)]"
   ]
  },
  {
   "cell_type": "markdown",
   "id": "9ec0901b-8d8b-44cd-999c-1c2e86f238ca",
   "metadata": {},
   "source": [
    "And with that result, all the operation can be now performed:"
   ]
  },
  {
   "cell_type": "code",
   "execution_count": 33,
   "id": "129ec102-5a84-42a4-a45b-1fb82b212bf8",
   "metadata": {},
   "outputs": [
    {
     "data": {
      "text/plain": [
       "10.0"
      ]
     },
     "execution_count": 33,
     "metadata": {},
     "output_type": "execute_result"
    }
   ],
   "source": [
    "# now we can perform operations using finite values of a\n",
    "a[np.isfinite(a)].sum()"
   ]
  },
  {
   "cell_type": "code",
   "execution_count": 35,
   "id": "95e6dd84-76e2-4672-b5d3-8575003b1a01",
   "metadata": {},
   "outputs": [
    {
     "data": {
      "text/plain": [
       "2.5"
      ]
     },
     "execution_count": 35,
     "metadata": {},
     "output_type": "execute_result"
    }
   ],
   "source": [
    "a[np.isfinite(a)].mean()"
   ]
  }
 ],
 "metadata": {
  "kernelspec": {
   "display_name": "Python 3 (ipykernel)",
   "language": "python",
   "name": "python3"
  },
  "language_info": {
   "codemirror_mode": {
    "name": "ipython",
    "version": 3
   },
   "file_extension": ".py",
   "mimetype": "text/x-python",
   "name": "python",
   "nbconvert_exporter": "python",
   "pygments_lexer": "ipython3",
   "version": "3.9.6"
  }
 },
 "nbformat": 4,
 "nbformat_minor": 5
}
