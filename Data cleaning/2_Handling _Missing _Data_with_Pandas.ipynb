{
 "cells": [
  {
   "cell_type": "markdown",
   "id": "75993cef-6de0-4d47-8078-45556ae6757e",
   "metadata": {},
   "source": [
    "## **Handling Missing Data with Pandas**\n",
    "pandas borrows all the capabilities from numpy selection + adds a number of convenient methods to handle missing values. Let's see one at a time:"
   ]
  },
  {
   "cell_type": "markdown",
   "id": "e7baa1f8-dcbf-46c9-b23f-c7c58b644587",
   "metadata": {},
   "source": [
    "---"
   ]
  },
  {
   "cell_type": "markdown",
   "id": "84f663a7-47ea-4d0c-bd57-f64a11b573bb",
   "metadata": {},
   "source": [
    "### **Hands on!!**"
   ]
  },
  {
   "cell_type": "code",
   "execution_count": 1,
   "id": "b2abe211-ddcc-4c8b-9eb5-296267ce3634",
   "metadata": {},
   "outputs": [],
   "source": [
    "# importing stuffs\n",
    "import numpy as np\n",
    "import pandas as pd"
   ]
  },
  {
   "cell_type": "markdown",
   "id": "8e885329-f8ec-4e7a-9e85-a278b105d612",
   "metadata": {},
   "source": [
    "### Pandas utility functions"
   ]
  },
  {
   "cell_type": "markdown",
   "id": "93ece12f-dda0-4e14-b11c-22ac5ac78ace",
   "metadata": {},
   "source": [
    "Similarly to numpy, pandas also has a few utility functions to identify and detect null values:"
   ]
  },
  {
   "cell_type": "code",
   "execution_count": 2,
   "id": "2b2525aa-09ad-4466-befd-d89ffd0bdcce",
   "metadata": {},
   "outputs": [
    {
     "data": {
      "text/plain": [
       "True"
      ]
     },
     "execution_count": 2,
     "metadata": {},
     "output_type": "execute_result"
    }
   ],
   "source": [
    "# isnull() returns true of the value inside is null and false if its not null\n",
    "pd.isnull(np.nan)"
   ]
  },
  {
   "cell_type": "code",
   "execution_count": 3,
   "id": "c5f0a31f-a9c0-401b-b25c-e9287589f3f5",
   "metadata": {},
   "outputs": [
    {
     "data": {
      "text/plain": [
       "True"
      ]
     },
     "execution_count": 3,
     "metadata": {},
     "output_type": "execute_result"
    }
   ],
   "source": [
    "# checking None is null or not\n",
    "pd.isnull(None)"
   ]
  },
  {
   "cell_type": "code",
   "execution_count": 4,
   "id": "40d805ae-8fbb-4164-8218-809d6fb00893",
   "metadata": {},
   "outputs": [
    {
     "data": {
      "text/plain": [
       "True"
      ]
     },
     "execution_count": 4,
     "metadata": {},
     "output_type": "execute_result"
    }
   ],
   "source": [
    "pd.isna(np.nan)"
   ]
  },
  {
   "cell_type": "code",
   "execution_count": 5,
   "id": "e1da195e-c626-474c-b015-f43bd274f7a5",
   "metadata": {},
   "outputs": [
    {
     "data": {
      "text/plain": [
       "True"
      ]
     },
     "execution_count": 5,
     "metadata": {},
     "output_type": "execute_result"
    }
   ],
   "source": [
    "pd.isna(None)"
   ]
  },
  {
   "cell_type": "markdown",
   "id": "f8db4e2c-47d3-4a4f-8267-9138f0a4188a",
   "metadata": {},
   "source": [
    "There is no difference! isnull() and isna() are identical in Pandas. Both are used to detect missing (null) values in a DataFrame or Series."
   ]
  },
  {
   "cell_type": "markdown",
   "id": "643abf35-dd06-4e37-a7c1-56870e4b33b5",
   "metadata": {},
   "source": [
    "now checking the opposite function of the above functions"
   ]
  },
  {
   "cell_type": "code",
   "execution_count": 6,
   "id": "185c054a-39cc-456c-9258-71a439bef9f0",
   "metadata": {},
   "outputs": [
    {
     "data": {
      "text/plain": [
       "False"
      ]
     },
     "execution_count": 6,
     "metadata": {},
     "output_type": "execute_result"
    }
   ],
   "source": [
    "pd.notnull(np.nan)"
   ]
  },
  {
   "cell_type": "code",
   "execution_count": 7,
   "id": "3dbf08c3-e304-44f9-ac18-75cade5355e9",
   "metadata": {},
   "outputs": [
    {
     "data": {
      "text/plain": [
       "False"
      ]
     },
     "execution_count": 7,
     "metadata": {},
     "output_type": "execute_result"
    }
   ],
   "source": [
    "pd.notna(np.nan)"
   ]
  },
  {
   "cell_type": "code",
   "execution_count": 8,
   "id": "cf2a9550-a944-4c56-9292-f336a0090d1b",
   "metadata": {},
   "outputs": [
    {
     "data": {
      "text/plain": [
       "False"
      ]
     },
     "execution_count": 8,
     "metadata": {},
     "output_type": "execute_result"
    }
   ],
   "source": [
    "pd.notnull(None)"
   ]
  },
  {
   "cell_type": "code",
   "execution_count": 9,
   "id": "c6b24108-cf99-41fe-8961-25f749ee4873",
   "metadata": {},
   "outputs": [
    {
     "data": {
      "text/plain": [
       "False"
      ]
     },
     "execution_count": 9,
     "metadata": {},
     "output_type": "execute_result"
    }
   ],
   "source": [
    "pd.notna(None)"
   ]
  },
  {
   "cell_type": "code",
   "execution_count": 10,
   "id": "8acd89f4-1375-45c2-a23b-0b003cfbd6a8",
   "metadata": {},
   "outputs": [
    {
     "data": {
      "text/plain": [
       "True"
      ]
     },
     "execution_count": 10,
     "metadata": {},
     "output_type": "execute_result"
    }
   ],
   "source": [
    "pd.notnull(3)"
   ]
  },
  {
   "cell_type": "markdown",
   "id": "2cd3c4ac-2c50-4fb7-a100-933e11922a6f",
   "metadata": {},
   "source": [
    "These functions also work with Series and DataFrames:"
   ]
  },
  {
   "cell_type": "code",
   "execution_count": 11,
   "id": "37d326f8-378e-4f2e-82f5-0afb3980fb09",
   "metadata": {},
   "outputs": [
    {
     "data": {
      "text/plain": [
       "0    False\n",
       "1    False\n",
       "2     True\n",
       "3     True\n",
       "4    False\n",
       "dtype: bool"
      ]
     },
     "execution_count": 11,
     "metadata": {},
     "output_type": "execute_result"
    }
   ],
   "source": [
    "# here we will be checking the above functions with series and dataframe\n",
    "# creating a series\n",
    "x = pd.Series([1,2,np.nan,None,7])\n",
    "pd.isnull(x)"
   ]
  },
  {
   "cell_type": "code",
   "execution_count": 12,
   "id": "b4f46963-0f2a-4301-90cc-563a18768a28",
   "metadata": {},
   "outputs": [
    {
     "data": {
      "text/plain": [
       "0     True\n",
       "1     True\n",
       "2    False\n",
       "3    False\n",
       "4     True\n",
       "dtype: bool"
      ]
     },
     "execution_count": 12,
     "metadata": {},
     "output_type": "execute_result"
    }
   ],
   "source": [
    "pd.notnull(x)"
   ]
  },
  {
   "cell_type": "code",
   "execution_count": 13,
   "id": "296b02ca-3784-4eea-b5ed-7b1f7e290400",
   "metadata": {},
   "outputs": [],
   "source": [
    "# now checking for dataframes\n",
    "df = pd.DataFrame({\n",
    "    'Column A': [1, np.nan, 7],\n",
    "    'Column B': [np.nan, 2, 3],\n",
    "    'Column C': [np.nan, 2, np.nan]\n",
    "})"
   ]
  },
  {
   "cell_type": "code",
   "execution_count": 14,
   "id": "fcdc9a25-19a2-441b-b892-19453daaa136",
   "metadata": {},
   "outputs": [
    {
     "data": {
      "text/html": [
       "<div>\n",
       "<style scoped>\n",
       "    .dataframe tbody tr th:only-of-type {\n",
       "        vertical-align: middle;\n",
       "    }\n",
       "\n",
       "    .dataframe tbody tr th {\n",
       "        vertical-align: top;\n",
       "    }\n",
       "\n",
       "    .dataframe thead th {\n",
       "        text-align: right;\n",
       "    }\n",
       "</style>\n",
       "<table border=\"1\" class=\"dataframe\">\n",
       "  <thead>\n",
       "    <tr style=\"text-align: right;\">\n",
       "      <th></th>\n",
       "      <th>Column A</th>\n",
       "      <th>Column B</th>\n",
       "      <th>Column C</th>\n",
       "    </tr>\n",
       "  </thead>\n",
       "  <tbody>\n",
       "    <tr>\n",
       "      <th>0</th>\n",
       "      <td>False</td>\n",
       "      <td>True</td>\n",
       "      <td>True</td>\n",
       "    </tr>\n",
       "    <tr>\n",
       "      <th>1</th>\n",
       "      <td>True</td>\n",
       "      <td>False</td>\n",
       "      <td>False</td>\n",
       "    </tr>\n",
       "    <tr>\n",
       "      <th>2</th>\n",
       "      <td>False</td>\n",
       "      <td>False</td>\n",
       "      <td>True</td>\n",
       "    </tr>\n",
       "  </tbody>\n",
       "</table>\n",
       "</div>"
      ],
      "text/plain": [
       "   Column A  Column B  Column C\n",
       "0     False      True      True\n",
       "1      True     False     False\n",
       "2     False     False      True"
      ]
     },
     "execution_count": 14,
     "metadata": {},
     "output_type": "execute_result"
    }
   ],
   "source": [
    "pd.isnull(df)"
   ]
  },
  {
   "cell_type": "code",
   "execution_count": 15,
   "id": "612742c9-e207-4689-9682-5a0cb38c0f90",
   "metadata": {},
   "outputs": [
    {
     "data": {
      "text/html": [
       "<div>\n",
       "<style scoped>\n",
       "    .dataframe tbody tr th:only-of-type {\n",
       "        vertical-align: middle;\n",
       "    }\n",
       "\n",
       "    .dataframe tbody tr th {\n",
       "        vertical-align: top;\n",
       "    }\n",
       "\n",
       "    .dataframe thead th {\n",
       "        text-align: right;\n",
       "    }\n",
       "</style>\n",
       "<table border=\"1\" class=\"dataframe\">\n",
       "  <thead>\n",
       "    <tr style=\"text-align: right;\">\n",
       "      <th></th>\n",
       "      <th>Column A</th>\n",
       "      <th>Column B</th>\n",
       "      <th>Column C</th>\n",
       "    </tr>\n",
       "  </thead>\n",
       "  <tbody>\n",
       "    <tr>\n",
       "      <th>0</th>\n",
       "      <td>True</td>\n",
       "      <td>False</td>\n",
       "      <td>False</td>\n",
       "    </tr>\n",
       "    <tr>\n",
       "      <th>1</th>\n",
       "      <td>False</td>\n",
       "      <td>True</td>\n",
       "      <td>True</td>\n",
       "    </tr>\n",
       "    <tr>\n",
       "      <th>2</th>\n",
       "      <td>True</td>\n",
       "      <td>True</td>\n",
       "      <td>False</td>\n",
       "    </tr>\n",
       "  </tbody>\n",
       "</table>\n",
       "</div>"
      ],
      "text/plain": [
       "   Column A  Column B  Column C\n",
       "0      True     False     False\n",
       "1     False      True      True\n",
       "2      True      True     False"
      ]
     },
     "execution_count": 15,
     "metadata": {},
     "output_type": "execute_result"
    }
   ],
   "source": [
    "pd.notnull(df)"
   ]
  },
  {
   "cell_type": "markdown",
   "id": "90dff842-4119-4045-9109-a0e7c4419422",
   "metadata": {},
   "source": [
    "### Pandas operation with missing values"
   ]
  },
  {
   "cell_type": "markdown",
   "id": "e2fb13ed-3a5f-4c7c-8876-a8851ade102b",
   "metadata": {},
   "source": [
    "Pandas manages missing values more gracefully than numpy. nans will no longer behave as \"viruses\", and operations will just ignore them completely:"
   ]
  },
  {
   "cell_type": "code",
   "execution_count": 16,
   "id": "34c2b228-3787-4bbe-a857-0d8e85e0b890",
   "metadata": {},
   "outputs": [
    {
     "data": {
      "text/plain": [
       "0    1.0\n",
       "1    2.0\n",
       "2    NaN\n",
       "3    NaN\n",
       "4    7.0\n",
       "dtype: float64"
      ]
     },
     "execution_count": 16,
     "metadata": {},
     "output_type": "execute_result"
    }
   ],
   "source": [
    "# x is a series as mentioned above\n",
    "x"
   ]
  },
  {
   "cell_type": "code",
   "execution_count": 17,
   "id": "56f57425-573f-4ff4-bca1-1e12c25e92de",
   "metadata": {},
   "outputs": [
    {
     "data": {
      "text/plain": [
       "10.0"
      ]
     },
     "execution_count": 17,
     "metadata": {},
     "output_type": "execute_result"
    }
   ],
   "source": [
    "x.sum()"
   ]
  },
  {
   "cell_type": "code",
   "execution_count": 18,
   "id": "080d7dc0-82aa-47d9-868d-527d8ec782bd",
   "metadata": {},
   "outputs": [
    {
     "data": {
      "text/plain": [
       "3"
      ]
     },
     "execution_count": 18,
     "metadata": {},
     "output_type": "execute_result"
    }
   ],
   "source": [
    "x.count()"
   ]
  },
  {
   "cell_type": "code",
   "execution_count": 19,
   "id": "a35312c1-c219-4db3-8304-3bbdaa842a77",
   "metadata": {},
   "outputs": [
    {
     "data": {
      "text/plain": [
       "3.3333333333333335"
      ]
     },
     "execution_count": 19,
     "metadata": {},
     "output_type": "execute_result"
    }
   ],
   "source": [
    "x.mean()"
   ]
  },
  {
   "cell_type": "markdown",
   "id": "941b5ab6-4423-41e6-86e4-6854e9425a48",
   "metadata": {},
   "source": [
    "note that pandas disregards nan values while counting or performing operations  \n",
    "When series containing null values are converted into boolean series/arrays then pandas operation consider true as 1 and false as 0"
   ]
  },
  {
   "cell_type": "markdown",
   "id": "8e5ee560-8a3b-4ecf-b00a-c0e3d54d698a",
   "metadata": {},
   "source": [
    "### Filtering missing data"
   ]
  },
  {
   "cell_type": "markdown",
   "id": "b2548c43-3054-44e3-a256-ec3e3c5394a7",
   "metadata": {},
   "source": [
    "As we saw with numpy, we could combine boolean selection + pd.isnull to filter out those nans and null values:"
   ]
  },
  {
   "cell_type": "code",
   "execution_count": 20,
   "id": "f496d8d2-b35e-4349-9294-924f70dece2d",
   "metadata": {},
   "outputs": [],
   "source": [
    "s = pd.Series([1, 2, 3, np.nan, np.nan, 4])"
   ]
  },
  {
   "cell_type": "code",
   "execution_count": 21,
   "id": "1ff3b5d7-b959-4a77-bc71-c6f7a1d79021",
   "metadata": {},
   "outputs": [
    {
     "data": {
      "text/plain": [
       "0     True\n",
       "1     True\n",
       "2     True\n",
       "3    False\n",
       "4    False\n",
       "5     True\n",
       "dtype: bool"
      ]
     },
     "execution_count": 21,
     "metadata": {},
     "output_type": "execute_result"
    }
   ],
   "source": [
    "pd.notnull(s)"
   ]
  },
  {
   "cell_type": "code",
   "execution_count": 22,
   "id": "e12e295c-94bc-49dd-a8d8-babc6ef58557",
   "metadata": {},
   "outputs": [
    {
     "data": {
      "text/plain": [
       "0    False\n",
       "1    False\n",
       "2    False\n",
       "3     True\n",
       "4     True\n",
       "5    False\n",
       "dtype: bool"
      ]
     },
     "execution_count": 22,
     "metadata": {},
     "output_type": "execute_result"
    }
   ],
   "source": [
    "pd.isnull(s)"
   ]
  },
  {
   "cell_type": "code",
   "execution_count": 23,
   "id": "7c3edea8-ffd7-4671-abe7-e05e6ee8e613",
   "metadata": {},
   "outputs": [
    {
     "data": {
      "text/plain": [
       "2"
      ]
     },
     "execution_count": 23,
     "metadata": {},
     "output_type": "execute_result"
    }
   ],
   "source": [
    "# now performing operation on the series\n",
    "pd.isnull(s).sum()"
   ]
  },
  {
   "cell_type": "code",
   "execution_count": 24,
   "id": "bb4da713-e0e8-4117-aa93-72af53715603",
   "metadata": {},
   "outputs": [
    {
     "data": {
      "text/plain": [
       "4"
      ]
     },
     "execution_count": 24,
     "metadata": {},
     "output_type": "execute_result"
    }
   ],
   "source": [
    "pd.notnull(s).sum()"
   ]
  },
  {
   "cell_type": "code",
   "execution_count": 25,
   "id": "0b037cc9-cf5d-4b1b-bdc5-d9f70c77df2a",
   "metadata": {},
   "outputs": [
    {
     "data": {
      "text/plain": [
       "6"
      ]
     },
     "execution_count": 25,
     "metadata": {},
     "output_type": "execute_result"
    }
   ],
   "source": [
    "pd.notnull(s).count()"
   ]
  },
  {
   "cell_type": "code",
   "execution_count": 26,
   "id": "6db2bc85-5007-467d-ae54-4f3a4fa7ce50",
   "metadata": {},
   "outputs": [
    {
     "data": {
      "text/plain": [
       "3   NaN\n",
       "4   NaN\n",
       "dtype: float64"
      ]
     },
     "execution_count": 26,
     "metadata": {},
     "output_type": "execute_result"
    }
   ],
   "source": [
    "# now selecting values right from the series s\n",
    "s[pd.isnull(s)]"
   ]
  },
  {
   "cell_type": "code",
   "execution_count": 27,
   "id": "8f8fac60-0c19-415d-8eb7-fc8083132cf2",
   "metadata": {},
   "outputs": [
    {
     "data": {
      "text/plain": [
       "0    1.0\n",
       "1    2.0\n",
       "2    3.0\n",
       "5    4.0\n",
       "dtype: float64"
      ]
     },
     "execution_count": 27,
     "metadata": {},
     "output_type": "execute_result"
    }
   ],
   "source": [
    "s[pd.notnull(s)]"
   ]
  },
  {
   "cell_type": "markdown",
   "id": "74c27142-a996-48e2-98c6-662c4db4bf98",
   "metadata": {},
   "source": [
    "But both notnull and isnull are also methods of Series and DataFrames, so we could use it that way:"
   ]
  },
  {
   "cell_type": "code",
   "execution_count": 28,
   "id": "e9ae281a-436a-4220-8da7-35c56247cc14",
   "metadata": {},
   "outputs": [
    {
     "data": {
      "text/plain": [
       "0    False\n",
       "1    False\n",
       "2    False\n",
       "3     True\n",
       "4     True\n",
       "5    False\n",
       "dtype: bool"
      ]
     },
     "execution_count": 28,
     "metadata": {},
     "output_type": "execute_result"
    }
   ],
   "source": [
    "# since series and dataframes also have isnull() and notnull() as functions so we can use it directly\n",
    "s.isnull()"
   ]
  },
  {
   "cell_type": "code",
   "execution_count": 29,
   "id": "b37df0b6-4707-4ca0-ac56-c4302f766f47",
   "metadata": {},
   "outputs": [
    {
     "data": {
      "text/plain": [
       "0     True\n",
       "1     True\n",
       "2     True\n",
       "3    False\n",
       "4    False\n",
       "5     True\n",
       "dtype: bool"
      ]
     },
     "execution_count": 29,
     "metadata": {},
     "output_type": "execute_result"
    }
   ],
   "source": [
    "s.notnull()"
   ]
  },
  {
   "cell_type": "code",
   "execution_count": 30,
   "id": "f0791b39-b484-4a34-972f-8e0323e394e5",
   "metadata": {},
   "outputs": [
    {
     "data": {
      "text/plain": [
       "0    1.0\n",
       "1    2.0\n",
       "2    3.0\n",
       "5    4.0\n",
       "dtype: float64"
      ]
     },
     "execution_count": 30,
     "metadata": {},
     "output_type": "execute_result"
    }
   ],
   "source": [
    "# we can also write \n",
    "s[s.notnull()]"
   ]
  },
  {
   "cell_type": "markdown",
   "id": "2e52dabf-0013-4d6b-b022-e609d24fc056",
   "metadata": {},
   "source": [
    "### Dropping null values"
   ]
  },
  {
   "cell_type": "markdown",
   "id": "ca1679e4-c0df-4093-a5bf-b4af2c982e52",
   "metadata": {},
   "source": [
    "Boolean selection + notnull() seems a little bit verbose and repetitive. And as we said before: any repetitive task will probably have a better, more DRY way. In this case, we can use the **dropna** method:"
   ]
  },
  {
   "cell_type": "code",
   "execution_count": 31,
   "id": "1cab0cf6-bc0b-4e21-b0af-a5bbbfaf50bf",
   "metadata": {},
   "outputs": [
    {
     "data": {
      "text/plain": [
       "0    1.0\n",
       "1    2.0\n",
       "2    3.0\n",
       "5    4.0\n",
       "dtype: float64"
      ]
     },
     "execution_count": 31,
     "metadata": {},
     "output_type": "execute_result"
    }
   ],
   "source": [
    "# here we will perform dropns method which will drop the null or nan values\n",
    "s.dropna()"
   ]
  },
  {
   "cell_type": "markdown",
   "id": "de52fcea-a9c5-4168-97c1-65b58b3a8258",
   "metadata": {},
   "source": [
    "s.dropna() perform basically the same task as s[s.notnull()]"
   ]
  },
  {
   "cell_type": "markdown",
   "id": "998c8134-79d1-4963-859f-281e42f73c84",
   "metadata": {},
   "source": [
    "Note that all these operations are immutable hence not changing the original series or dataframe"
   ]
  },
  {
   "cell_type": "code",
   "execution_count": 32,
   "id": "b748fea4-0037-4edf-960c-d44433960f4c",
   "metadata": {},
   "outputs": [
    {
     "data": {
      "text/plain": [
       "0    1.0\n",
       "1    2.0\n",
       "2    3.0\n",
       "3    NaN\n",
       "4    NaN\n",
       "5    4.0\n",
       "dtype: float64"
      ]
     },
     "execution_count": 32,
     "metadata": {},
     "output_type": "execute_result"
    }
   ],
   "source": [
    "s"
   ]
  },
  {
   "cell_type": "markdown",
   "id": "977f40e5-e8b1-4c0b-a063-cf9f8cfff558",
   "metadata": {},
   "source": [
    "see told ya !!"
   ]
  },
  {
   "cell_type": "markdown",
   "id": "f72800c2-eb62-4b4e-9921-2bd3338f3268",
   "metadata": {},
   "source": [
    "### Dropping null values on DataFrames"
   ]
  },
  {
   "cell_type": "markdown",
   "id": "96d605d3-4916-4df0-a75f-6d4220a67d5e",
   "metadata": {},
   "source": [
    "You saw how simple it is to drop nas with a Series. But with DataFrames, there will be a few more things to consider, because you can't drop single values. You can only drop entire columns or rows. Let's start with a sample DataFrame:"
   ]
  },
  {
   "cell_type": "code",
   "execution_count": 33,
   "id": "022138ec-f76b-4ae4-bae4-1caf27679072",
   "metadata": {},
   "outputs": [],
   "source": [
    "df = pd.DataFrame({\n",
    "    'Column A': [1, np.nan, 30, np.nan],\n",
    "    'Column B': [2, 8, 31, np.nan],\n",
    "    'Column C': [np.nan, 9, 32, 100],\n",
    "    'Column D': [5, 8, 34, 110],\n",
    "})"
   ]
  },
  {
   "cell_type": "code",
   "execution_count": 34,
   "id": "256dc522-c643-4c40-bbe8-f7c6a686ca2f",
   "metadata": {},
   "outputs": [
    {
     "data": {
      "text/html": [
       "<div>\n",
       "<style scoped>\n",
       "    .dataframe tbody tr th:only-of-type {\n",
       "        vertical-align: middle;\n",
       "    }\n",
       "\n",
       "    .dataframe tbody tr th {\n",
       "        vertical-align: top;\n",
       "    }\n",
       "\n",
       "    .dataframe thead th {\n",
       "        text-align: right;\n",
       "    }\n",
       "</style>\n",
       "<table border=\"1\" class=\"dataframe\">\n",
       "  <thead>\n",
       "    <tr style=\"text-align: right;\">\n",
       "      <th></th>\n",
       "      <th>Column A</th>\n",
       "      <th>Column B</th>\n",
       "      <th>Column C</th>\n",
       "      <th>Column D</th>\n",
       "    </tr>\n",
       "  </thead>\n",
       "  <tbody>\n",
       "    <tr>\n",
       "      <th>0</th>\n",
       "      <td>1.0</td>\n",
       "      <td>2.0</td>\n",
       "      <td>NaN</td>\n",
       "      <td>5</td>\n",
       "    </tr>\n",
       "    <tr>\n",
       "      <th>1</th>\n",
       "      <td>NaN</td>\n",
       "      <td>8.0</td>\n",
       "      <td>9.0</td>\n",
       "      <td>8</td>\n",
       "    </tr>\n",
       "    <tr>\n",
       "      <th>2</th>\n",
       "      <td>30.0</td>\n",
       "      <td>31.0</td>\n",
       "      <td>32.0</td>\n",
       "      <td>34</td>\n",
       "    </tr>\n",
       "    <tr>\n",
       "      <th>3</th>\n",
       "      <td>NaN</td>\n",
       "      <td>NaN</td>\n",
       "      <td>100.0</td>\n",
       "      <td>110</td>\n",
       "    </tr>\n",
       "  </tbody>\n",
       "</table>\n",
       "</div>"
      ],
      "text/plain": [
       "   Column A  Column B  Column C  Column D\n",
       "0       1.0       2.0       NaN         5\n",
       "1       NaN       8.0       9.0         8\n",
       "2      30.0      31.0      32.0        34\n",
       "3       NaN       NaN     100.0       110"
      ]
     },
     "execution_count": 34,
     "metadata": {},
     "output_type": "execute_result"
    }
   ],
   "source": [
    "df"
   ]
  },
  {
   "cell_type": "code",
   "execution_count": 35,
   "id": "afaebe92-a4ef-4cff-9bca-e5b2f747c1cd",
   "metadata": {},
   "outputs": [
    {
     "data": {
      "text/html": [
       "<div>\n",
       "<style scoped>\n",
       "    .dataframe tbody tr th:only-of-type {\n",
       "        vertical-align: middle;\n",
       "    }\n",
       "\n",
       "    .dataframe tbody tr th {\n",
       "        vertical-align: top;\n",
       "    }\n",
       "\n",
       "    .dataframe thead th {\n",
       "        text-align: right;\n",
       "    }\n",
       "</style>\n",
       "<table border=\"1\" class=\"dataframe\">\n",
       "  <thead>\n",
       "    <tr style=\"text-align: right;\">\n",
       "      <th></th>\n",
       "      <th>Column A</th>\n",
       "      <th>Column B</th>\n",
       "      <th>Column C</th>\n",
       "      <th>Column D</th>\n",
       "    </tr>\n",
       "  </thead>\n",
       "  <tbody>\n",
       "    <tr>\n",
       "      <th>0</th>\n",
       "      <td>False</td>\n",
       "      <td>False</td>\n",
       "      <td>True</td>\n",
       "      <td>False</td>\n",
       "    </tr>\n",
       "    <tr>\n",
       "      <th>1</th>\n",
       "      <td>True</td>\n",
       "      <td>False</td>\n",
       "      <td>False</td>\n",
       "      <td>False</td>\n",
       "    </tr>\n",
       "    <tr>\n",
       "      <th>2</th>\n",
       "      <td>False</td>\n",
       "      <td>False</td>\n",
       "      <td>False</td>\n",
       "      <td>False</td>\n",
       "    </tr>\n",
       "    <tr>\n",
       "      <th>3</th>\n",
       "      <td>True</td>\n",
       "      <td>True</td>\n",
       "      <td>False</td>\n",
       "      <td>False</td>\n",
       "    </tr>\n",
       "  </tbody>\n",
       "</table>\n",
       "</div>"
      ],
      "text/plain": [
       "   Column A  Column B  Column C  Column D\n",
       "0     False     False      True     False\n",
       "1      True     False     False     False\n",
       "2     False     False     False     False\n",
       "3      True      True     False     False"
      ]
     },
     "execution_count": 35,
     "metadata": {},
     "output_type": "execute_result"
    }
   ],
   "source": [
    "# every thing thats works with pd series also works with dataframes\n",
    "df.isnull()"
   ]
  },
  {
   "cell_type": "code",
   "execution_count": 36,
   "id": "3c1db1de-1741-43b3-a9dc-fddcce184189",
   "metadata": {},
   "outputs": [
    {
     "name": "stdout",
     "output_type": "stream",
     "text": [
      "<class 'pandas.core.frame.DataFrame'>\n",
      "RangeIndex: 4 entries, 0 to 3\n",
      "Data columns (total 4 columns):\n",
      " #   Column    Non-Null Count  Dtype  \n",
      "---  ------    --------------  -----  \n",
      " 0   Column A  2 non-null      float64\n",
      " 1   Column B  3 non-null      float64\n",
      " 2   Column C  3 non-null      float64\n",
      " 3   Column D  4 non-null      int64  \n",
      "dtypes: float64(3), int64(1)\n",
      "memory usage: 256.0 bytes\n"
     ]
    }
   ],
   "source": [
    "df.info()"
   ]
  },
  {
   "cell_type": "markdown",
   "id": "78fafa6a-7ed4-4a57-8d40-e5496c7303ec",
   "metadata": {},
   "source": [
    "df.info shows the entire information of the dataframe  \n",
    "here the df is representing exact number of not null values as shown above in the not-null count column"
   ]
  },
  {
   "cell_type": "code",
   "execution_count": 37,
   "id": "c9a0be7c-373c-4376-85b1-f1e814e6d83a",
   "metadata": {},
   "outputs": [
    {
     "data": {
      "text/html": [
       "<div>\n",
       "<style scoped>\n",
       "    .dataframe tbody tr th:only-of-type {\n",
       "        vertical-align: middle;\n",
       "    }\n",
       "\n",
       "    .dataframe tbody tr th {\n",
       "        vertical-align: top;\n",
       "    }\n",
       "\n",
       "    .dataframe thead th {\n",
       "        text-align: right;\n",
       "    }\n",
       "</style>\n",
       "<table border=\"1\" class=\"dataframe\">\n",
       "  <thead>\n",
       "    <tr style=\"text-align: right;\">\n",
       "      <th></th>\n",
       "      <th>Column A</th>\n",
       "      <th>Column B</th>\n",
       "      <th>Column C</th>\n",
       "      <th>Column D</th>\n",
       "    </tr>\n",
       "  </thead>\n",
       "  <tbody>\n",
       "    <tr>\n",
       "      <th>0</th>\n",
       "      <td>False</td>\n",
       "      <td>False</td>\n",
       "      <td>True</td>\n",
       "      <td>False</td>\n",
       "    </tr>\n",
       "    <tr>\n",
       "      <th>1</th>\n",
       "      <td>True</td>\n",
       "      <td>False</td>\n",
       "      <td>False</td>\n",
       "      <td>False</td>\n",
       "    </tr>\n",
       "    <tr>\n",
       "      <th>2</th>\n",
       "      <td>False</td>\n",
       "      <td>False</td>\n",
       "      <td>False</td>\n",
       "      <td>False</td>\n",
       "    </tr>\n",
       "    <tr>\n",
       "      <th>3</th>\n",
       "      <td>True</td>\n",
       "      <td>True</td>\n",
       "      <td>False</td>\n",
       "      <td>False</td>\n",
       "    </tr>\n",
       "  </tbody>\n",
       "</table>\n",
       "</div>"
      ],
      "text/plain": [
       "   Column A  Column B  Column C  Column D\n",
       "0     False     False      True     False\n",
       "1      True     False     False     False\n",
       "2     False     False     False     False\n",
       "3      True      True     False     False"
      ]
     },
     "execution_count": 37,
     "metadata": {},
     "output_type": "execute_result"
    }
   ],
   "source": [
    "df.isnull()"
   ]
  },
  {
   "cell_type": "code",
   "execution_count": 38,
   "id": "f5d22049-293c-43bc-9141-7a7201d85297",
   "metadata": {},
   "outputs": [
    {
     "data": {
      "text/plain": [
       "Column A    2\n",
       "Column B    1\n",
       "Column C    1\n",
       "Column D    0\n",
       "dtype: int64"
      ]
     },
     "execution_count": 38,
     "metadata": {},
     "output_type": "execute_result"
    }
   ],
   "source": [
    "# now we can perform operations\n",
    "df.isnull().sum()"
   ]
  },
  {
   "cell_type": "markdown",
   "id": "ae0f6f52-5172-43c2-9485-3e04ea8e533f",
   "metadata": {},
   "source": [
    "The default dropna behavior will drop all the rows in which atleast one null value is present:"
   ]
  },
  {
   "cell_type": "code",
   "execution_count": 39,
   "id": "30b8699e-6c18-414d-ab4f-11772eadf18e",
   "metadata": {},
   "outputs": [
    {
     "data": {
      "text/html": [
       "<div>\n",
       "<style scoped>\n",
       "    .dataframe tbody tr th:only-of-type {\n",
       "        vertical-align: middle;\n",
       "    }\n",
       "\n",
       "    .dataframe tbody tr th {\n",
       "        vertical-align: top;\n",
       "    }\n",
       "\n",
       "    .dataframe thead th {\n",
       "        text-align: right;\n",
       "    }\n",
       "</style>\n",
       "<table border=\"1\" class=\"dataframe\">\n",
       "  <thead>\n",
       "    <tr style=\"text-align: right;\">\n",
       "      <th></th>\n",
       "      <th>Column A</th>\n",
       "      <th>Column B</th>\n",
       "      <th>Column C</th>\n",
       "      <th>Column D</th>\n",
       "    </tr>\n",
       "  </thead>\n",
       "  <tbody>\n",
       "    <tr>\n",
       "      <th>0</th>\n",
       "      <td>1.0</td>\n",
       "      <td>2.0</td>\n",
       "      <td>NaN</td>\n",
       "      <td>5</td>\n",
       "    </tr>\n",
       "    <tr>\n",
       "      <th>1</th>\n",
       "      <td>NaN</td>\n",
       "      <td>8.0</td>\n",
       "      <td>9.0</td>\n",
       "      <td>8</td>\n",
       "    </tr>\n",
       "    <tr>\n",
       "      <th>2</th>\n",
       "      <td>30.0</td>\n",
       "      <td>31.0</td>\n",
       "      <td>32.0</td>\n",
       "      <td>34</td>\n",
       "    </tr>\n",
       "    <tr>\n",
       "      <th>3</th>\n",
       "      <td>NaN</td>\n",
       "      <td>NaN</td>\n",
       "      <td>100.0</td>\n",
       "      <td>110</td>\n",
       "    </tr>\n",
       "  </tbody>\n",
       "</table>\n",
       "</div>"
      ],
      "text/plain": [
       "   Column A  Column B  Column C  Column D\n",
       "0       1.0       2.0       NaN         5\n",
       "1       NaN       8.0       9.0         8\n",
       "2      30.0      31.0      32.0        34\n",
       "3       NaN       NaN     100.0       110"
      ]
     },
     "execution_count": 39,
     "metadata": {},
     "output_type": "execute_result"
    }
   ],
   "source": [
    "df"
   ]
  },
  {
   "cell_type": "code",
   "execution_count": 40,
   "id": "8b38eb7c-cf3e-4a41-a6c2-8321cefddd48",
   "metadata": {},
   "outputs": [
    {
     "data": {
      "text/html": [
       "<div>\n",
       "<style scoped>\n",
       "    .dataframe tbody tr th:only-of-type {\n",
       "        vertical-align: middle;\n",
       "    }\n",
       "\n",
       "    .dataframe tbody tr th {\n",
       "        vertical-align: top;\n",
       "    }\n",
       "\n",
       "    .dataframe thead th {\n",
       "        text-align: right;\n",
       "    }\n",
       "</style>\n",
       "<table border=\"1\" class=\"dataframe\">\n",
       "  <thead>\n",
       "    <tr style=\"text-align: right;\">\n",
       "      <th></th>\n",
       "      <th>Column A</th>\n",
       "      <th>Column B</th>\n",
       "      <th>Column C</th>\n",
       "      <th>Column D</th>\n",
       "    </tr>\n",
       "  </thead>\n",
       "  <tbody>\n",
       "    <tr>\n",
       "      <th>2</th>\n",
       "      <td>30.0</td>\n",
       "      <td>31.0</td>\n",
       "      <td>32.0</td>\n",
       "      <td>34</td>\n",
       "    </tr>\n",
       "  </tbody>\n",
       "</table>\n",
       "</div>"
      ],
      "text/plain": [
       "   Column A  Column B  Column C  Column D\n",
       "2      30.0      31.0      32.0        34"
      ]
     },
     "execution_count": 40,
     "metadata": {},
     "output_type": "execute_result"
    }
   ],
   "source": [
    "df.dropna()"
   ]
  },
  {
   "cell_type": "markdown",
   "id": "428565ff-c53c-4c4e-9d8d-e6f643501f36",
   "metadata": {},
   "source": [
    "see here all the rows except the row 2 is dropped since they all contained atleast 1 null value"
   ]
  },
  {
   "cell_type": "markdown",
   "id": "309f5ae6-7db6-4654-9d0d-1ff7e9657588",
   "metadata": {},
   "source": [
    "In this case we're dropping rows. Rows containing null values are dropped from the DF. You can also use the axis parameter to drop columns containing null values:"
   ]
  },
  {
   "cell_type": "code",
   "execution_count": 41,
   "id": "5bc4b303-aff5-4c43-a77a-76c7d94db335",
   "metadata": {},
   "outputs": [
    {
     "data": {
      "text/html": [
       "<div>\n",
       "<style scoped>\n",
       "    .dataframe tbody tr th:only-of-type {\n",
       "        vertical-align: middle;\n",
       "    }\n",
       "\n",
       "    .dataframe tbody tr th {\n",
       "        vertical-align: top;\n",
       "    }\n",
       "\n",
       "    .dataframe thead th {\n",
       "        text-align: right;\n",
       "    }\n",
       "</style>\n",
       "<table border=\"1\" class=\"dataframe\">\n",
       "  <thead>\n",
       "    <tr style=\"text-align: right;\">\n",
       "      <th></th>\n",
       "      <th>Column D</th>\n",
       "    </tr>\n",
       "  </thead>\n",
       "  <tbody>\n",
       "    <tr>\n",
       "      <th>0</th>\n",
       "      <td>5</td>\n",
       "    </tr>\n",
       "    <tr>\n",
       "      <th>1</th>\n",
       "      <td>8</td>\n",
       "    </tr>\n",
       "    <tr>\n",
       "      <th>2</th>\n",
       "      <td>34</td>\n",
       "    </tr>\n",
       "    <tr>\n",
       "      <th>3</th>\n",
       "      <td>110</td>\n",
       "    </tr>\n",
       "  </tbody>\n",
       "</table>\n",
       "</div>"
      ],
      "text/plain": [
       "   Column D\n",
       "0         5\n",
       "1         8\n",
       "2        34\n",
       "3       110"
      ]
     },
     "execution_count": 41,
     "metadata": {},
     "output_type": "execute_result"
    }
   ],
   "source": [
    "# now we can set the axis to columns only dropping\n",
    "df.dropna(axis = 1) # axis='columns' also works"
   ]
  },
  {
   "cell_type": "markdown",
   "id": "674db181-03c0-4d68-bc34-d7a8137df935",
   "metadata": {},
   "source": [
    " In this case, any row or column that contains at least one null value will be dropped. Which can be, depending on the case, too extreme. You can control this behavior with the how parameter. Can be either 'any' or 'all':"
   ]
  },
  {
   "cell_type": "markdown",
   "id": "4af99cff-ece6-4207-b0a2-4a5d63f1dd68",
   "metadata": {},
   "source": [
    "The **how** parameter is used in merging, joining, and dropping operations in Pandas. It specifies how the operation should be performed, usually by defining rules for handling missing or overlapping data."
   ]
  },
  {
   "cell_type": "code",
   "execution_count": 42,
   "id": "bc20634f-ade1-4ee0-8e69-b792ca5768c4",
   "metadata": {},
   "outputs": [
    {
     "data": {
      "text/html": [
       "<div>\n",
       "<style scoped>\n",
       "    .dataframe tbody tr th:only-of-type {\n",
       "        vertical-align: middle;\n",
       "    }\n",
       "\n",
       "    .dataframe tbody tr th {\n",
       "        vertical-align: top;\n",
       "    }\n",
       "\n",
       "    .dataframe thead th {\n",
       "        text-align: right;\n",
       "    }\n",
       "</style>\n",
       "<table border=\"1\" class=\"dataframe\">\n",
       "  <thead>\n",
       "    <tr style=\"text-align: right;\">\n",
       "      <th></th>\n",
       "      <th>Column A</th>\n",
       "      <th>Column B</th>\n",
       "      <th>Column C</th>\n",
       "      <th>Column D</th>\n",
       "    </tr>\n",
       "  </thead>\n",
       "  <tbody>\n",
       "    <tr>\n",
       "      <th>0</th>\n",
       "      <td>1.0</td>\n",
       "      <td>2.0</td>\n",
       "      <td>NaN</td>\n",
       "      <td>5</td>\n",
       "    </tr>\n",
       "    <tr>\n",
       "      <th>1</th>\n",
       "      <td>NaN</td>\n",
       "      <td>8.0</td>\n",
       "      <td>9.0</td>\n",
       "      <td>8</td>\n",
       "    </tr>\n",
       "    <tr>\n",
       "      <th>2</th>\n",
       "      <td>30.0</td>\n",
       "      <td>31.0</td>\n",
       "      <td>32.0</td>\n",
       "      <td>34</td>\n",
       "    </tr>\n",
       "    <tr>\n",
       "      <th>3</th>\n",
       "      <td>NaN</td>\n",
       "      <td>NaN</td>\n",
       "      <td>100.0</td>\n",
       "      <td>110</td>\n",
       "    </tr>\n",
       "  </tbody>\n",
       "</table>\n",
       "</div>"
      ],
      "text/plain": [
       "   Column A  Column B  Column C  Column D\n",
       "0       1.0       2.0       NaN         5\n",
       "1       NaN       8.0       9.0         8\n",
       "2      30.0      31.0      32.0        34\n",
       "3       NaN       NaN     100.0       110"
      ]
     },
     "execution_count": 42,
     "metadata": {},
     "output_type": "execute_result"
    }
   ],
   "source": [
    "# Drops Rows/Columns Only If All Values are NaN\n",
    "df.dropna(how = \"all\")"
   ]
  },
  {
   "cell_type": "code",
   "execution_count": 43,
   "id": "16449a50-a09f-4fce-bb80-c1694b7e28ef",
   "metadata": {},
   "outputs": [
    {
     "data": {
      "text/html": [
       "<div>\n",
       "<style scoped>\n",
       "    .dataframe tbody tr th:only-of-type {\n",
       "        vertical-align: middle;\n",
       "    }\n",
       "\n",
       "    .dataframe tbody tr th {\n",
       "        vertical-align: top;\n",
       "    }\n",
       "\n",
       "    .dataframe thead th {\n",
       "        text-align: right;\n",
       "    }\n",
       "</style>\n",
       "<table border=\"1\" class=\"dataframe\">\n",
       "  <thead>\n",
       "    <tr style=\"text-align: right;\">\n",
       "      <th></th>\n",
       "      <th>Column A</th>\n",
       "      <th>Column B</th>\n",
       "      <th>Column C</th>\n",
       "      <th>Column D</th>\n",
       "    </tr>\n",
       "  </thead>\n",
       "  <tbody>\n",
       "    <tr>\n",
       "      <th>2</th>\n",
       "      <td>30.0</td>\n",
       "      <td>31.0</td>\n",
       "      <td>32.0</td>\n",
       "      <td>34</td>\n",
       "    </tr>\n",
       "  </tbody>\n",
       "</table>\n",
       "</div>"
      ],
      "text/plain": [
       "   Column A  Column B  Column C  Column D\n",
       "2      30.0      31.0      32.0        34"
      ]
     },
     "execution_count": 43,
     "metadata": {},
     "output_type": "execute_result"
    }
   ],
   "source": [
    "# Drops Rows/Columns If Any Value is NaN\n",
    "# # default behavior\n",
    "df.dropna(how = \"any\")"
   ]
  },
  {
   "cell_type": "code",
   "execution_count": 44,
   "id": "b0711172-cb35-4028-89cc-ec3b604d69bc",
   "metadata": {},
   "outputs": [
    {
     "data": {
      "text/html": [
       "<div>\n",
       "<style scoped>\n",
       "    .dataframe tbody tr th:only-of-type {\n",
       "        vertical-align: middle;\n",
       "    }\n",
       "\n",
       "    .dataframe tbody tr th {\n",
       "        vertical-align: top;\n",
       "    }\n",
       "\n",
       "    .dataframe thead th {\n",
       "        text-align: right;\n",
       "    }\n",
       "</style>\n",
       "<table border=\"1\" class=\"dataframe\">\n",
       "  <thead>\n",
       "    <tr style=\"text-align: right;\">\n",
       "      <th></th>\n",
       "      <th>Column A</th>\n",
       "      <th>Column B</th>\n",
       "      <th>Column C</th>\n",
       "      <th>Column D</th>\n",
       "    </tr>\n",
       "  </thead>\n",
       "  <tbody>\n",
       "    <tr>\n",
       "      <th>0</th>\n",
       "      <td>1.0</td>\n",
       "      <td>2.0</td>\n",
       "      <td>NaN</td>\n",
       "      <td>5</td>\n",
       "    </tr>\n",
       "    <tr>\n",
       "      <th>1</th>\n",
       "      <td>NaN</td>\n",
       "      <td>8.0</td>\n",
       "      <td>9.0</td>\n",
       "      <td>8</td>\n",
       "    </tr>\n",
       "    <tr>\n",
       "      <th>2</th>\n",
       "      <td>30.0</td>\n",
       "      <td>31.0</td>\n",
       "      <td>32.0</td>\n",
       "      <td>34</td>\n",
       "    </tr>\n",
       "    <tr>\n",
       "      <th>3</th>\n",
       "      <td>NaN</td>\n",
       "      <td>NaN</td>\n",
       "      <td>100.0</td>\n",
       "      <td>110</td>\n",
       "    </tr>\n",
       "  </tbody>\n",
       "</table>\n",
       "</div>"
      ],
      "text/plain": [
       "   Column A  Column B  Column C  Column D\n",
       "0       1.0       2.0       NaN         5\n",
       "1       NaN       8.0       9.0         8\n",
       "2      30.0      31.0      32.0        34\n",
       "3       NaN       NaN     100.0       110"
      ]
     },
     "execution_count": 44,
     "metadata": {},
     "output_type": "execute_result"
    }
   ],
   "source": [
    "df"
   ]
  },
  {
   "cell_type": "markdown",
   "id": "30ce7d3f-0b84-4e48-9b82-779995d98873",
   "metadata": {},
   "source": [
    "The thresh parameter in df.dropna(thresh=val) specifies the minimum number of non-NaN values required for a row/column to be kept."
   ]
  },
  {
   "cell_type": "code",
   "execution_count": 45,
   "id": "de26ad62-5d7b-4bc2-a966-f3fb4d26c274",
   "metadata": {},
   "outputs": [
    {
     "data": {
      "text/html": [
       "<div>\n",
       "<style scoped>\n",
       "    .dataframe tbody tr th:only-of-type {\n",
       "        vertical-align: middle;\n",
       "    }\n",
       "\n",
       "    .dataframe tbody tr th {\n",
       "        vertical-align: top;\n",
       "    }\n",
       "\n",
       "    .dataframe thead th {\n",
       "        text-align: right;\n",
       "    }\n",
       "</style>\n",
       "<table border=\"1\" class=\"dataframe\">\n",
       "  <thead>\n",
       "    <tr style=\"text-align: right;\">\n",
       "      <th></th>\n",
       "      <th>Column A</th>\n",
       "      <th>Column B</th>\n",
       "      <th>Column C</th>\n",
       "      <th>Column D</th>\n",
       "    </tr>\n",
       "  </thead>\n",
       "  <tbody>\n",
       "    <tr>\n",
       "      <th>0</th>\n",
       "      <td>1.0</td>\n",
       "      <td>2.0</td>\n",
       "      <td>NaN</td>\n",
       "      <td>5</td>\n",
       "    </tr>\n",
       "    <tr>\n",
       "      <th>1</th>\n",
       "      <td>NaN</td>\n",
       "      <td>8.0</td>\n",
       "      <td>9.0</td>\n",
       "      <td>8</td>\n",
       "    </tr>\n",
       "    <tr>\n",
       "      <th>2</th>\n",
       "      <td>30.0</td>\n",
       "      <td>31.0</td>\n",
       "      <td>32.0</td>\n",
       "      <td>34</td>\n",
       "    </tr>\n",
       "  </tbody>\n",
       "</table>\n",
       "</div>"
      ],
      "text/plain": [
       "   Column A  Column B  Column C  Column D\n",
       "0       1.0       2.0       NaN         5\n",
       "1       NaN       8.0       9.0         8\n",
       "2      30.0      31.0      32.0        34"
      ]
     },
     "execution_count": 45,
     "metadata": {},
     "output_type": "execute_result"
    }
   ],
   "source": [
    "df.dropna(thresh = 3)"
   ]
  },
  {
   "cell_type": "markdown",
   "id": "7507e15a-a998-4b99-8327-394766b61486",
   "metadata": {},
   "source": [
    "we can also change the axis of drop for the thresh parametre"
   ]
  },
  {
   "cell_type": "code",
   "execution_count": 46,
   "id": "a77fe969-2a88-4684-b47e-b536082ec6d1",
   "metadata": {},
   "outputs": [
    {
     "data": {
      "text/html": [
       "<div>\n",
       "<style scoped>\n",
       "    .dataframe tbody tr th:only-of-type {\n",
       "        vertical-align: middle;\n",
       "    }\n",
       "\n",
       "    .dataframe tbody tr th {\n",
       "        vertical-align: top;\n",
       "    }\n",
       "\n",
       "    .dataframe thead th {\n",
       "        text-align: right;\n",
       "    }\n",
       "</style>\n",
       "<table border=\"1\" class=\"dataframe\">\n",
       "  <thead>\n",
       "    <tr style=\"text-align: right;\">\n",
       "      <th></th>\n",
       "      <th>Column B</th>\n",
       "      <th>Column C</th>\n",
       "      <th>Column D</th>\n",
       "    </tr>\n",
       "  </thead>\n",
       "  <tbody>\n",
       "    <tr>\n",
       "      <th>0</th>\n",
       "      <td>2.0</td>\n",
       "      <td>NaN</td>\n",
       "      <td>5</td>\n",
       "    </tr>\n",
       "    <tr>\n",
       "      <th>1</th>\n",
       "      <td>8.0</td>\n",
       "      <td>9.0</td>\n",
       "      <td>8</td>\n",
       "    </tr>\n",
       "    <tr>\n",
       "      <th>2</th>\n",
       "      <td>31.0</td>\n",
       "      <td>32.0</td>\n",
       "      <td>34</td>\n",
       "    </tr>\n",
       "    <tr>\n",
       "      <th>3</th>\n",
       "      <td>NaN</td>\n",
       "      <td>100.0</td>\n",
       "      <td>110</td>\n",
       "    </tr>\n",
       "  </tbody>\n",
       "</table>\n",
       "</div>"
      ],
      "text/plain": [
       "   Column B  Column C  Column D\n",
       "0       2.0       NaN         5\n",
       "1       8.0       9.0         8\n",
       "2      31.0      32.0        34\n",
       "3       NaN     100.0       110"
      ]
     },
     "execution_count": 46,
     "metadata": {},
     "output_type": "execute_result"
    }
   ],
   "source": [
    "df.dropna(thresh = 3, axis = \"columns\")"
   ]
  },
  {
   "cell_type": "markdown",
   "id": "40c518bb-8f62-40a0-b510-97384d9ad967",
   "metadata": {},
   "source": [
    "### Filling null values"
   ]
  },
  {
   "cell_type": "markdown",
   "id": "1ce21faa-2602-49af-8911-6d02d3ffe7a7",
   "metadata": {},
   "source": [
    "Sometimes instead than dropping the null values, we might need to replace them with some other value. This highly depends on your context and the dataset you're currently working. Sometimes a nan can be replaced with a 0, sometimes it can be replaced with the mean of the sample, and some other times you can take the closest value. Again, it depends on the context. We'll show you the different methods and mechanisms and you can then apply them to your own problem."
   ]
  },
  {
   "cell_type": "code",
   "execution_count": 47,
   "id": "e4411364-7fca-4718-b2ac-c81c006a70d7",
   "metadata": {},
   "outputs": [
    {
     "data": {
      "text/plain": [
       "0    1.0\n",
       "1    2.0\n",
       "2    3.0\n",
       "3    NaN\n",
       "4    NaN\n",
       "5    4.0\n",
       "dtype: float64"
      ]
     },
     "execution_count": 47,
     "metadata": {},
     "output_type": "execute_result"
    }
   ],
   "source": [
    "s"
   ]
  },
  {
   "cell_type": "markdown",
   "id": "a3d84540-1402-40d0-a433-7962869602e7",
   "metadata": {},
   "source": [
    "**Filling nulls with a arbitrary value**"
   ]
  },
  {
   "cell_type": "code",
   "execution_count": 48,
   "id": "31a576df-d303-41f9-9272-a172ca1213d9",
   "metadata": {},
   "outputs": [
    {
     "data": {
      "text/plain": [
       "0    1.0\n",
       "1    2.0\n",
       "2    3.0\n",
       "3    0.0\n",
       "4    0.0\n",
       "5    4.0\n",
       "dtype: float64"
      ]
     },
     "execution_count": 48,
     "metadata": {},
     "output_type": "execute_result"
    }
   ],
   "source": [
    "# now here will be learning how to fix the nan values.\n",
    "# the first method will be using the .fillna(val) method \n",
    "# here .fillna takes a value and replace the nan values with the value provided\n",
    "s.fillna(0) "
   ]
  },
  {
   "cell_type": "code",
   "execution_count": 49,
   "id": "8c0136df-7b2a-42cc-a51f-3742d05590e6",
   "metadata": {},
   "outputs": [
    {
     "data": {
      "text/plain": [
       "0    1.0\n",
       "1    2.0\n",
       "2    3.0\n",
       "3    2.5\n",
       "4    2.5\n",
       "5    4.0\n",
       "dtype: float64"
      ]
     },
     "execution_count": 49,
     "metadata": {},
     "output_type": "execute_result"
    }
   ],
   "source": [
    "# we can also use the mean value to fill the nan\n",
    "s.fillna(s.mean())"
   ]
  },
  {
   "cell_type": "markdown",
   "id": "d9072934-3cf2-4ab8-97ec-e52483e6bc05",
   "metadata": {},
   "source": [
    "note that here we are not altering the series hence the original series is preserved"
   ]
  },
  {
   "cell_type": "code",
   "execution_count": 50,
   "id": "ed7ee82c-d533-408e-b6b4-72f45ee0ea74",
   "metadata": {},
   "outputs": [
    {
     "data": {
      "text/plain": [
       "0    1.0\n",
       "1    2.0\n",
       "2    3.0\n",
       "3    NaN\n",
       "4    NaN\n",
       "5    4.0\n",
       "dtype: float64"
      ]
     },
     "execution_count": 50,
     "metadata": {},
     "output_type": "execute_result"
    }
   ],
   "source": [
    "s"
   ]
  },
  {
   "cell_type": "markdown",
   "id": "45836a4f-d298-4967-afe4-9920aba4960a",
   "metadata": {},
   "source": [
    "**Filling nulls with contiguous (close) values**"
   ]
  },
  {
   "cell_type": "markdown",
   "id": "e2f55430-2c62-4068-89fa-e322472e69c4",
   "metadata": {},
   "source": [
    "The method argument is used to fill null values with other values close to that null one:"
   ]
  },
  {
   "cell_type": "markdown",
   "id": "9afa06f3-6e80-4045-9763-fd0aa3bb838a",
   "metadata": {},
   "source": [
    "**Using method to Propagate Values**  \n",
    "- ✅ Forward Fill (ffill) – Fill NaN with previous row’s value\n",
    "- ✅ Backward Fill (bfill) – Fill NaN with next row’s value"
   ]
  },
  {
   "cell_type": "code",
   "execution_count": 51,
   "id": "ae8789f3-2294-4fac-8993-e3b453915b34",
   "metadata": {},
   "outputs": [
    {
     "data": {
      "text/plain": [
       "0    1.0\n",
       "1    2.0\n",
       "2    3.0\n",
       "3    3.0\n",
       "4    3.0\n",
       "5    4.0\n",
       "dtype: float64"
      ]
     },
     "execution_count": 51,
     "metadata": {},
     "output_type": "execute_result"
    }
   ],
   "source": [
    "s.fillna(method = \"ffill\")"
   ]
  },
  {
   "cell_type": "code",
   "execution_count": 52,
   "id": "62bfb9eb-3a1b-44ba-9a04-2bf77fd6127d",
   "metadata": {},
   "outputs": [
    {
     "data": {
      "text/plain": [
       "0    1.0\n",
       "1    2.0\n",
       "2    3.0\n",
       "3    4.0\n",
       "4    4.0\n",
       "5    4.0\n",
       "dtype: float64"
      ]
     },
     "execution_count": 52,
     "metadata": {},
     "output_type": "execute_result"
    }
   ],
   "source": [
    "s.fillna(method = \"bfill\")"
   ]
  },
  {
   "cell_type": "markdown",
   "id": "0674d68d-6d47-4e4a-882a-a152c68d2c9d",
   "metadata": {},
   "source": [
    "This can still leave null values at the extremes of the Series/DataFrame:"
   ]
  },
  {
   "cell_type": "code",
   "execution_count": 53,
   "id": "73807ce7-7238-4a9d-9388-b8c66dd31fae",
   "metadata": {},
   "outputs": [
    {
     "data": {
      "text/plain": [
       "0    NaN\n",
       "1    3.0\n",
       "2    3.0\n",
       "3    9.0\n",
       "dtype: float64"
      ]
     },
     "execution_count": 53,
     "metadata": {},
     "output_type": "execute_result"
    }
   ],
   "source": [
    "pd.Series([np.nan, 3, np.nan, 9]).fillna(method='ffill')"
   ]
  },
  {
   "cell_type": "code",
   "execution_count": 54,
   "id": "57fb7973-3b5b-4738-8d9b-03194caa86fe",
   "metadata": {},
   "outputs": [
    {
     "data": {
      "text/plain": [
       "0    1.0\n",
       "1    3.0\n",
       "2    3.0\n",
       "3    NaN\n",
       "4    NaN\n",
       "dtype: float64"
      ]
     },
     "execution_count": 54,
     "metadata": {},
     "output_type": "execute_result"
    }
   ],
   "source": [
    "pd.Series([1, np.nan, 3, np.nan, np.nan]).fillna(method='bfill')"
   ]
  },
  {
   "cell_type": "markdown",
   "id": "80643a7b-dbb4-4e74-9928-eb0ca5d936f1",
   "metadata": {},
   "source": [
    "**🔹 Why Do NaN Values Still Exist After Using .fillna(method='ffill'/'bfill')?**\n",
    "- 1️⃣ Case 1: NaN at the Beginning (ffill won't work)\n",
    "   - 🔹 Problem: If a column starts with NaN, there’s no previous value to forward-fill.\n",
    "- 2️⃣ Case 2: NaN at the End (bfill won't work)\n",
    "   - 🔹 Problem: If a column ends with NaN, there’s no next value to backward-fill.\n",
    "- 3️⃣ Case 3: Isolated NaN Values with No Nearby Data\n",
    "   - 🔹 Problem: If all values in a column are NaN, both ffill and bfill will fail because there’s no valid data to propagate."
   ]
  },
  {
   "cell_type": "markdown",
   "id": "139a1ad8-40b5-45f4-b773-6729a97a9607",
   "metadata": {},
   "source": [
    "**🔹 How to Fix This?**\n",
    "- ✅ 1. Combine ffill and bfill\n",
    "   - 🔹 Forward-fill first, then back-fill any remaining NaNs.\n",
    "- ✅ 2. Use fillna(value=...) as a fallback\n",
    "   - 🔹 Replace remaining NaNs with a default value (0, mean, median, etc.).\n",
    "- ✅ 3. Drop Rows/Columns with Remaining NaNs\n",
    "   - 🔹 Removes rows with NaNs after fill."
   ]
  },
  {
   "cell_type": "markdown",
   "id": "9d03ccbc-4fef-4fa8-b121-17d12488b396",
   "metadata": {},
   "source": [
    "**Limiting Fills with limit**"
   ]
  },
  {
   "cell_type": "code",
   "execution_count": 55,
   "id": "93b5e493-9663-46f7-8668-544d026f9042",
   "metadata": {},
   "outputs": [
    {
     "data": {
      "text/plain": [
       "0    1.0\n",
       "1    2.0\n",
       "2    3.0\n",
       "3    NaN\n",
       "4    4.0\n",
       "5    4.0\n",
       "dtype: float64"
      ]
     },
     "execution_count": 55,
     "metadata": {},
     "output_type": "execute_result"
    }
   ],
   "source": [
    "# here we can use the limit parametre to fill only certain no. of nan val\n",
    "s.fillna(method = \"bfill\" , limit = 1)"
   ]
  },
  {
   "cell_type": "markdown",
   "id": "c8335a7c-aae2-4734-a2af-c1356567e5bb",
   "metadata": {},
   "source": [
    "**Column-Wise Replacement**"
   ]
  },
  {
   "cell_type": "code",
   "execution_count": 56,
   "id": "e65ae5b1-12a3-4072-a2be-8cb2d7e23138",
   "metadata": {},
   "outputs": [
    {
     "data": {
      "text/html": [
       "<div>\n",
       "<style scoped>\n",
       "    .dataframe tbody tr th:only-of-type {\n",
       "        vertical-align: middle;\n",
       "    }\n",
       "\n",
       "    .dataframe tbody tr th {\n",
       "        vertical-align: top;\n",
       "    }\n",
       "\n",
       "    .dataframe thead th {\n",
       "        text-align: right;\n",
       "    }\n",
       "</style>\n",
       "<table border=\"1\" class=\"dataframe\">\n",
       "  <thead>\n",
       "    <tr style=\"text-align: right;\">\n",
       "      <th></th>\n",
       "      <th>Column A</th>\n",
       "      <th>Column B</th>\n",
       "      <th>Column C</th>\n",
       "      <th>Column D</th>\n",
       "    </tr>\n",
       "  </thead>\n",
       "  <tbody>\n",
       "    <tr>\n",
       "      <th>0</th>\n",
       "      <td>1.0</td>\n",
       "      <td>2.0</td>\n",
       "      <td>NaN</td>\n",
       "      <td>5</td>\n",
       "    </tr>\n",
       "    <tr>\n",
       "      <th>1</th>\n",
       "      <td>NaN</td>\n",
       "      <td>8.0</td>\n",
       "      <td>9.0</td>\n",
       "      <td>8</td>\n",
       "    </tr>\n",
       "    <tr>\n",
       "      <th>2</th>\n",
       "      <td>30.0</td>\n",
       "      <td>31.0</td>\n",
       "      <td>32.0</td>\n",
       "      <td>34</td>\n",
       "    </tr>\n",
       "    <tr>\n",
       "      <th>3</th>\n",
       "      <td>NaN</td>\n",
       "      <td>NaN</td>\n",
       "      <td>100.0</td>\n",
       "      <td>110</td>\n",
       "    </tr>\n",
       "  </tbody>\n",
       "</table>\n",
       "</div>"
      ],
      "text/plain": [
       "   Column A  Column B  Column C  Column D\n",
       "0       1.0       2.0       NaN         5\n",
       "1       NaN       8.0       9.0         8\n",
       "2      30.0      31.0      32.0        34\n",
       "3       NaN       NaN     100.0       110"
      ]
     },
     "execution_count": 56,
     "metadata": {},
     "output_type": "execute_result"
    }
   ],
   "source": [
    "# he can also replace nan value by selecting columns\n",
    "df"
   ]
  },
  {
   "cell_type": "code",
   "execution_count": 57,
   "id": "5e444cf6-d435-4422-8638-fd42ad9cc9b0",
   "metadata": {},
   "outputs": [
    {
     "data": {
      "text/html": [
       "<div>\n",
       "<style scoped>\n",
       "    .dataframe tbody tr th:only-of-type {\n",
       "        vertical-align: middle;\n",
       "    }\n",
       "\n",
       "    .dataframe tbody tr th {\n",
       "        vertical-align: top;\n",
       "    }\n",
       "\n",
       "    .dataframe thead th {\n",
       "        text-align: right;\n",
       "    }\n",
       "</style>\n",
       "<table border=\"1\" class=\"dataframe\">\n",
       "  <thead>\n",
       "    <tr style=\"text-align: right;\">\n",
       "      <th></th>\n",
       "      <th>Column A</th>\n",
       "      <th>Column B</th>\n",
       "      <th>Column C</th>\n",
       "      <th>Column D</th>\n",
       "    </tr>\n",
       "  </thead>\n",
       "  <tbody>\n",
       "    <tr>\n",
       "      <th>0</th>\n",
       "      <td>1.0</td>\n",
       "      <td>2.0</td>\n",
       "      <td>300.0</td>\n",
       "      <td>5</td>\n",
       "    </tr>\n",
       "    <tr>\n",
       "      <th>1</th>\n",
       "      <td>100.0</td>\n",
       "      <td>8.0</td>\n",
       "      <td>9.0</td>\n",
       "      <td>8</td>\n",
       "    </tr>\n",
       "    <tr>\n",
       "      <th>2</th>\n",
       "      <td>30.0</td>\n",
       "      <td>31.0</td>\n",
       "      <td>32.0</td>\n",
       "      <td>34</td>\n",
       "    </tr>\n",
       "    <tr>\n",
       "      <th>3</th>\n",
       "      <td>100.0</td>\n",
       "      <td>200.0</td>\n",
       "      <td>100.0</td>\n",
       "      <td>110</td>\n",
       "    </tr>\n",
       "  </tbody>\n",
       "</table>\n",
       "</div>"
      ],
      "text/plain": [
       "   Column A  Column B  Column C  Column D\n",
       "0       1.0       2.0     300.0         5\n",
       "1     100.0       8.0       9.0         8\n",
       "2      30.0      31.0      32.0        34\n",
       "3     100.0     200.0     100.0       110"
      ]
     },
     "execution_count": 57,
     "metadata": {},
     "output_type": "execute_result"
    }
   ],
   "source": [
    "df.fillna({'Column A': 100, 'Column B': 200, 'Column C': 300})"
   ]
  },
  {
   "cell_type": "markdown",
   "id": "86830f06-6985-4184-a64e-0225088aae2b",
   "metadata": {},
   "source": [
    "### Filling null values on DataFrames"
   ]
  },
  {
   "cell_type": "markdown",
   "id": "ed70c3df-656a-4450-bf38-713abe5eeaeb",
   "metadata": {},
   "source": [
    "The fillna method also works on DataFrames, and it works similarly. The main differences are that you can specify the axis (as usual, rows or columns) to use to fill the values (specially for methods) and that you have more control on the values passed:"
   ]
  },
  {
   "cell_type": "code",
   "execution_count": 58,
   "id": "148859f6-2ccf-4640-87ef-7c46ab099bb0",
   "metadata": {},
   "outputs": [
    {
     "data": {
      "text/html": [
       "<div>\n",
       "<style scoped>\n",
       "    .dataframe tbody tr th:only-of-type {\n",
       "        vertical-align: middle;\n",
       "    }\n",
       "\n",
       "    .dataframe tbody tr th {\n",
       "        vertical-align: top;\n",
       "    }\n",
       "\n",
       "    .dataframe thead th {\n",
       "        text-align: right;\n",
       "    }\n",
       "</style>\n",
       "<table border=\"1\" class=\"dataframe\">\n",
       "  <thead>\n",
       "    <tr style=\"text-align: right;\">\n",
       "      <th></th>\n",
       "      <th>Column A</th>\n",
       "      <th>Column B</th>\n",
       "      <th>Column C</th>\n",
       "      <th>Column D</th>\n",
       "    </tr>\n",
       "  </thead>\n",
       "  <tbody>\n",
       "    <tr>\n",
       "      <th>0</th>\n",
       "      <td>1.0</td>\n",
       "      <td>2.0</td>\n",
       "      <td>NaN</td>\n",
       "      <td>5</td>\n",
       "    </tr>\n",
       "    <tr>\n",
       "      <th>1</th>\n",
       "      <td>NaN</td>\n",
       "      <td>8.0</td>\n",
       "      <td>9.0</td>\n",
       "      <td>8</td>\n",
       "    </tr>\n",
       "    <tr>\n",
       "      <th>2</th>\n",
       "      <td>30.0</td>\n",
       "      <td>31.0</td>\n",
       "      <td>32.0</td>\n",
       "      <td>34</td>\n",
       "    </tr>\n",
       "    <tr>\n",
       "      <th>3</th>\n",
       "      <td>NaN</td>\n",
       "      <td>NaN</td>\n",
       "      <td>100.0</td>\n",
       "      <td>110</td>\n",
       "    </tr>\n",
       "  </tbody>\n",
       "</table>\n",
       "</div>"
      ],
      "text/plain": [
       "   Column A  Column B  Column C  Column D\n",
       "0       1.0       2.0       NaN         5\n",
       "1       NaN       8.0       9.0         8\n",
       "2      30.0      31.0      32.0        34\n",
       "3       NaN       NaN     100.0       110"
      ]
     },
     "execution_count": 58,
     "metadata": {},
     "output_type": "execute_result"
    }
   ],
   "source": [
    "df"
   ]
  },
  {
   "cell_type": "code",
   "execution_count": 59,
   "id": "96b92fd6-3198-48ce-862e-ca95c1f2a668",
   "metadata": {},
   "outputs": [
    {
     "data": {
      "text/html": [
       "<div>\n",
       "<style scoped>\n",
       "    .dataframe tbody tr th:only-of-type {\n",
       "        vertical-align: middle;\n",
       "    }\n",
       "\n",
       "    .dataframe tbody tr th {\n",
       "        vertical-align: top;\n",
       "    }\n",
       "\n",
       "    .dataframe thead th {\n",
       "        text-align: right;\n",
       "    }\n",
       "</style>\n",
       "<table border=\"1\" class=\"dataframe\">\n",
       "  <thead>\n",
       "    <tr style=\"text-align: right;\">\n",
       "      <th></th>\n",
       "      <th>Column A</th>\n",
       "      <th>Column B</th>\n",
       "      <th>Column C</th>\n",
       "      <th>Column D</th>\n",
       "    </tr>\n",
       "  </thead>\n",
       "  <tbody>\n",
       "    <tr>\n",
       "      <th>0</th>\n",
       "      <td>1.0</td>\n",
       "      <td>2.0</td>\n",
       "      <td>47.0</td>\n",
       "      <td>5</td>\n",
       "    </tr>\n",
       "    <tr>\n",
       "      <th>1</th>\n",
       "      <td>0.0</td>\n",
       "      <td>8.0</td>\n",
       "      <td>9.0</td>\n",
       "      <td>8</td>\n",
       "    </tr>\n",
       "    <tr>\n",
       "      <th>2</th>\n",
       "      <td>30.0</td>\n",
       "      <td>31.0</td>\n",
       "      <td>32.0</td>\n",
       "      <td>34</td>\n",
       "    </tr>\n",
       "    <tr>\n",
       "      <th>3</th>\n",
       "      <td>0.0</td>\n",
       "      <td>99.0</td>\n",
       "      <td>100.0</td>\n",
       "      <td>110</td>\n",
       "    </tr>\n",
       "  </tbody>\n",
       "</table>\n",
       "</div>"
      ],
      "text/plain": [
       "   Column A  Column B  Column C  Column D\n",
       "0       1.0       2.0      47.0         5\n",
       "1       0.0       8.0       9.0         8\n",
       "2      30.0      31.0      32.0        34\n",
       "3       0.0      99.0     100.0       110"
      ]
     },
     "execution_count": 59,
     "metadata": {},
     "output_type": "execute_result"
    }
   ],
   "source": [
    "# here we will be filling the dataframe using the fillna function\n",
    "# here we are filling column specified with mean value\n",
    "df.fillna({'Column A': 0, 'Column B': 99, 'Column C': df['Column C'].mean()})"
   ]
  },
  {
   "cell_type": "code",
   "execution_count": 60,
   "id": "1e0f10a5-50ce-4ac7-a60b-38795b223094",
   "metadata": {},
   "outputs": [
    {
     "data": {
      "text/html": [
       "<div>\n",
       "<style scoped>\n",
       "    .dataframe tbody tr th:only-of-type {\n",
       "        vertical-align: middle;\n",
       "    }\n",
       "\n",
       "    .dataframe tbody tr th {\n",
       "        vertical-align: top;\n",
       "    }\n",
       "\n",
       "    .dataframe thead th {\n",
       "        text-align: right;\n",
       "    }\n",
       "</style>\n",
       "<table border=\"1\" class=\"dataframe\">\n",
       "  <thead>\n",
       "    <tr style=\"text-align: right;\">\n",
       "      <th></th>\n",
       "      <th>Column A</th>\n",
       "      <th>Column B</th>\n",
       "      <th>Column C</th>\n",
       "      <th>Column D</th>\n",
       "    </tr>\n",
       "  </thead>\n",
       "  <tbody>\n",
       "    <tr>\n",
       "      <th>0</th>\n",
       "      <td>1.0</td>\n",
       "      <td>2.0</td>\n",
       "      <td>NaN</td>\n",
       "      <td>5</td>\n",
       "    </tr>\n",
       "    <tr>\n",
       "      <th>1</th>\n",
       "      <td>NaN</td>\n",
       "      <td>8.0</td>\n",
       "      <td>9.0</td>\n",
       "      <td>8</td>\n",
       "    </tr>\n",
       "    <tr>\n",
       "      <th>2</th>\n",
       "      <td>30.0</td>\n",
       "      <td>31.0</td>\n",
       "      <td>32.0</td>\n",
       "      <td>34</td>\n",
       "    </tr>\n",
       "    <tr>\n",
       "      <th>3</th>\n",
       "      <td>NaN</td>\n",
       "      <td>NaN</td>\n",
       "      <td>100.0</td>\n",
       "      <td>110</td>\n",
       "    </tr>\n",
       "  </tbody>\n",
       "</table>\n",
       "</div>"
      ],
      "text/plain": [
       "   Column A  Column B  Column C  Column D\n",
       "0       1.0       2.0       NaN         5\n",
       "1       NaN       8.0       9.0         8\n",
       "2      30.0      31.0      32.0        34\n",
       "3       NaN       NaN     100.0       110"
      ]
     },
     "execution_count": 60,
     "metadata": {},
     "output_type": "execute_result"
    }
   ],
   "source": [
    "df"
   ]
  },
  {
   "cell_type": "code",
   "execution_count": 61,
   "id": "bf0af46e-b986-40be-b42d-509351b83a12",
   "metadata": {},
   "outputs": [
    {
     "data": {
      "text/html": [
       "<div>\n",
       "<style scoped>\n",
       "    .dataframe tbody tr th:only-of-type {\n",
       "        vertical-align: middle;\n",
       "    }\n",
       "\n",
       "    .dataframe tbody tr th {\n",
       "        vertical-align: top;\n",
       "    }\n",
       "\n",
       "    .dataframe thead th {\n",
       "        text-align: right;\n",
       "    }\n",
       "</style>\n",
       "<table border=\"1\" class=\"dataframe\">\n",
       "  <thead>\n",
       "    <tr style=\"text-align: right;\">\n",
       "      <th></th>\n",
       "      <th>Column A</th>\n",
       "      <th>Column B</th>\n",
       "      <th>Column C</th>\n",
       "      <th>Column D</th>\n",
       "    </tr>\n",
       "  </thead>\n",
       "  <tbody>\n",
       "    <tr>\n",
       "      <th>0</th>\n",
       "      <td>1.0</td>\n",
       "      <td>2.0</td>\n",
       "      <td>NaN</td>\n",
       "      <td>5</td>\n",
       "    </tr>\n",
       "    <tr>\n",
       "      <th>1</th>\n",
       "      <td>1.0</td>\n",
       "      <td>8.0</td>\n",
       "      <td>9.0</td>\n",
       "      <td>8</td>\n",
       "    </tr>\n",
       "    <tr>\n",
       "      <th>2</th>\n",
       "      <td>30.0</td>\n",
       "      <td>31.0</td>\n",
       "      <td>32.0</td>\n",
       "      <td>34</td>\n",
       "    </tr>\n",
       "    <tr>\n",
       "      <th>3</th>\n",
       "      <td>30.0</td>\n",
       "      <td>31.0</td>\n",
       "      <td>100.0</td>\n",
       "      <td>110</td>\n",
       "    </tr>\n",
       "  </tbody>\n",
       "</table>\n",
       "</div>"
      ],
      "text/plain": [
       "   Column A  Column B  Column C  Column D\n",
       "0       1.0       2.0       NaN         5\n",
       "1       1.0       8.0       9.0         8\n",
       "2      30.0      31.0      32.0        34\n",
       "3      30.0      31.0     100.0       110"
      ]
     },
     "execution_count": 61,
     "metadata": {},
     "output_type": "execute_result"
    }
   ],
   "source": [
    "# here we will be using the ffill method only onthe row as per the axis\n",
    "df.fillna(method='ffill', axis=0)"
   ]
  },
  {
   "cell_type": "markdown",
   "id": "c176557b-d5b3-4313-9f82-0c447111c3e4",
   "metadata": {},
   "source": [
    "see in the column c if the first row has NaN, it remains unchanged (since there’s no previous row to copy from)."
   ]
  },
  {
   "cell_type": "code",
   "execution_count": 62,
   "id": "c7b3b199-eb47-4e54-bd26-09b182e03d52",
   "metadata": {},
   "outputs": [
    {
     "data": {
      "text/html": [
       "<div>\n",
       "<style scoped>\n",
       "    .dataframe tbody tr th:only-of-type {\n",
       "        vertical-align: middle;\n",
       "    }\n",
       "\n",
       "    .dataframe tbody tr th {\n",
       "        vertical-align: top;\n",
       "    }\n",
       "\n",
       "    .dataframe thead th {\n",
       "        text-align: right;\n",
       "    }\n",
       "</style>\n",
       "<table border=\"1\" class=\"dataframe\">\n",
       "  <thead>\n",
       "    <tr style=\"text-align: right;\">\n",
       "      <th></th>\n",
       "      <th>Column A</th>\n",
       "      <th>Column B</th>\n",
       "      <th>Column C</th>\n",
       "      <th>Column D</th>\n",
       "    </tr>\n",
       "  </thead>\n",
       "  <tbody>\n",
       "    <tr>\n",
       "      <th>0</th>\n",
       "      <td>1.0</td>\n",
       "      <td>2.0</td>\n",
       "      <td>2.0</td>\n",
       "      <td>5.0</td>\n",
       "    </tr>\n",
       "    <tr>\n",
       "      <th>1</th>\n",
       "      <td>NaN</td>\n",
       "      <td>8.0</td>\n",
       "      <td>9.0</td>\n",
       "      <td>8.0</td>\n",
       "    </tr>\n",
       "    <tr>\n",
       "      <th>2</th>\n",
       "      <td>30.0</td>\n",
       "      <td>31.0</td>\n",
       "      <td>32.0</td>\n",
       "      <td>34.0</td>\n",
       "    </tr>\n",
       "    <tr>\n",
       "      <th>3</th>\n",
       "      <td>NaN</td>\n",
       "      <td>NaN</td>\n",
       "      <td>100.0</td>\n",
       "      <td>110.0</td>\n",
       "    </tr>\n",
       "  </tbody>\n",
       "</table>\n",
       "</div>"
      ],
      "text/plain": [
       "   Column A  Column B  Column C  Column D\n",
       "0       1.0       2.0       2.0       5.0\n",
       "1       NaN       8.0       9.0       8.0\n",
       "2      30.0      31.0      32.0      34.0\n",
       "3       NaN       NaN     100.0     110.0"
      ]
     },
     "execution_count": 62,
     "metadata": {},
     "output_type": "execute_result"
    }
   ],
   "source": [
    "df.fillna(method='ffill', axis=1)"
   ]
  },
  {
   "cell_type": "markdown",
   "id": "d0950d15-fd64-4013-8f6d-104483e78fb8",
   "metadata": {},
   "source": [
    "### Checking if there are NAs"
   ]
  },
  {
   "cell_type": "markdown",
   "id": "468c28b8-cb0c-49de-b939-4b6f4519c4b8",
   "metadata": {},
   "source": [
    "The question is: Does this Series or DataFrame contain any missing value? The answer should be yes or no: True or False. How can you verify it?"
   ]
  },
  {
   "cell_type": "markdown",
   "id": "16066b98-6f35-46a1-9d1d-1338ec6ca2d1",
   "metadata": {},
   "source": [
    "**Example 1: Checking the length**  \n",
    "If there are missing values, s.dropna() will have less elements than s:"
   ]
  },
  {
   "cell_type": "code",
   "execution_count": 63,
   "id": "be4da663-e55a-4a62-a9d3-89d10d35583c",
   "metadata": {},
   "outputs": [
    {
     "data": {
      "text/plain": [
       "0    1.0\n",
       "1    2.0\n",
       "2    3.0\n",
       "3    NaN\n",
       "4    NaN\n",
       "5    4.0\n",
       "dtype: float64"
      ]
     },
     "execution_count": 63,
     "metadata": {},
     "output_type": "execute_result"
    }
   ],
   "source": [
    "s"
   ]
  },
  {
   "cell_type": "code",
   "execution_count": 64,
   "id": "a3e8db80-bf2e-499e-9918-4b3f9427fd6d",
   "metadata": {},
   "outputs": [
    {
     "data": {
      "text/plain": [
       "4"
      ]
     },
     "execution_count": 64,
     "metadata": {},
     "output_type": "execute_result"
    }
   ],
   "source": [
    "# here counting the no. of not null values in the s series\n",
    "s.dropna().count()"
   ]
  },
  {
   "cell_type": "code",
   "execution_count": 65,
   "id": "0eaea6ce-8819-4510-b866-d07abf2dcedc",
   "metadata": {},
   "outputs": [
    {
     "data": {
      "text/plain": [
       "True"
      ]
     },
     "execution_count": 65,
     "metadata": {},
     "output_type": "execute_result"
    }
   ],
   "source": [
    "# now we will be founding the no. of missing values \n",
    "missing_values = len(s.dropna()) != len(s)\n",
    "missing_values"
   ]
  },
  {
   "cell_type": "markdown",
   "id": "8a90e7a7-7e85-404c-9c38-0fd6b8cc97dd",
   "metadata": {},
   "source": [
    "since the missing_values give result true that means that there exist nan values in the s series"
   ]
  },
  {
   "cell_type": "markdown",
   "id": "97c7d504-3e2e-488b-8e29-ef3215a6fe53",
   "metadata": {},
   "source": [
    "There's also a count method, that excludes nans from its result:"
   ]
  },
  {
   "cell_type": "code",
   "execution_count": 66,
   "id": "3306f0ad-b76b-4a9d-8b27-567d8579ca58",
   "metadata": {},
   "outputs": [
    {
     "data": {
      "text/plain": [
       "6"
      ]
     },
     "execution_count": 66,
     "metadata": {},
     "output_type": "execute_result"
    }
   ],
   "source": [
    "len(s)"
   ]
  },
  {
   "cell_type": "code",
   "execution_count": 67,
   "id": "6b5d6538-51fc-4be6-835d-018854a32d47",
   "metadata": {},
   "outputs": [
    {
     "data": {
      "text/plain": [
       "4"
      ]
     },
     "execution_count": 67,
     "metadata": {},
     "output_type": "execute_result"
    }
   ],
   "source": [
    "s.count()"
   ]
  },
  {
   "cell_type": "markdown",
   "id": "f2e66f3e-87ac-4974-a8d8-9daf19a5ad2c",
   "metadata": {},
   "source": [
    "🔹 Why Does s.count() Return 4 While len(s) Returns 6?  \n",
    "This happens because:  \n",
    "- s.count() → Counts only non-NaN values in the Series.\n",
    "- len(s) → Counts all elements (including NaN values)."
   ]
  },
  {
   "cell_type": "code",
   "execution_count": 68,
   "id": "14e3fd26-7de0-418a-81b0-7c32c73ed030",
   "metadata": {},
   "outputs": [
    {
     "data": {
      "text/plain": [
       "True"
      ]
     },
     "execution_count": 68,
     "metadata": {},
     "output_type": "execute_result"
    }
   ],
   "source": [
    "# now checking whether nan value present in s using len()\n",
    "missing_values = len(s) != s.count()\n",
    "missing_values"
   ]
  },
  {
   "cell_type": "markdown",
   "id": "188b8c65-9c02-4a34-98ef-11532f755c59",
   "metadata": {},
   "source": [
    "**More Pythonic solution any**"
   ]
  },
  {
   "cell_type": "markdown",
   "id": "d1a7b71b-620b-44e4-b4c6-cf4c6057d0e3",
   "metadata": {},
   "source": [
    "The methods **any** and **all** check if either there's any True value in a Series or all the values are True. They work in the same way as in Python:"
   ]
  },
  {
   "cell_type": "code",
   "execution_count": 69,
   "id": "b0aad499-3d88-4c04-847a-7a0744a43532",
   "metadata": {},
   "outputs": [
    {
     "data": {
      "text/plain": [
       "True"
      ]
     },
     "execution_count": 69,
     "metadata": {},
     "output_type": "execute_result"
    }
   ],
   "source": [
    "pd.Series([True, False, False]).any()"
   ]
  },
  {
   "cell_type": "code",
   "execution_count": 70,
   "id": "95de4aca-c370-4a6e-a882-bb5018bf1924",
   "metadata": {},
   "outputs": [
    {
     "data": {
      "text/plain": [
       "False"
      ]
     },
     "execution_count": 70,
     "metadata": {},
     "output_type": "execute_result"
    }
   ],
   "source": [
    "pd.Series([True, False, False]).all()"
   ]
  },
  {
   "cell_type": "code",
   "execution_count": 71,
   "id": "a34b4a84-abd4-419b-94f3-104308f86fea",
   "metadata": {},
   "outputs": [
    {
     "data": {
      "text/plain": [
       "True"
      ]
     },
     "execution_count": 71,
     "metadata": {},
     "output_type": "execute_result"
    }
   ],
   "source": [
    "pd.Series([True, True, True]).all()"
   ]
  },
  {
   "cell_type": "markdown",
   "id": "8e496766-04bb-45eb-9a3d-5d215522b600",
   "metadata": {},
   "source": [
    "The isnull() method returned a Boolean Series with True values wherever there was a nan:"
   ]
  },
  {
   "cell_type": "code",
   "execution_count": 72,
   "id": "4bef82d4-0567-4f85-9be5-e9a2851c5193",
   "metadata": {},
   "outputs": [
    {
     "data": {
      "text/plain": [
       "0    False\n",
       "1    False\n",
       "2    False\n",
       "3     True\n",
       "4     True\n",
       "5    False\n",
       "dtype: bool"
      ]
     },
     "execution_count": 72,
     "metadata": {},
     "output_type": "execute_result"
    }
   ],
   "source": [
    "s.isnull()"
   ]
  },
  {
   "cell_type": "markdown",
   "id": "5f9ef0d7-a34f-4575-a377-78e8a955e193",
   "metadata": {},
   "source": [
    "So we can just use the any method with the boolean array returned:"
   ]
  },
  {
   "cell_type": "code",
   "execution_count": 73,
   "id": "0007cbd5-c922-4f94-83bb-b1be7fdc2958",
   "metadata": {},
   "outputs": [
    {
     "data": {
      "text/plain": [
       "True"
      ]
     },
     "execution_count": 73,
     "metadata": {},
     "output_type": "execute_result"
    }
   ],
   "source": [
    "\n",
    "pd.Series([1, np.nan]).isnull().any()"
   ]
  },
  {
   "cell_type": "code",
   "execution_count": 74,
   "id": "d1b51bce-42d2-44e2-8d60-6a652288f159",
   "metadata": {},
   "outputs": [
    {
     "data": {
      "text/plain": [
       "False"
      ]
     },
     "execution_count": 74,
     "metadata": {},
     "output_type": "execute_result"
    }
   ],
   "source": [
    "pd.Series([1, 2]).isnull().any()"
   ]
  },
  {
   "cell_type": "code",
   "execution_count": 75,
   "id": "c7d8c2dd-edf8-4f9e-8dc6-dcc04c17a320",
   "metadata": {},
   "outputs": [
    {
     "data": {
      "text/plain": [
       "True"
      ]
     },
     "execution_count": 75,
     "metadata": {},
     "output_type": "execute_result"
    }
   ],
   "source": [
    "s.isnull().any()"
   ]
  },
  {
   "cell_type": "markdown",
   "id": "7bab5c85-4dda-4442-97b8-39b65b26355d",
   "metadata": {},
   "source": [
    "A more strict version would check only the values of the Series:"
   ]
  },
  {
   "cell_type": "code",
   "execution_count": 76,
   "id": "5370313b-ac44-43fc-942e-133233b83050",
   "metadata": {},
   "outputs": [
    {
     "data": {
      "text/plain": [
       "array([False, False, False,  True,  True, False])"
      ]
     },
     "execution_count": 76,
     "metadata": {},
     "output_type": "execute_result"
    }
   ],
   "source": [
    "# .values → Converts the result into a NumPy array.\n",
    "s.isnull().values"
   ]
  },
  {
   "cell_type": "code",
   "execution_count": 77,
   "id": "11640471-5b9a-4c2c-8512-7cb30f900bbe",
   "metadata": {},
   "outputs": [
    {
     "data": {
      "text/plain": [
       "True"
      ]
     },
     "execution_count": 77,
     "metadata": {},
     "output_type": "execute_result"
    }
   ],
   "source": [
    "s.isnull().values.any()"
   ]
  }
 ],
 "metadata": {
  "kernelspec": {
   "display_name": "Python 3 (ipykernel)",
   "language": "python",
   "name": "python3"
  },
  "language_info": {
   "codemirror_mode": {
    "name": "ipython",
    "version": 3
   },
   "file_extension": ".py",
   "mimetype": "text/x-python",
   "name": "python",
   "nbconvert_exporter": "python",
   "pygments_lexer": "ipython3",
   "version": "3.9.6"
  }
 },
 "nbformat": 4,
 "nbformat_minor": 5
}
