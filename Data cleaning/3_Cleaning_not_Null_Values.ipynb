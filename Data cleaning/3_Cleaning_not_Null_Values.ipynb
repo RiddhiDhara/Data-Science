{
 "cells": [
  {
   "cell_type": "markdown",
   "id": "4ac24a67-ee72-4c9c-95ca-978b630bb96d",
   "metadata": {},
   "source": [
    "## **Cleaning not-null values**"
   ]
  },
  {
   "cell_type": "markdown",
   "id": "f73e5923-9602-4acf-866d-c4b17aea28ca",
   "metadata": {},
   "source": [
    "After dealing with many datasets I can tell you that \"missing data\" is not such a big deal. The best thing that can happen is to clearly see values like np.nan. The only thing you need to do is just use methods like isnull and fillna/dropna and pandas will take care of the rest.\n",
    "\n",
    "But sometimes, you can have invalid values that are not just \"missing data\" (None, or nan). For example:"
   ]
  },
  {
   "cell_type": "markdown",
   "id": "1f59c57f-b6d7-4cda-917e-eab09e563301",
   "metadata": {},
   "source": [
    "---"
   ]
  },
  {
   "cell_type": "markdown",
   "id": "a458d303-1a1d-4ad9-9b87-9d7f7f42dff8",
   "metadata": {},
   "source": [
    "### Hands on!!"
   ]
  },
  {
   "cell_type": "code",
   "execution_count": 2,
   "id": "45a47d37-0365-42ee-8361-56bb8ef1357d",
   "metadata": {},
   "outputs": [],
   "source": [
    "# importing stuffs\n",
    "import numpy as np\n",
    "import pandas as pd"
   ]
  },
  {
   "cell_type": "markdown",
   "id": "218b6791-92f5-4b0e-8945-25060f395f9d",
   "metadata": {},
   "source": [
    "#### What we will do here ?\n",
    "- here we will clean the data based on certain parametres:\n",
    "   - previously removing null values\n",
    "   - here finding duplicates\n",
    "   - here removing duplicates\n",
    "   - here checking irrelevant values like age > 100 or some other not relevent values\n",
    "   - here performing datatype correction\n",
    "   - here modifying incorrect notation and correcting it"
   ]
  },
  {
   "cell_type": "code",
   "execution_count": 3,
   "id": "b013fecd-ddfc-4e59-b2d7-6c84f2340220",
   "metadata": {},
   "outputs": [
    {
     "data": {
      "text/html": [
       "<div>\n",
       "<style scoped>\n",
       "    .dataframe tbody tr th:only-of-type {\n",
       "        vertical-align: middle;\n",
       "    }\n",
       "\n",
       "    .dataframe tbody tr th {\n",
       "        vertical-align: top;\n",
       "    }\n",
       "\n",
       "    .dataframe thead th {\n",
       "        text-align: right;\n",
       "    }\n",
       "</style>\n",
       "<table border=\"1\" class=\"dataframe\">\n",
       "  <thead>\n",
       "    <tr style=\"text-align: right;\">\n",
       "      <th></th>\n",
       "      <th>Sex</th>\n",
       "      <th>Age</th>\n",
       "    </tr>\n",
       "  </thead>\n",
       "  <tbody>\n",
       "    <tr>\n",
       "      <th>0</th>\n",
       "      <td>M</td>\n",
       "      <td>29</td>\n",
       "    </tr>\n",
       "    <tr>\n",
       "      <th>1</th>\n",
       "      <td>F</td>\n",
       "      <td>30</td>\n",
       "    </tr>\n",
       "    <tr>\n",
       "      <th>2</th>\n",
       "      <td>F</td>\n",
       "      <td>24</td>\n",
       "    </tr>\n",
       "    <tr>\n",
       "      <th>3</th>\n",
       "      <td>D</td>\n",
       "      <td>290</td>\n",
       "    </tr>\n",
       "    <tr>\n",
       "      <th>4</th>\n",
       "      <td>?</td>\n",
       "      <td>25</td>\n",
       "    </tr>\n",
       "  </tbody>\n",
       "</table>\n",
       "</div>"
      ],
      "text/plain": [
       "  Sex  Age\n",
       "0   M   29\n",
       "1   F   30\n",
       "2   F   24\n",
       "3   D  290\n",
       "4   ?   25"
      ]
     },
     "execution_count": 3,
     "metadata": {},
     "output_type": "execute_result"
    }
   ],
   "source": [
    "# getting the data as dataframe\n",
    "df = pd.DataFrame({\n",
    "    'Sex': ['M', 'F', 'F', 'D', '?'],\n",
    "    'Age': [29, 30, 24, 290, 25],\n",
    "})\n",
    "df"
   ]
  },
  {
   "cell_type": "markdown",
   "id": "98eb7f9b-8fc6-4dfa-a6af-026b9f1567cd",
   "metadata": {},
   "source": [
    "The previous DataFrame doesn't have any \"missing value\", but clearly has invalid data. 290 doesn't seem like a valid age, and D and ? don't correspond with any known sex category. How can you clean these not-missing, but clearly invalid values then?"
   ]
  },
  {
   "cell_type": "markdown",
   "id": "43932bda-25a5-4347-a836-65b04012c99e",
   "metadata": {},
   "source": [
    "### Finding Unique Values"
   ]
  },
  {
   "cell_type": "markdown",
   "id": "88c62074-e5f2-456a-93d3-33bf534df41b",
   "metadata": {},
   "source": [
    "The first step to clean invalid values is to notice them, then identify them and finally handle them appropriately (remove them, replace them, etc). Usually, for a \"categorical\" type of field (like Sex, which only takes values of a discrete set ('M', 'F')), we start by analyzing the variety of values present. For that, we use the unique() method:"
   ]
  },
  {
   "cell_type": "markdown",
   "id": "9c982f25-eff4-4f35-908f-fa2970ffe2f6",
   "metadata": {},
   "source": [
    "#### df[\"value\"].unique() \n",
    "- returns a NumPy array of all unique values in the specified column \"value\".\n",
    "- Removes duplicates and preserves the original order in which they appear."
   ]
  },
  {
   "cell_type": "code",
   "execution_count": 4,
   "id": "6ead3958-c336-4f95-ab15-5a5fbd486d8f",
   "metadata": {},
   "outputs": [
    {
     "data": {
      "text/plain": [
       "array(['M', 'F', 'D', '?'], dtype=object)"
      ]
     },
     "execution_count": 4,
     "metadata": {},
     "output_type": "execute_result"
    }
   ],
   "source": [
    "df[\"Sex\"].unique()"
   ]
  },
  {
   "cell_type": "markdown",
   "id": "6f0d6a0e-9dbc-42f7-a1b2-f466535eddb0",
   "metadata": {},
   "source": [
    "#### df['Sex'].value_counts() \n",
    "- counts the occurrences of each unique value in the \"Sex\" column.\n",
    "\n",
    "#### Returns a Series where:\n",
    "- The index contains unique values from the column.\n",
    "- The values represent their frequency (count) in the DataFrame."
   ]
  },
  {
   "cell_type": "code",
   "execution_count": 5,
   "id": "9491ee63-6e85-47ab-9b46-7624f99e3b9c",
   "metadata": {},
   "outputs": [
    {
     "data": {
      "text/plain": [
       "Sex\n",
       "F    2\n",
       "M    1\n",
       "D    1\n",
       "?    1\n",
       "Name: count, dtype: int64"
      ]
     },
     "execution_count": 5,
     "metadata": {},
     "output_type": "execute_result"
    }
   ],
   "source": [
    "df[\"Sex\"].value_counts()"
   ]
  },
  {
   "cell_type": "markdown",
   "id": "4cea40fe-64ee-4a6c-a59f-82bd927f8e77",
   "metadata": {},
   "source": [
    "Clearly if you see values like 'D' or '?', it'll immediately raise your attention. Now, what to do with them? Let's say you picked up the phone, called the survey company and they told you that 'D' was a typo and it should actually be F. You can use the replace function to replace these values:"
   ]
  },
  {
   "cell_type": "markdown",
   "id": "b8187a9a-2f2b-4509-bbc8-9e73b5922a60",
   "metadata": {},
   "source": [
    "#### 🔹 .replace() Syntax and Usage in Pandas\n",
    "- The .replace() method in Pandas is used to replace specific values in a DataFrame or Series. It works on both exact matches and pattern-based replacements using regex.\n",
    "#### ✅ Basic Syntax\n",
    "- **df.replace(to_replace, value, inplace=False, regex=False)**\n",
    "  \n",
    "#### 🔎 Parameters:  \n",
    "| Parameter   | Description |\n",
    "|------------|-------------|\n",
    "| `to_replace` | The value (or list/dictionary) to be replaced |\n",
    "| `value`      | The new value to replace with |\n",
    "| `inplace`    | If `True`, modifies the DataFrame in place (default: `False`) |\n",
    "| `regex`      | If `True`, treats `to_replace` as a regex pattern |"
   ]
  },
  {
   "cell_type": "code",
   "execution_count": 6,
   "id": "b65d3dc1-9b9d-43d7-8e9b-637470aee6c8",
   "metadata": {},
   "outputs": [
    {
     "data": {
      "text/plain": [
       "0    M\n",
       "1    F\n",
       "2    F\n",
       "3    F\n",
       "4    ?\n",
       "Name: Sex, dtype: object"
      ]
     },
     "execution_count": 6,
     "metadata": {},
     "output_type": "execute_result"
    }
   ],
   "source": [
    "# here we will be replacing the sex value D with F\n",
    "df[\"Sex\"].replace('D','F')"
   ]
  },
  {
   "cell_type": "markdown",
   "id": "a55dbffd-2af4-4525-83ad-d785b95540c7",
   "metadata": {},
   "source": [
    "It can accept a dictionary of values to replace. For example, they also told you that there might be a few 'N's, that should actually be 'M's:"
   ]
  },
  {
   "cell_type": "code",
   "execution_count": 7,
   "id": "9c89edcb-e486-479a-8970-92cd610a4d86",
   "metadata": {},
   "outputs": [
    {
     "data": {
      "text/plain": [
       "0    M\n",
       "1    F\n",
       "2    F\n",
       "3    F\n",
       "4    M\n",
       "Name: Sex, dtype: object"
      ]
     },
     "execution_count": 7,
     "metadata": {},
     "output_type": "execute_result"
    }
   ],
   "source": [
    "df[\"Sex\"].replace({'D' : 'F', '?' : 'M'})"
   ]
  },
  {
   "cell_type": "code",
   "execution_count": 8,
   "id": "4cdd5ef0-1983-4ac1-bc4a-9c798e2acfb1",
   "metadata": {},
   "outputs": [
    {
     "data": {
      "text/html": [
       "<div>\n",
       "<style scoped>\n",
       "    .dataframe tbody tr th:only-of-type {\n",
       "        vertical-align: middle;\n",
       "    }\n",
       "\n",
       "    .dataframe tbody tr th {\n",
       "        vertical-align: top;\n",
       "    }\n",
       "\n",
       "    .dataframe thead th {\n",
       "        text-align: right;\n",
       "    }\n",
       "</style>\n",
       "<table border=\"1\" class=\"dataframe\">\n",
       "  <thead>\n",
       "    <tr style=\"text-align: right;\">\n",
       "      <th></th>\n",
       "      <th>Sex</th>\n",
       "      <th>Age</th>\n",
       "    </tr>\n",
       "  </thead>\n",
       "  <tbody>\n",
       "    <tr>\n",
       "      <th>0</th>\n",
       "      <td>M</td>\n",
       "      <td>29</td>\n",
       "    </tr>\n",
       "    <tr>\n",
       "      <th>1</th>\n",
       "      <td>F</td>\n",
       "      <td>30</td>\n",
       "    </tr>\n",
       "    <tr>\n",
       "      <th>2</th>\n",
       "      <td>F</td>\n",
       "      <td>24</td>\n",
       "    </tr>\n",
       "    <tr>\n",
       "      <th>3</th>\n",
       "      <td>D</td>\n",
       "      <td>290</td>\n",
       "    </tr>\n",
       "    <tr>\n",
       "      <th>4</th>\n",
       "      <td>?</td>\n",
       "      <td>25</td>\n",
       "    </tr>\n",
       "  </tbody>\n",
       "</table>\n",
       "</div>"
      ],
      "text/plain": [
       "  Sex  Age\n",
       "0   M   29\n",
       "1   F   30\n",
       "2   F   24\n",
       "3   D  290\n",
       "4   ?   25"
      ]
     },
     "execution_count": 8,
     "metadata": {},
     "output_type": "execute_result"
    }
   ],
   "source": [
    "df"
   ]
  },
  {
   "cell_type": "markdown",
   "id": "8c7ec590-a171-4959-899f-9c5d78954ce9",
   "metadata": {},
   "source": [
    "Note that : all these changes are not to the original hence the original df is not modified"
   ]
  },
  {
   "cell_type": "markdown",
   "id": "07145d5e-daf4-4dff-b9b1-59daa7065bce",
   "metadata": {},
   "source": [
    "If you have many columns to replace, you could apply it at \"DataFrame level\":"
   ]
  },
  {
   "cell_type": "code",
   "execution_count": 9,
   "id": "f7fba7d6-c883-41c5-a384-45bef5894f21",
   "metadata": {},
   "outputs": [
    {
     "data": {
      "text/html": [
       "<div>\n",
       "<style scoped>\n",
       "    .dataframe tbody tr th:only-of-type {\n",
       "        vertical-align: middle;\n",
       "    }\n",
       "\n",
       "    .dataframe tbody tr th {\n",
       "        vertical-align: top;\n",
       "    }\n",
       "\n",
       "    .dataframe thead th {\n",
       "        text-align: right;\n",
       "    }\n",
       "</style>\n",
       "<table border=\"1\" class=\"dataframe\">\n",
       "  <thead>\n",
       "    <tr style=\"text-align: right;\">\n",
       "      <th></th>\n",
       "      <th>Sex</th>\n",
       "      <th>Age</th>\n",
       "    </tr>\n",
       "  </thead>\n",
       "  <tbody>\n",
       "    <tr>\n",
       "      <th>0</th>\n",
       "      <td>M</td>\n",
       "      <td>29</td>\n",
       "    </tr>\n",
       "    <tr>\n",
       "      <th>1</th>\n",
       "      <td>F</td>\n",
       "      <td>30</td>\n",
       "    </tr>\n",
       "    <tr>\n",
       "      <th>2</th>\n",
       "      <td>F</td>\n",
       "      <td>24</td>\n",
       "    </tr>\n",
       "    <tr>\n",
       "      <th>3</th>\n",
       "      <td>F</td>\n",
       "      <td>29</td>\n",
       "    </tr>\n",
       "    <tr>\n",
       "      <th>4</th>\n",
       "      <td>M</td>\n",
       "      <td>25</td>\n",
       "    </tr>\n",
       "  </tbody>\n",
       "</table>\n",
       "</div>"
      ],
      "text/plain": [
       "  Sex  Age\n",
       "0   M   29\n",
       "1   F   30\n",
       "2   F   24\n",
       "3   F   29\n",
       "4   M   25"
      ]
     },
     "execution_count": 9,
     "metadata": {},
     "output_type": "execute_result"
    }
   ],
   "source": [
    "df.replace({\n",
    "    'Sex' : {\n",
    "        'D' : 'F',\n",
    "        '?' : 'M'\n",
    "    },\n",
    "    'Age' : {\n",
    "        290 : 29\n",
    "    }\n",
    "})"
   ]
  },
  {
   "cell_type": "markdown",
   "id": "26190a11-a6bc-4746-b511-607f6947c9ce",
   "metadata": {},
   "source": [
    "In the previous example, I explicitly replaced 290 with 29 (assuming it was just an extra 0 entered at data-entry phase). But what if you'd like to remove all the extra 0s from the ages columns? (example, 150 > 15, 490 > 49).\n",
    "\n",
    "The first step would be to just set the limit of the \"not possible\" age. Is it 100? 120? Let's say that anything above 100 isn't credible for our dataset. We can then combine boolean selection with the operation:"
   ]
  },
  {
   "cell_type": "code",
   "execution_count": 10,
   "id": "5805e494-99f0-4285-b703-dbddccd97327",
   "metadata": {},
   "outputs": [
    {
     "data": {
      "text/html": [
       "<div>\n",
       "<style scoped>\n",
       "    .dataframe tbody tr th:only-of-type {\n",
       "        vertical-align: middle;\n",
       "    }\n",
       "\n",
       "    .dataframe tbody tr th {\n",
       "        vertical-align: top;\n",
       "    }\n",
       "\n",
       "    .dataframe thead th {\n",
       "        text-align: right;\n",
       "    }\n",
       "</style>\n",
       "<table border=\"1\" class=\"dataframe\">\n",
       "  <thead>\n",
       "    <tr style=\"text-align: right;\">\n",
       "      <th></th>\n",
       "      <th>Sex</th>\n",
       "      <th>Age</th>\n",
       "    </tr>\n",
       "  </thead>\n",
       "  <tbody>\n",
       "    <tr>\n",
       "      <th>3</th>\n",
       "      <td>D</td>\n",
       "      <td>290</td>\n",
       "    </tr>\n",
       "  </tbody>\n",
       "</table>\n",
       "</div>"
      ],
      "text/plain": [
       "  Sex  Age\n",
       "3   D  290"
      ]
     },
     "execution_count": 10,
     "metadata": {},
     "output_type": "execute_result"
    }
   ],
   "source": [
    "df[df[\"Age\"] > 100]"
   ]
  },
  {
   "cell_type": "markdown",
   "id": "9c479f30-dffc-4c40-a5c0-86aafd183129",
   "metadata": {},
   "source": [
    "And we can now just divide by 10:"
   ]
  },
  {
   "cell_type": "code",
   "execution_count": 11,
   "id": "18a06f5f-5fc4-4de7-bbad-f0b816742634",
   "metadata": {},
   "outputs": [
    {
     "data": {
      "text/plain": [
       "0    False\n",
       "1    False\n",
       "2    False\n",
       "3     True\n",
       "4    False\n",
       "Name: Age, dtype: bool"
      ]
     },
     "execution_count": 11,
     "metadata": {},
     "output_type": "execute_result"
    }
   ],
   "source": [
    "df[\"Age\"] > 100"
   ]
  },
  {
   "cell_type": "code",
   "execution_count": 12,
   "id": "50d1285a-e7c7-4e92-a554-4ad0273d73e2",
   "metadata": {},
   "outputs": [],
   "source": [
    "df.loc[df[\"Age\"] > 100, \"Age\"] = df.loc[df[\"Age\"] > 100, \"Age\"]/10"
   ]
  },
  {
   "cell_type": "code",
   "execution_count": 13,
   "id": "d0d6b0e2-51e6-4e3f-b2b6-f4cec367cd36",
   "metadata": {},
   "outputs": [
    {
     "data": {
      "text/html": [
       "<div>\n",
       "<style scoped>\n",
       "    .dataframe tbody tr th:only-of-type {\n",
       "        vertical-align: middle;\n",
       "    }\n",
       "\n",
       "    .dataframe tbody tr th {\n",
       "        vertical-align: top;\n",
       "    }\n",
       "\n",
       "    .dataframe thead th {\n",
       "        text-align: right;\n",
       "    }\n",
       "</style>\n",
       "<table border=\"1\" class=\"dataframe\">\n",
       "  <thead>\n",
       "    <tr style=\"text-align: right;\">\n",
       "      <th></th>\n",
       "      <th>Sex</th>\n",
       "      <th>Age</th>\n",
       "    </tr>\n",
       "  </thead>\n",
       "  <tbody>\n",
       "    <tr>\n",
       "      <th>0</th>\n",
       "      <td>M</td>\n",
       "      <td>29</td>\n",
       "    </tr>\n",
       "    <tr>\n",
       "      <th>1</th>\n",
       "      <td>F</td>\n",
       "      <td>30</td>\n",
       "    </tr>\n",
       "    <tr>\n",
       "      <th>2</th>\n",
       "      <td>F</td>\n",
       "      <td>24</td>\n",
       "    </tr>\n",
       "    <tr>\n",
       "      <th>3</th>\n",
       "      <td>D</td>\n",
       "      <td>29</td>\n",
       "    </tr>\n",
       "    <tr>\n",
       "      <th>4</th>\n",
       "      <td>?</td>\n",
       "      <td>25</td>\n",
       "    </tr>\n",
       "  </tbody>\n",
       "</table>\n",
       "</div>"
      ],
      "text/plain": [
       "  Sex  Age\n",
       "0   M   29\n",
       "1   F   30\n",
       "2   F   24\n",
       "3   D   29\n",
       "4   ?   25"
      ]
     },
     "execution_count": 13,
     "metadata": {},
     "output_type": "execute_result"
    }
   ],
   "source": [
    "df"
   ]
  },
  {
   "cell_type": "markdown",
   "id": "73eeddeb-983b-4e74-80ea-93e31e033517",
   "metadata": {},
   "source": [
    "#### **🔹 Step-by-Step Breakdown:**\n",
    "---\n",
    "\n",
    "**1️⃣ df['Age'] > 100**\n",
    "- This creates a Boolean mask that identifies rows where \"Age\" is greater than 100.\n",
    "\n",
    "**2️⃣ df.loc[df['Age'] > 100, 'Age']**\n",
    "- This selects the \"Age\" column only for those rows where \"Age\" is greater than 100.\n",
    "\n",
    "**3️⃣ df.loc[df['Age'] > 100, 'Age'] / 10**\n",
    "- This divides those values by 10 to correct wrongly recorded ages.\n",
    "\n",
    "**4️⃣ Assignment =**\n",
    "- The calculated values replace the original values in the \"Age\" column."
   ]
  },
  {
   "cell_type": "markdown",
   "id": "c80db2f3-0044-4eb2-9ceb-cf237b260c03",
   "metadata": {},
   "source": [
    "### Duplicates"
   ]
  },
  {
   "cell_type": "markdown",
   "id": "9fd3f34a-16fc-462f-92b8-de83afd04acc",
   "metadata": {},
   "source": [
    "Checking duplicate values is extremely simple. It'll behave differently between Series and DataFrames. Let's start with Series. As an example, let's say we're throwing a fancy party and we're inviting Ambassadors from Europe. But can only invite one ambassador per country. This is our original list, and as you can see, both the UK and Germany have duplicated ambassadors:"
   ]
  },
  {
   "cell_type": "code",
   "execution_count": 14,
   "id": "ca6e17ef-975e-4efd-afbf-05fd8e7d0ea5",
   "metadata": {},
   "outputs": [
    {
     "data": {
      "text/plain": [
       "Gérard Araud                  France\n",
       "Kim Darroch           United Kingdom\n",
       "Peter Westmacott      United Kingdom\n",
       "Armando Varricchio             Italy\n",
       "Peter Wittig                 Germany\n",
       "Peter Ammon                  Germany\n",
       "Klaus Scharioth              Germany\n",
       "dtype: object"
      ]
     },
     "execution_count": 14,
     "metadata": {},
     "output_type": "execute_result"
    }
   ],
   "source": [
    "ambassadors = pd.Series([\n",
    "    'France',\n",
    "    'United Kingdom',\n",
    "    'United Kingdom',\n",
    "    'Italy',\n",
    "    'Germany',\n",
    "    'Germany',\n",
    "    'Germany',\n",
    "], index=[\n",
    "    'Gérard Araud',\n",
    "    'Kim Darroch',\n",
    "    'Peter Westmacott',\n",
    "    'Armando Varricchio',\n",
    "    'Peter Wittig',\n",
    "    'Peter Ammon',\n",
    "    'Klaus Scharioth '\n",
    "])\n",
    "ambassadors"
   ]
  },
  {
   "cell_type": "markdown",
   "id": "8332ef2f-adb7-427c-9a6b-2afb28144201",
   "metadata": {},
   "source": [
    "here we are tasked to filter the ambassador series such that each country is represented by a single ambassador"
   ]
  },
  {
   "cell_type": "code",
   "execution_count": 15,
   "id": "115116d6-f41e-4b03-ba9b-936dcfbceffc",
   "metadata": {},
   "outputs": [
    {
     "data": {
      "text/plain": [
       "array(['France', 'United Kingdom', 'Italy', 'Germany'], dtype=object)"
      ]
     },
     "execution_count": 15,
     "metadata": {},
     "output_type": "execute_result"
    }
   ],
   "source": [
    "ambassadors.unique()"
   ]
  },
  {
   "cell_type": "code",
   "execution_count": 16,
   "id": "fa272627-2b76-4896-87ae-d62ab3e9406f",
   "metadata": {},
   "outputs": [
    {
     "data": {
      "text/plain": [
       "Germany           3\n",
       "United Kingdom    2\n",
       "France            1\n",
       "Italy             1\n",
       "Name: count, dtype: int64"
      ]
     },
     "execution_count": 16,
     "metadata": {},
     "output_type": "execute_result"
    }
   ],
   "source": [
    "ambassadors.value_counts()"
   ]
  },
  {
   "cell_type": "markdown",
   "id": "4d8e82d4-d57e-42d7-a22b-c91c4ca627b1",
   "metadata": {},
   "source": [
    "The two most important methods to deal with duplicates are duplicated (that will tell you which values are duplicates) and drop_duplicates (which will just get rid of duplicates):"
   ]
  },
  {
   "cell_type": "markdown",
   "id": "33169097-ffe1-4aff-8418-dd14b267566b",
   "metadata": {},
   "source": [
    "**🔹 duplicated() Function in Pandas**  \n",
    "The .duplicated() function is used to identify duplicate rows in a Pandas DataFrame or Series.\n",
    "\n",
    "**✅ Syntax**\n",
    "\n",
    "- df.duplicated(subset=None, keep='first')\n",
    "\n",
    "| Parameter  | Description |\n",
    "|------------|-------------|\n",
    "| `subset`   | Column(s) to check for duplicates (default: all columns) |\n",
    "| `keep`     | `'first'` (keep first occurrence), `'last'` (keep last), `False` (mark all as duplicates) |"
   ]
  },
  {
   "cell_type": "code",
   "execution_count": 17,
   "id": "d054c73d-c240-454b-8bc4-e0e21ff60a07",
   "metadata": {},
   "outputs": [
    {
     "data": {
      "text/plain": [
       "Gérard Araud          False\n",
       "Kim Darroch           False\n",
       "Peter Westmacott       True\n",
       "Armando Varricchio    False\n",
       "Peter Wittig          False\n",
       "Peter Ammon            True\n",
       "Klaus Scharioth        True\n",
       "dtype: bool"
      ]
     },
     "execution_count": 17,
     "metadata": {},
     "output_type": "execute_result"
    }
   ],
   "source": [
    "ambassadors.duplicated()"
   ]
  },
  {
   "cell_type": "markdown",
   "id": "b39cac16-861a-4fd3-919f-babfa9866a47",
   "metadata": {},
   "source": [
    "In this case duplicated didn't consider 'Kim Darroch', the first instance of the United Kingdom or 'Peter Wittig' as duplicates. That's because, by default, it'll consider the first occurrence of the value as not-duplicate. You can change this behavior with the keep parameter:"
   ]
  },
  {
   "cell_type": "code",
   "execution_count": 18,
   "id": "d166eeb9-111c-42f2-8b0c-441c950b20cc",
   "metadata": {},
   "outputs": [
    {
     "data": {
      "text/plain": [
       "Gérard Araud          False\n",
       "Kim Darroch            True\n",
       "Peter Westmacott      False\n",
       "Armando Varricchio    False\n",
       "Peter Wittig           True\n",
       "Peter Ammon            True\n",
       "Klaus Scharioth       False\n",
       "dtype: bool"
      ]
     },
     "execution_count": 18,
     "metadata": {},
     "output_type": "execute_result"
    }
   ],
   "source": [
    "# suppose we want to keep the last then we will use the keep = \"last\" attribute\n",
    "ambassadors.duplicated(keep= \"last\")"
   ]
  },
  {
   "cell_type": "markdown",
   "id": "093b6be1-ed97-4fba-a121-a87ae3915769",
   "metadata": {},
   "source": [
    "In this case, the result is \"flipped\", 'Kim Darroch' and 'Peter Wittig' (the first ambassadors of their countries) are considered duplicates, but 'Peter Westmacott' and 'Klaus Scharioth' are not duplicates. You can also choose to mark all of them as duplicates with keep=False:"
   ]
  },
  {
   "cell_type": "code",
   "execution_count": 19,
   "id": "82ae831f-fe50-4889-9cf7-274b6936edeb",
   "metadata": {},
   "outputs": [
    {
     "data": {
      "text/plain": [
       "Gérard Araud          False\n",
       "Kim Darroch            True\n",
       "Peter Westmacott       True\n",
       "Armando Varricchio    False\n",
       "Peter Wittig           True\n",
       "Peter Ammon            True\n",
       "Klaus Scharioth        True\n",
       "dtype: bool"
      ]
     },
     "execution_count": 19,
     "metadata": {},
     "output_type": "execute_result"
    }
   ],
   "source": [
    "ambassadors.duplicated(keep= False)"
   ]
  },
  {
   "cell_type": "markdown",
   "id": "84bf0855-30d6-469c-bfc7-8a0a2c48fe6c",
   "metadata": {},
   "source": [
    "A similar method is drop_duplicates, which just excludes the duplicated values and also accepts the keep parameter:"
   ]
  },
  {
   "cell_type": "markdown",
   "id": "935387ec-f958-4de4-a02c-9b7524e92801",
   "metadata": {},
   "source": [
    "The **.drop_duplicates()** function is used to remove duplicate rows from a DataFrame. It keeps only one occurrence of the duplicate rows based on the keep parameter."
   ]
  },
  {
   "cell_type": "code",
   "execution_count": 22,
   "id": "4421b3d2-8d96-48c9-a5c7-d338cb3479de",
   "metadata": {},
   "outputs": [
    {
     "data": {
      "text/plain": [
       "Gérard Araud                  France\n",
       "Kim Darroch           United Kingdom\n",
       "Armando Varricchio             Italy\n",
       "Peter Wittig                 Germany\n",
       "dtype: object"
      ]
     },
     "execution_count": 22,
     "metadata": {},
     "output_type": "execute_result"
    }
   ],
   "source": [
    "# note that default keep = \"first\"\n",
    "ambassadors.drop_duplicates(keep = \"first\")"
   ]
  },
  {
   "cell_type": "code",
   "execution_count": 23,
   "id": "bb4045b9-68e4-4afc-b594-eb59831fcc87",
   "metadata": {},
   "outputs": [
    {
     "data": {
      "text/plain": [
       "Gérard Araud                  France\n",
       "Peter Westmacott      United Kingdom\n",
       "Armando Varricchio             Italy\n",
       "Klaus Scharioth              Germany\n",
       "dtype: object"
      ]
     },
     "execution_count": 23,
     "metadata": {},
     "output_type": "execute_result"
    }
   ],
   "source": [
    "ambassadors.drop_duplicates(keep = \"last\")"
   ]
  },
  {
   "cell_type": "code",
   "execution_count": 25,
   "id": "fa04673a-6bc7-4666-9082-e5e68f7ec9b8",
   "metadata": {},
   "outputs": [
    {
     "data": {
      "text/plain": [
       "Gérard Araud          France\n",
       "Armando Varricchio     Italy\n",
       "dtype: object"
      ]
     },
     "execution_count": 25,
     "metadata": {},
     "output_type": "execute_result"
    }
   ],
   "source": [
    "ambassadors.drop_duplicates(keep = False)\n",
    "# it removes all occurrences of duplicate rows, leaving only the unique rows."
   ]
  },
  {
   "cell_type": "markdown",
   "id": "a8dd82cb-8db1-4c71-9409-859f917bc69e",
   "metadata": {},
   "source": [
    "### Duplicates in DataFrames"
   ]
  },
  {
   "cell_type": "markdown",
   "id": "a7087585-7128-4ded-9284-47b3a7f6638d",
   "metadata": {},
   "source": [
    "Conceptually speaking, duplicates in a DataFrame happen at \"row\" level. Two rows with exactly the same values are considered to be duplicates:"
   ]
  },
  {
   "cell_type": "code",
   "execution_count": 26,
   "id": "4cd0ee88-8ef0-4fd4-8314-d6e8fa4dda37",
   "metadata": {},
   "outputs": [],
   "source": [
    "players = pd.DataFrame({\n",
    "    'Name': [\n",
    "        'Kobe Bryant',\n",
    "        'LeBron James',\n",
    "        'Kobe Bryant',\n",
    "        'Carmelo Anthony',\n",
    "        'Kobe Bryant',\n",
    "    ],\n",
    "    'Pos': [\n",
    "        'SG',\n",
    "        'SF',\n",
    "        'SG',\n",
    "        'SF',\n",
    "        'SF'\n",
    "    ]\n",
    "})"
   ]
  },
  {
   "cell_type": "code",
   "execution_count": 27,
   "id": "560efe7d-0437-4746-8a24-fcfff13f4baf",
   "metadata": {},
   "outputs": [
    {
     "data": {
      "text/html": [
       "<div>\n",
       "<style scoped>\n",
       "    .dataframe tbody tr th:only-of-type {\n",
       "        vertical-align: middle;\n",
       "    }\n",
       "\n",
       "    .dataframe tbody tr th {\n",
       "        vertical-align: top;\n",
       "    }\n",
       "\n",
       "    .dataframe thead th {\n",
       "        text-align: right;\n",
       "    }\n",
       "</style>\n",
       "<table border=\"1\" class=\"dataframe\">\n",
       "  <thead>\n",
       "    <tr style=\"text-align: right;\">\n",
       "      <th></th>\n",
       "      <th>Name</th>\n",
       "      <th>Pos</th>\n",
       "    </tr>\n",
       "  </thead>\n",
       "  <tbody>\n",
       "    <tr>\n",
       "      <th>0</th>\n",
       "      <td>Kobe Bryant</td>\n",
       "      <td>SG</td>\n",
       "    </tr>\n",
       "    <tr>\n",
       "      <th>1</th>\n",
       "      <td>LeBron James</td>\n",
       "      <td>SF</td>\n",
       "    </tr>\n",
       "    <tr>\n",
       "      <th>2</th>\n",
       "      <td>Kobe Bryant</td>\n",
       "      <td>SG</td>\n",
       "    </tr>\n",
       "    <tr>\n",
       "      <th>3</th>\n",
       "      <td>Carmelo Anthony</td>\n",
       "      <td>SF</td>\n",
       "    </tr>\n",
       "    <tr>\n",
       "      <th>4</th>\n",
       "      <td>Kobe Bryant</td>\n",
       "      <td>SF</td>\n",
       "    </tr>\n",
       "  </tbody>\n",
       "</table>\n",
       "</div>"
      ],
      "text/plain": [
       "              Name Pos\n",
       "0      Kobe Bryant  SG\n",
       "1     LeBron James  SF\n",
       "2      Kobe Bryant  SG\n",
       "3  Carmelo Anthony  SF\n",
       "4      Kobe Bryant  SF"
      ]
     },
     "execution_count": 27,
     "metadata": {},
     "output_type": "execute_result"
    }
   ],
   "source": [
    "players"
   ]
  },
  {
   "cell_type": "markdown",
   "id": "096d4e39-4fb6-43ca-b31f-a1182b1ecc17",
   "metadata": {},
   "source": [
    "In the previous DataFrame, we clearly see that Kobe is duplicated; but he appears with two different positions. What does duplicated say?"
   ]
  },
  {
   "cell_type": "code",
   "execution_count": 28,
   "id": "90b621e1-8977-4723-8085-68a13dbfb474",
   "metadata": {},
   "outputs": [
    {
     "data": {
      "text/plain": [
       "0    False\n",
       "1    False\n",
       "2     True\n",
       "3    False\n",
       "4    False\n",
       "dtype: bool"
      ]
     },
     "execution_count": 28,
     "metadata": {},
     "output_type": "execute_result"
    }
   ],
   "source": [
    "players.duplicated()"
   ]
  },
  {
   "cell_type": "markdown",
   "id": "bc395e38-e925-4ad2-a37d-7c33b3f7a91f",
   "metadata": {},
   "source": [
    "Again, conceptually, \"duplicated\" means \"all the column values should be duplicates\". We can customize this with the subset parameter:"
   ]
  },
  {
   "cell_type": "markdown",
   "id": "5ad5c80f-4e17-4072-b5c4-46fc9ddecff4",
   "metadata": {},
   "source": [
    "The subset parameter in .duplicated() allows you to check for duplicates based only on specific columns instead of the entire DataFrame."
   ]
  },
  {
   "cell_type": "code",
   "execution_count": 30,
   "id": "8a8c72b1-6d66-42c6-acb1-15614320cc5c",
   "metadata": {},
   "outputs": [
    {
     "data": {
      "text/plain": [
       "0    False\n",
       "1    False\n",
       "2     True\n",
       "3    False\n",
       "4     True\n",
       "dtype: bool"
      ]
     },
     "execution_count": 30,
     "metadata": {},
     "output_type": "execute_result"
    }
   ],
   "source": [
    "# here the duplicated function is performed only on the name column and not the entire dataframe\n",
    "players.duplicated(subset=['Name'])"
   ]
  },
  {
   "cell_type": "markdown",
   "id": "7d38b1f8-8ac5-44d1-b0a1-619b095bb349",
   "metadata": {},
   "source": [
    "And the same rules of keep still apply:"
   ]
  },
  {
   "cell_type": "code",
   "execution_count": 31,
   "id": "5dbdd898-4ae6-42a3-ab49-e54c93836ea2",
   "metadata": {},
   "outputs": [
    {
     "data": {
      "text/plain": [
       "0     True\n",
       "1    False\n",
       "2     True\n",
       "3    False\n",
       "4    False\n",
       "dtype: bool"
      ]
     },
     "execution_count": 31,
     "metadata": {},
     "output_type": "execute_result"
    }
   ],
   "source": [
    "players.duplicated(subset=['Name'], keep='last')"
   ]
  },
  {
   "cell_type": "markdown",
   "id": "8c813433-0eed-47aa-8abe-b4d3ef42685e",
   "metadata": {},
   "source": [
    "drop_duplicates takes the same parameters:"
   ]
  },
  {
   "cell_type": "code",
   "execution_count": 32,
   "id": "431d30d0-b04f-4a65-ab2f-434d9d5abd1f",
   "metadata": {},
   "outputs": [
    {
     "data": {
      "text/html": [
       "<div>\n",
       "<style scoped>\n",
       "    .dataframe tbody tr th:only-of-type {\n",
       "        vertical-align: middle;\n",
       "    }\n",
       "\n",
       "    .dataframe tbody tr th {\n",
       "        vertical-align: top;\n",
       "    }\n",
       "\n",
       "    .dataframe thead th {\n",
       "        text-align: right;\n",
       "    }\n",
       "</style>\n",
       "<table border=\"1\" class=\"dataframe\">\n",
       "  <thead>\n",
       "    <tr style=\"text-align: right;\">\n",
       "      <th></th>\n",
       "      <th>Name</th>\n",
       "      <th>Pos</th>\n",
       "    </tr>\n",
       "  </thead>\n",
       "  <tbody>\n",
       "    <tr>\n",
       "      <th>0</th>\n",
       "      <td>Kobe Bryant</td>\n",
       "      <td>SG</td>\n",
       "    </tr>\n",
       "    <tr>\n",
       "      <th>1</th>\n",
       "      <td>LeBron James</td>\n",
       "      <td>SF</td>\n",
       "    </tr>\n",
       "    <tr>\n",
       "      <th>3</th>\n",
       "      <td>Carmelo Anthony</td>\n",
       "      <td>SF</td>\n",
       "    </tr>\n",
       "    <tr>\n",
       "      <th>4</th>\n",
       "      <td>Kobe Bryant</td>\n",
       "      <td>SF</td>\n",
       "    </tr>\n",
       "  </tbody>\n",
       "</table>\n",
       "</div>"
      ],
      "text/plain": [
       "              Name Pos\n",
       "0      Kobe Bryant  SG\n",
       "1     LeBron James  SF\n",
       "3  Carmelo Anthony  SF\n",
       "4      Kobe Bryant  SF"
      ]
     },
     "execution_count": 32,
     "metadata": {},
     "output_type": "execute_result"
    }
   ],
   "source": [
    "players.drop_duplicates()"
   ]
  },
  {
   "cell_type": "code",
   "execution_count": 33,
   "id": "1c0a80c6-6636-4299-b123-997e0f4c507b",
   "metadata": {},
   "outputs": [
    {
     "data": {
      "text/html": [
       "<div>\n",
       "<style scoped>\n",
       "    .dataframe tbody tr th:only-of-type {\n",
       "        vertical-align: middle;\n",
       "    }\n",
       "\n",
       "    .dataframe tbody tr th {\n",
       "        vertical-align: top;\n",
       "    }\n",
       "\n",
       "    .dataframe thead th {\n",
       "        text-align: right;\n",
       "    }\n",
       "</style>\n",
       "<table border=\"1\" class=\"dataframe\">\n",
       "  <thead>\n",
       "    <tr style=\"text-align: right;\">\n",
       "      <th></th>\n",
       "      <th>Name</th>\n",
       "      <th>Pos</th>\n",
       "    </tr>\n",
       "  </thead>\n",
       "  <tbody>\n",
       "    <tr>\n",
       "      <th>0</th>\n",
       "      <td>Kobe Bryant</td>\n",
       "      <td>SG</td>\n",
       "    </tr>\n",
       "    <tr>\n",
       "      <th>1</th>\n",
       "      <td>LeBron James</td>\n",
       "      <td>SF</td>\n",
       "    </tr>\n",
       "    <tr>\n",
       "      <th>3</th>\n",
       "      <td>Carmelo Anthony</td>\n",
       "      <td>SF</td>\n",
       "    </tr>\n",
       "  </tbody>\n",
       "</table>\n",
       "</div>"
      ],
      "text/plain": [
       "              Name Pos\n",
       "0      Kobe Bryant  SG\n",
       "1     LeBron James  SF\n",
       "3  Carmelo Anthony  SF"
      ]
     },
     "execution_count": 33,
     "metadata": {},
     "output_type": "execute_result"
    }
   ],
   "source": [
    "players.drop_duplicates(subset = \"Name\")"
   ]
  },
  {
   "cell_type": "code",
   "execution_count": 34,
   "id": "e50e9464-67c5-4190-9b04-e5ec51fd0a6f",
   "metadata": {},
   "outputs": [
    {
     "data": {
      "text/html": [
       "<div>\n",
       "<style scoped>\n",
       "    .dataframe tbody tr th:only-of-type {\n",
       "        vertical-align: middle;\n",
       "    }\n",
       "\n",
       "    .dataframe tbody tr th {\n",
       "        vertical-align: top;\n",
       "    }\n",
       "\n",
       "    .dataframe thead th {\n",
       "        text-align: right;\n",
       "    }\n",
       "</style>\n",
       "<table border=\"1\" class=\"dataframe\">\n",
       "  <thead>\n",
       "    <tr style=\"text-align: right;\">\n",
       "      <th></th>\n",
       "      <th>Name</th>\n",
       "      <th>Pos</th>\n",
       "    </tr>\n",
       "  </thead>\n",
       "  <tbody>\n",
       "    <tr>\n",
       "      <th>1</th>\n",
       "      <td>LeBron James</td>\n",
       "      <td>SF</td>\n",
       "    </tr>\n",
       "    <tr>\n",
       "      <th>3</th>\n",
       "      <td>Carmelo Anthony</td>\n",
       "      <td>SF</td>\n",
       "    </tr>\n",
       "    <tr>\n",
       "      <th>4</th>\n",
       "      <td>Kobe Bryant</td>\n",
       "      <td>SF</td>\n",
       "    </tr>\n",
       "  </tbody>\n",
       "</table>\n",
       "</div>"
      ],
      "text/plain": [
       "              Name Pos\n",
       "1     LeBron James  SF\n",
       "3  Carmelo Anthony  SF\n",
       "4      Kobe Bryant  SF"
      ]
     },
     "execution_count": 34,
     "metadata": {},
     "output_type": "execute_result"
    }
   ],
   "source": [
    "players.drop_duplicates(subset=['Name'], keep='last')"
   ]
  },
  {
   "cell_type": "markdown",
   "id": "dc198949-4e1e-4ae7-b036-c4c20fc18d7f",
   "metadata": {},
   "source": [
    "### Text Handling"
   ]
  },
  {
   "cell_type": "markdown",
   "id": "c4276275-ea69-4789-a964-dd7824576aef",
   "metadata": {},
   "source": [
    "Cleaning text values can be incredibly hard. Invalid text values involves, 99% of the time, mistyping, which is completely unpredictable and doesn't follow any pattern. Thankfully, it's not so common these days, where data-entry tasks have been replaced by machines. Still, let's explore the most common cases:"
   ]
  },
  {
   "cell_type": "markdown",
   "id": "ce14d5cf-5581-4aa9-94ab-af45653ee531",
   "metadata": {},
   "source": [
    "#### Splitting Columns"
   ]
  },
  {
   "cell_type": "markdown",
   "id": "cbc6b314-50c9-439a-a31a-71055a694905",
   "metadata": {},
   "source": [
    "The result of a survey is loaded and this is what you get:"
   ]
  },
  {
   "cell_type": "code",
   "execution_count": 36,
   "id": "ab1b0dbe-bd20-4d1a-8a9f-e69daad1f7cd",
   "metadata": {},
   "outputs": [],
   "source": [
    "df = pd.DataFrame({\n",
    "    'Data': [\n",
    "        '1987_M_US _1',\n",
    "        '1990?_M_UK_1',\n",
    "        '1992_F_US_2',\n",
    "        '1970?_M_   IT_1',\n",
    "        '1985_F_I  T_2'\n",
    "]})"
   ]
  },
  {
   "cell_type": "code",
   "execution_count": 37,
   "id": "f88011e7-cb7a-496c-8eee-95a359eaf904",
   "metadata": {},
   "outputs": [
    {
     "data": {
      "text/html": [
       "<div>\n",
       "<style scoped>\n",
       "    .dataframe tbody tr th:only-of-type {\n",
       "        vertical-align: middle;\n",
       "    }\n",
       "\n",
       "    .dataframe tbody tr th {\n",
       "        vertical-align: top;\n",
       "    }\n",
       "\n",
       "    .dataframe thead th {\n",
       "        text-align: right;\n",
       "    }\n",
       "</style>\n",
       "<table border=\"1\" class=\"dataframe\">\n",
       "  <thead>\n",
       "    <tr style=\"text-align: right;\">\n",
       "      <th></th>\n",
       "      <th>Data</th>\n",
       "    </tr>\n",
       "  </thead>\n",
       "  <tbody>\n",
       "    <tr>\n",
       "      <th>0</th>\n",
       "      <td>1987_M_US _1</td>\n",
       "    </tr>\n",
       "    <tr>\n",
       "      <th>1</th>\n",
       "      <td>1990?_M_UK_1</td>\n",
       "    </tr>\n",
       "    <tr>\n",
       "      <th>2</th>\n",
       "      <td>1992_F_US_2</td>\n",
       "    </tr>\n",
       "    <tr>\n",
       "      <th>3</th>\n",
       "      <td>1970?_M_   IT_1</td>\n",
       "    </tr>\n",
       "    <tr>\n",
       "      <th>4</th>\n",
       "      <td>1985_F_I  T_2</td>\n",
       "    </tr>\n",
       "  </tbody>\n",
       "</table>\n",
       "</div>"
      ],
      "text/plain": [
       "              Data\n",
       "0     1987_M_US _1\n",
       "1     1990?_M_UK_1\n",
       "2      1992_F_US_2\n",
       "3  1970?_M_   IT_1\n",
       "4    1985_F_I  T_2"
      ]
     },
     "execution_count": 37,
     "metadata": {},
     "output_type": "execute_result"
    }
   ],
   "source": [
    "df"
   ]
  },
  {
   "cell_type": "markdown",
   "id": "279e4a00-c7cb-4f10-9604-7e4e06bdbe67",
   "metadata": {},
   "source": [
    "You know that the single columns represent the values \"year, Sex, Country and number of children\", but it's all been grouped in the same column and separated by an underscore. Pandas has a convenient method named split that we can use in these situations:"
   ]
  },
  {
   "cell_type": "markdown",
   "id": "485bb849-2f12-49b5-b4c1-93fd5831e3f9",
   "metadata": {},
   "source": [
    "**🔍 Understanding .str in Pandas**  \n",
    "In Pandas, .str is a string accessor that allows you to apply string operations on a Pandas Series containing text data.\n",
    "It enables you to use Python's built-in string methods vectorized across all rows of a column.\n",
    "\n",
    "**Why Use .str in Pandas?**  \n",
    "Normally, Python string methods like .split(), .lower(), or .replace() work only on individual strings.\n",
    "But in Pandas, we deal with entire columns, so .str allows us to apply these methods efficiently.\n",
    "\n",
    "#### ✅ Summary Table of `.str` Functions\n",
    "\n",
    "| **Function**               | **Description**                              |\n",
    "|----------------------------|----------------------------------------------|\n",
    "| `.str.lower()`             | Converts to lowercase                        |\n",
    "| `.str.upper()`             | Converts to uppercase                        |\n",
    "| `.str.strip()`             | Removes leading/trailing spaces              |\n",
    "| `.str.replace(old, new)`   | Replaces text                                |\n",
    "| `.str.contains(substring)` | Checks if substring exists                   |\n",
    "| `.str.split(delimiter)`    | Splits string into a list                    |\n",
    "| `.str.extract(pattern)`    | Extracts part of a string using regex        |\n",
    "| `.str.count(substring)`    | Counts occurrences of a substring            |"
   ]
  },
  {
   "cell_type": "markdown",
   "id": "7db0dc08-001b-4ed2-baa1-13539757decb",
   "metadata": {},
   "source": [
    "Note that .split() and other method works with only string hence we need to change the data into a string form "
   ]
  },
  {
   "cell_type": "code",
   "execution_count": 42,
   "id": "245617fa-3d3a-4dda-849e-e437248e2351",
   "metadata": {},
   "outputs": [
    {
     "data": {
      "text/plain": [
       "0       [1987, M, US , 1]\n",
       "1       [1990?, M, UK, 1]\n",
       "2        [1992, F, US, 2]\n",
       "3    [1970?, M,    IT, 1]\n",
       "4      [1985, F, I  T, 2]\n",
       "Name: Data, dtype: object"
      ]
     },
     "execution_count": 42,
     "metadata": {},
     "output_type": "execute_result"
    }
   ],
   "source": [
    "df[\"Data\"].str.split(\"_\")"
   ]
  },
  {
   "cell_type": "code",
   "execution_count": 44,
   "id": "1146c052-5eb7-483d-bd45-4cfe26514e9c",
   "metadata": {},
   "outputs": [
    {
     "data": {
      "text/html": [
       "<div>\n",
       "<style scoped>\n",
       "    .dataframe tbody tr th:only-of-type {\n",
       "        vertical-align: middle;\n",
       "    }\n",
       "\n",
       "    .dataframe tbody tr th {\n",
       "        vertical-align: top;\n",
       "    }\n",
       "\n",
       "    .dataframe thead th {\n",
       "        text-align: right;\n",
       "    }\n",
       "</style>\n",
       "<table border=\"1\" class=\"dataframe\">\n",
       "  <thead>\n",
       "    <tr style=\"text-align: right;\">\n",
       "      <th></th>\n",
       "      <th>0</th>\n",
       "      <th>1</th>\n",
       "      <th>2</th>\n",
       "      <th>3</th>\n",
       "    </tr>\n",
       "  </thead>\n",
       "  <tbody>\n",
       "    <tr>\n",
       "      <th>0</th>\n",
       "      <td>1987</td>\n",
       "      <td>M</td>\n",
       "      <td>US</td>\n",
       "      <td>1</td>\n",
       "    </tr>\n",
       "    <tr>\n",
       "      <th>1</th>\n",
       "      <td>1990?</td>\n",
       "      <td>M</td>\n",
       "      <td>UK</td>\n",
       "      <td>1</td>\n",
       "    </tr>\n",
       "    <tr>\n",
       "      <th>2</th>\n",
       "      <td>1992</td>\n",
       "      <td>F</td>\n",
       "      <td>US</td>\n",
       "      <td>2</td>\n",
       "    </tr>\n",
       "    <tr>\n",
       "      <th>3</th>\n",
       "      <td>1970?</td>\n",
       "      <td>M</td>\n",
       "      <td>IT</td>\n",
       "      <td>1</td>\n",
       "    </tr>\n",
       "    <tr>\n",
       "      <th>4</th>\n",
       "      <td>1985</td>\n",
       "      <td>F</td>\n",
       "      <td>I  T</td>\n",
       "      <td>2</td>\n",
       "    </tr>\n",
       "  </tbody>\n",
       "</table>\n",
       "</div>"
      ],
      "text/plain": [
       "       0  1      2  3\n",
       "0   1987  M    US   1\n",
       "1  1990?  M     UK  1\n",
       "2   1992  F     US  2\n",
       "3  1970?  M     IT  1\n",
       "4   1985  F   I  T  2"
      ]
     },
     "execution_count": 44,
     "metadata": {},
     "output_type": "execute_result"
    }
   ],
   "source": [
    "df['Data'].str.split('_', expand=True)\n",
    "# expand=True\tExpands the split parts into separate columns (returns a DataFrame instead of a list)."
   ]
  },
  {
   "cell_type": "code",
   "execution_count": 45,
   "id": "e636fde1-600e-4a47-9dda-a065ca527fae",
   "metadata": {},
   "outputs": [
    {
     "data": {
      "text/html": [
       "<div>\n",
       "<style scoped>\n",
       "    .dataframe tbody tr th:only-of-type {\n",
       "        vertical-align: middle;\n",
       "    }\n",
       "\n",
       "    .dataframe tbody tr th {\n",
       "        vertical-align: top;\n",
       "    }\n",
       "\n",
       "    .dataframe thead th {\n",
       "        text-align: right;\n",
       "    }\n",
       "</style>\n",
       "<table border=\"1\" class=\"dataframe\">\n",
       "  <thead>\n",
       "    <tr style=\"text-align: right;\">\n",
       "      <th></th>\n",
       "      <th>Data</th>\n",
       "    </tr>\n",
       "  </thead>\n",
       "  <tbody>\n",
       "    <tr>\n",
       "      <th>0</th>\n",
       "      <td>1987_M_US _1</td>\n",
       "    </tr>\n",
       "    <tr>\n",
       "      <th>1</th>\n",
       "      <td>1990?_M_UK_1</td>\n",
       "    </tr>\n",
       "    <tr>\n",
       "      <th>2</th>\n",
       "      <td>1992_F_US_2</td>\n",
       "    </tr>\n",
       "    <tr>\n",
       "      <th>3</th>\n",
       "      <td>1970?_M_   IT_1</td>\n",
       "    </tr>\n",
       "    <tr>\n",
       "      <th>4</th>\n",
       "      <td>1985_F_I  T_2</td>\n",
       "    </tr>\n",
       "  </tbody>\n",
       "</table>\n",
       "</div>"
      ],
      "text/plain": [
       "              Data\n",
       "0     1987_M_US _1\n",
       "1     1990?_M_UK_1\n",
       "2      1992_F_US_2\n",
       "3  1970?_M_   IT_1\n",
       "4    1985_F_I  T_2"
      ]
     },
     "execution_count": 45,
     "metadata": {},
     "output_type": "execute_result"
    }
   ],
   "source": [
    "df"
   ]
  },
  {
   "cell_type": "markdown",
   "id": "6bda69ce-df5d-414b-997e-7a04198733dc",
   "metadata": {},
   "source": [
    "Note that : these changes are not in the original dataframe hence we need to update the changes in the original"
   ]
  },
  {
   "cell_type": "code",
   "execution_count": 46,
   "id": "4fb9e29a-534b-4da8-9757-df8f00dd4111",
   "metadata": {},
   "outputs": [],
   "source": [
    "df = df['Data'].str.split('_', expand=True)"
   ]
  },
  {
   "cell_type": "code",
   "execution_count": 47,
   "id": "e037524c-092d-4197-88cb-29d0ca1a3508",
   "metadata": {},
   "outputs": [
    {
     "data": {
      "text/html": [
       "<div>\n",
       "<style scoped>\n",
       "    .dataframe tbody tr th:only-of-type {\n",
       "        vertical-align: middle;\n",
       "    }\n",
       "\n",
       "    .dataframe tbody tr th {\n",
       "        vertical-align: top;\n",
       "    }\n",
       "\n",
       "    .dataframe thead th {\n",
       "        text-align: right;\n",
       "    }\n",
       "</style>\n",
       "<table border=\"1\" class=\"dataframe\">\n",
       "  <thead>\n",
       "    <tr style=\"text-align: right;\">\n",
       "      <th></th>\n",
       "      <th>0</th>\n",
       "      <th>1</th>\n",
       "      <th>2</th>\n",
       "      <th>3</th>\n",
       "    </tr>\n",
       "  </thead>\n",
       "  <tbody>\n",
       "    <tr>\n",
       "      <th>0</th>\n",
       "      <td>1987</td>\n",
       "      <td>M</td>\n",
       "      <td>US</td>\n",
       "      <td>1</td>\n",
       "    </tr>\n",
       "    <tr>\n",
       "      <th>1</th>\n",
       "      <td>1990?</td>\n",
       "      <td>M</td>\n",
       "      <td>UK</td>\n",
       "      <td>1</td>\n",
       "    </tr>\n",
       "    <tr>\n",
       "      <th>2</th>\n",
       "      <td>1992</td>\n",
       "      <td>F</td>\n",
       "      <td>US</td>\n",
       "      <td>2</td>\n",
       "    </tr>\n",
       "    <tr>\n",
       "      <th>3</th>\n",
       "      <td>1970?</td>\n",
       "      <td>M</td>\n",
       "      <td>IT</td>\n",
       "      <td>1</td>\n",
       "    </tr>\n",
       "    <tr>\n",
       "      <th>4</th>\n",
       "      <td>1985</td>\n",
       "      <td>F</td>\n",
       "      <td>I  T</td>\n",
       "      <td>2</td>\n",
       "    </tr>\n",
       "  </tbody>\n",
       "</table>\n",
       "</div>"
      ],
      "text/plain": [
       "       0  1      2  3\n",
       "0   1987  M    US   1\n",
       "1  1990?  M     UK  1\n",
       "2   1992  F     US  2\n",
       "3  1970?  M     IT  1\n",
       "4   1985  F   I  T  2"
      ]
     },
     "execution_count": 47,
     "metadata": {},
     "output_type": "execute_result"
    }
   ],
   "source": [
    "df"
   ]
  },
  {
   "cell_type": "code",
   "execution_count": 48,
   "id": "82b76fa6-8214-49f7-9115-43de265d2fd7",
   "metadata": {},
   "outputs": [],
   "source": [
    "# here we are naming the columns\n",
    "df.columns = ['Year', 'Sex', 'Country', 'No Children']"
   ]
  },
  {
   "cell_type": "code",
   "execution_count": 49,
   "id": "bd7a7019-0f8e-4dcc-bc43-6dd82c80f214",
   "metadata": {},
   "outputs": [
    {
     "data": {
      "text/html": [
       "<div>\n",
       "<style scoped>\n",
       "    .dataframe tbody tr th:only-of-type {\n",
       "        vertical-align: middle;\n",
       "    }\n",
       "\n",
       "    .dataframe tbody tr th {\n",
       "        vertical-align: top;\n",
       "    }\n",
       "\n",
       "    .dataframe thead th {\n",
       "        text-align: right;\n",
       "    }\n",
       "</style>\n",
       "<table border=\"1\" class=\"dataframe\">\n",
       "  <thead>\n",
       "    <tr style=\"text-align: right;\">\n",
       "      <th></th>\n",
       "      <th>Year</th>\n",
       "      <th>Sex</th>\n",
       "      <th>Country</th>\n",
       "      <th>No Children</th>\n",
       "    </tr>\n",
       "  </thead>\n",
       "  <tbody>\n",
       "    <tr>\n",
       "      <th>0</th>\n",
       "      <td>1987</td>\n",
       "      <td>M</td>\n",
       "      <td>US</td>\n",
       "      <td>1</td>\n",
       "    </tr>\n",
       "    <tr>\n",
       "      <th>1</th>\n",
       "      <td>1990?</td>\n",
       "      <td>M</td>\n",
       "      <td>UK</td>\n",
       "      <td>1</td>\n",
       "    </tr>\n",
       "    <tr>\n",
       "      <th>2</th>\n",
       "      <td>1992</td>\n",
       "      <td>F</td>\n",
       "      <td>US</td>\n",
       "      <td>2</td>\n",
       "    </tr>\n",
       "    <tr>\n",
       "      <th>3</th>\n",
       "      <td>1970?</td>\n",
       "      <td>M</td>\n",
       "      <td>IT</td>\n",
       "      <td>1</td>\n",
       "    </tr>\n",
       "    <tr>\n",
       "      <th>4</th>\n",
       "      <td>1985</td>\n",
       "      <td>F</td>\n",
       "      <td>I  T</td>\n",
       "      <td>2</td>\n",
       "    </tr>\n",
       "  </tbody>\n",
       "</table>\n",
       "</div>"
      ],
      "text/plain": [
       "    Year Sex Country No Children\n",
       "0   1987   M     US            1\n",
       "1  1990?   M      UK           1\n",
       "2   1992   F      US           2\n",
       "3  1970?   M      IT           1\n",
       "4   1985   F    I  T           2"
      ]
     },
     "execution_count": 49,
     "metadata": {},
     "output_type": "execute_result"
    }
   ],
   "source": [
    "df"
   ]
  },
  {
   "cell_type": "code",
   "execution_count": 50,
   "id": "92d21a71-aecd-4f5d-881c-14efd408c58a",
   "metadata": {},
   "outputs": [
    {
     "data": {
      "text/plain": [
       "0    False\n",
       "1     True\n",
       "2    False\n",
       "3     True\n",
       "4    False\n",
       "Name: Year, dtype: bool"
      ]
     },
     "execution_count": 50,
     "metadata": {},
     "output_type": "execute_result"
    }
   ],
   "source": [
    "df['Year'].str.contains('\\?')"
   ]
  },
  {
   "cell_type": "markdown",
   "id": "de277765-48a0-414b-b9f3-2c11e4511e1f",
   "metadata": {},
   "source": [
    "**✅ Syntax & Explanation**\n",
    "- .str.contains(pattern)\tChecks if each string in the column contains the given pattern.\n",
    "- '\\?'\tThe escaped question mark (?), meaning we are searching for ? in the text."
   ]
  },
  {
   "cell_type": "markdown",
   "id": "933c51c9-5eea-47a1-b428-b841c59d115e",
   "metadata": {},
   "source": [
    "In the above line we can see there are some true values popping up  \n",
    "Meaning we need to remove those  ? from the back of the year"
   ]
  },
  {
   "cell_type": "markdown",
   "id": "777e3cdc-9148-47c1-85b2-8577b0f5e6e7",
   "metadata": {},
   "source": [
    "contains takes a regex/pattern as first value, so we need to escape the ? symbol as it has a special meaning for these patterns. Regular letters don't need escaping:"
   ]
  },
  {
   "cell_type": "code",
   "execution_count": 52,
   "id": "b9dd9e89-d234-47ee-8498-f4151ca7179e",
   "metadata": {},
   "outputs": [
    {
     "data": {
      "text/plain": [
       "0     True\n",
       "1     True\n",
       "2     True\n",
       "3    False\n",
       "4    False\n",
       "Name: Country, dtype: bool"
      ]
     },
     "execution_count": 52,
     "metadata": {},
     "output_type": "execute_result"
    }
   ],
   "source": [
    "df['Country'].str.contains('U')"
   ]
  },
  {
   "cell_type": "markdown",
   "id": "3e8599c9-388c-457e-9e92-4ea7662005d4",
   "metadata": {},
   "source": [
    "Removing blank spaces (like in 'US ' or 'I  T' can be achieved with strip (lstrip and rstrip also exist) or just replace:"
   ]
  },
  {
   "cell_type": "markdown",
   "id": "6e314f75-1129-4ac8-ae58-0ffd7e7f836d",
   "metadata": {},
   "source": [
    "Note that we also need to remove unnecessary spaces while cleaning"
   ]
  },
  {
   "cell_type": "code",
   "execution_count": 57,
   "id": "9807e2c2-0bf8-46c5-8093-c25c8cbb4065",
   "metadata": {},
   "outputs": [
    {
     "data": {
      "text/plain": [
       "0      US\n",
       "1      UK\n",
       "2      US\n",
       "3      IT\n",
       "4    I  T\n",
       "Name: Country, dtype: object"
      ]
     },
     "execution_count": 57,
     "metadata": {},
     "output_type": "execute_result"
    }
   ],
   "source": [
    "# removing blank spaces using .strip()\n",
    "df[\"Country\"].str.strip()"
   ]
  },
  {
   "cell_type": "markdown",
   "id": "620da978-add5-42ff-a951-d576f48ddcb6",
   "metadata": {},
   "source": [
    "#### 📌 What is Regex (Regular Expressions)?\n",
    "\n",
    "**Regular Expressions (regex)** are patterns used to **match strings**. They help in **searching, replacing, and extracting** specific text patterns from data.\n",
    "\n",
    "🔹 **Think of regex as a flexible search tool!**\n",
    "\n",
    "---\n",
    "\n",
    "##### ✅ Why Use Regex?\n",
    "- **Find specific patterns** (e.g., email addresses, phone numbers, dates).  \n",
    "- **Replace text dynamically** (e.g., remove special characters).  \n",
    "- **Validate inputs** (e.g., check if a string is a valid email).  \n",
    "- **Extract relevant data** (e.g., extract digits from a string).  \n",
    "\n",
    "---\n",
    "\n",
    "#### 📌 Comprehensive Regex Pattern Guide  \n",
    "\n",
    "##### **🔹 Basic Character Matching**\n",
    "| **Pattern**  | **Matches** |\n",
    "|-------------|------------|\n",
    "| `.`         | Any **single** character (except newline). |\n",
    "| `\\d`        | Any **digit** (`0-9`). |\n",
    "| `\\D`        | Any **non-digit** character. |\n",
    "| `\\w`        | Any **word character** (`A-Z, a-z, 0-9, _`). |\n",
    "| `\\W`        | Any **non-word** character. |\n",
    "| `\\s`        | Any **whitespace** (space, tab, newline). |\n",
    "| `\\S`        | Any **non-whitespace** character. |\n",
    "\n",
    "---\n",
    "\n",
    "##### **🔹 Anchors**\n",
    "| **Pattern**  | **Matches** |\n",
    "|-------------|------------|\n",
    "| `^`         | **Start** of a string. |\n",
    "| `$`         | **End** of a string. |\n",
    "| `\\b`        | **Word boundary** (e.g., `\\bword\\b` matches \"word\" but not \"wording\"). |\n",
    "| `\\B`        | **Not** a word boundary. |\n",
    "\n",
    "---\n",
    "\n",
    "##### **🔹 Quantifiers**\n",
    "| **Pattern**  | **Matches** |\n",
    "|-------------|------------|\n",
    "| `*`         | **0 or more occurrences**. |\n",
    "| `+`         | **1 or more occurrences**. |\n",
    "| `?`         | **0 or 1 occurrence**. |\n",
    "| `{n}`       | **Exactly `n` occurrences**. |\n",
    "| `{n,}`      | **At least `n` occurrences**. |\n",
    "| `{n,m}`     | **Between `n` and `m` occurrences**. |\n",
    "\n",
    "---\n",
    "\n",
    "##### **🔹 Grouping & Capturing**\n",
    "| **Pattern**  | **Matches** |\n",
    "|-------------|------------|\n",
    "| `(abc)`     | **Capturing group**: Matches `\"abc\"` and saves it for reference. |\n",
    "| `(?:abc)`   | **Non-capturing group**: Matches `\"abc\"` but **does not save** it. |\n",
    "| `(?P<name>abc)` | **Named capturing group**: Matches `\"abc\"` and saves it as `\"name\"`. |\n",
    "\n",
    "---\n",
    "\n",
    "##### **🔹 Alternation & Character Classes**\n",
    "| **Pattern**  | **Matches** |\n",
    "|-------------|------------|\n",
    "| `a|b`       | Either `\"a\"` **or** `\"b\"`. |\n",
    "| `[abc]`     | Any **one** of `\"a\"`, `\"b\"`, or `\"c\"`. |\n",
    "| `[^abc]`    | **Any character except** `\"a\"`, `\"b\"`, or `\"c\"`. |\n",
    "| `[a-z]`     | Any **lowercase letter**. |\n",
    "| `[A-Z]`     | Any **uppercase letter**. |\n",
    "| `[0-9]`     | Any **digit** (`0-9`). |\n",
    "\n",
    "---\n",
    "\n",
    "##### **🔹 Lookaheads & Lookbehinds**\n",
    "| **Pattern**  | **Matches** |\n",
    "|-------------|------------|\n",
    "| `(?=abc)`   | **Positive lookahead**: Ensures `\"abc\"` is ahead, but doesn't consume it. |\n",
    "| `(?!abc)`   | **Negative lookahead**: Ensures `\"abc\"` is **not** ahead. |\n",
    "| `(?<=abc)`  | **Positive lookbehind**: Ensures `\"abc\"` is before, but doesn't consume it. |\n",
    "| `(?<!abc)`  | **Negative lookbehind**: Ensures `\"abc\"` is **not** before. |\n",
    "\n",
    "---\n",
    "\n",
    "##### **🔹 Special Cases**\n",
    "| **Pattern**  | **Matches** |\n",
    "|-------------|------------|\n",
    "| `\\t`        | Tab character. |\n",
    "| `\\n`        | Newline character. |\n",
    "| `\\\\`        | Matches a **literal** backslash (`\\`). |\n",
    "| `\\(` `\\)`   | Matches **literal** parentheses. |\n",
    "\n",
    "---\n",
    "\n",
    "#### **✅ Example Usage**\n",
    "```python\n",
    "import re  \n",
    "\n",
    "text = \"My email is example123@mail.com and my phone is 987-654-3210.\"  \n",
    "email_pattern = r\"[a-zA-Z0-9._%+-]+@[a-zA-Z0-9.-]+\\.[a-zA-Z]{2,}\"  \n",
    "phone_pattern = r\"\\d{3}-\\d{3}-\\d{4}\"  \n",
    "\n",
    "email_match = re.search(email_pattern, text)  \n",
    "phone_match = re.search(phone_pattern, text)  \n",
    "\n",
    "print(email_match.group())  # Output: example123@mail.com  \n",
    "print(phone_match.group())  # Output: 987-654-3210  \n",
    "\n"
   ]
  },
  {
   "cell_type": "code",
   "execution_count": 54,
   "id": "de342095-874f-4660-9052-6f84b74c35ed",
   "metadata": {},
   "outputs": [
    {
     "data": {
      "text/plain": [
       "0    US\n",
       "1    UK\n",
       "2    US\n",
       "3    IT\n",
       "4    IT\n",
       "Name: Country, dtype: object"
      ]
     },
     "execution_count": 54,
     "metadata": {},
     "output_type": "execute_result"
    }
   ],
   "source": [
    "df['Country'].str.replace(' ', '')"
   ]
  },
  {
   "cell_type": "markdown",
   "id": "57286129-b2a5-4fd0-ab12-962d03eccec3",
   "metadata": {},
   "source": [
    "As we said, replace and contains take regex patterns, which can make it easier to replace values in bulk:"
   ]
  },
  {
   "cell_type": "code",
   "execution_count": 60,
   "id": "3434bb9c-8d8a-46ed-9209-b1cad9596a59",
   "metadata": {},
   "outputs": [],
   "source": [
    "df['Year'] = df['Year'].str.replace(r'(?P<year>\\d{4})\\?', lambda m: m.group('year'), regex=True)"
   ]
  },
  {
   "cell_type": "code",
   "execution_count": 61,
   "id": "e69c1def-47cd-434d-9963-47c437a1e0a4",
   "metadata": {},
   "outputs": [
    {
     "data": {
      "text/html": [
       "<div>\n",
       "<style scoped>\n",
       "    .dataframe tbody tr th:only-of-type {\n",
       "        vertical-align: middle;\n",
       "    }\n",
       "\n",
       "    .dataframe tbody tr th {\n",
       "        vertical-align: top;\n",
       "    }\n",
       "\n",
       "    .dataframe thead th {\n",
       "        text-align: right;\n",
       "    }\n",
       "</style>\n",
       "<table border=\"1\" class=\"dataframe\">\n",
       "  <thead>\n",
       "    <tr style=\"text-align: right;\">\n",
       "      <th></th>\n",
       "      <th>Year</th>\n",
       "      <th>Sex</th>\n",
       "      <th>Country</th>\n",
       "      <th>No Children</th>\n",
       "    </tr>\n",
       "  </thead>\n",
       "  <tbody>\n",
       "    <tr>\n",
       "      <th>0</th>\n",
       "      <td>1987</td>\n",
       "      <td>M</td>\n",
       "      <td>US</td>\n",
       "      <td>1</td>\n",
       "    </tr>\n",
       "    <tr>\n",
       "      <th>1</th>\n",
       "      <td>1990</td>\n",
       "      <td>M</td>\n",
       "      <td>UK</td>\n",
       "      <td>1</td>\n",
       "    </tr>\n",
       "    <tr>\n",
       "      <th>2</th>\n",
       "      <td>1992</td>\n",
       "      <td>F</td>\n",
       "      <td>US</td>\n",
       "      <td>2</td>\n",
       "    </tr>\n",
       "    <tr>\n",
       "      <th>3</th>\n",
       "      <td>1970</td>\n",
       "      <td>M</td>\n",
       "      <td>IT</td>\n",
       "      <td>1</td>\n",
       "    </tr>\n",
       "    <tr>\n",
       "      <th>4</th>\n",
       "      <td>1985</td>\n",
       "      <td>F</td>\n",
       "      <td>I  T</td>\n",
       "      <td>2</td>\n",
       "    </tr>\n",
       "  </tbody>\n",
       "</table>\n",
       "</div>"
      ],
      "text/plain": [
       "   Year Sex Country No Children\n",
       "0  1987   M     US            1\n",
       "1  1990   M      UK           1\n",
       "2  1992   F      US           2\n",
       "3  1970   M      IT           1\n",
       "4  1985   F    I  T           2"
      ]
     },
     "execution_count": 61,
     "metadata": {},
     "output_type": "execute_result"
    }
   ],
   "source": [
    "df"
   ]
  },
  {
   "cell_type": "markdown",
   "id": "224804b1-7d21-44f4-9b9e-f84684d07774",
   "metadata": {},
   "source": [
    "##### 📌 Explanation\n",
    "- regex=True: Ensures that the first argument is treated as a regular expression.  \n",
    "- r'(?P<year>\\d{4})\\?': Finds 4-digit years followed by ?.  \n",
    "- lambda m: m.group('year'): Replaces each match with only the captured year (removing ?).  "
   ]
  },
  {
   "cell_type": "markdown",
   "id": "b4e702ee-af92-433d-8470-04a70b7a34e8",
   "metadata": {},
   "source": [
    "But, be warned:   \n",
    "\n",
    "Some people, when confronted with a problem, think \"I know, I'll use regular expressions.\" Now they have two problems.  \n",
    "\n",
    "As you can see, all these string/text-related operations are applied over the str attribute of the series. That's because they have a special place in Series handling and you can read more about it here."
   ]
  }
 ],
 "metadata": {
  "kernelspec": {
   "display_name": "Python 3 (ipykernel)",
   "language": "python",
   "name": "python3"
  },
  "language_info": {
   "codemirror_mode": {
    "name": "ipython",
    "version": 3
   },
   "file_extension": ".py",
   "mimetype": "text/x-python",
   "name": "python",
   "nbconvert_exporter": "python",
   "pygments_lexer": "ipython3",
   "version": "3.9.6"
  }
 },
 "nbformat": 4,
 "nbformat_minor": 5
}
