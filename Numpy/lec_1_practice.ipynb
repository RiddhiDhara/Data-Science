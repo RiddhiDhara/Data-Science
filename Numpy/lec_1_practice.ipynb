{
 "cells": [
  {
   "cell_type": "markdown",
   "id": "ed9b8b92-3fbd-4c0e-884f-6f4ad90e019e",
   "metadata": {},
   "source": [
    "## **NUMPY Exercise**\n",
    "---"
   ]
  },
  {
   "cell_type": "code",
   "execution_count": 2,
   "id": "1a65973c-9251-4d6f-afd5-7b9f3f750bff",
   "metadata": {},
   "outputs": [],
   "source": [
    "import numpy as np\n",
    "import sys"
   ]
  },
  {
   "cell_type": "code",
   "execution_count": 3,
   "id": "b872cef4-5f34-4df6-94db-9ccde428f6dc",
   "metadata": {},
   "outputs": [
    {
     "name": "stdout",
     "output_type": "stream",
     "text": [
      "1.26.4\n"
     ]
    }
   ],
   "source": [
    "print(np.__version__)"
   ]
  },
  {
   "cell_type": "markdown",
   "id": "6ac42dc0-bd98-47d9-81a3-b90e9c89ffa1",
   "metadata": {},
   "source": [
    "### **Array creation**"
   ]
  },
  {
   "cell_type": "markdown",
   "id": "e84ed2bc-4946-4190-8f66-2a4d3ab2cff2",
   "metadata": {},
   "source": [
    "#### Q1) create a numpy array of size 10, filled with 0s"
   ]
  },
  {
   "cell_type": "code",
   "execution_count": 4,
   "id": "55363db5-9a67-4b57-b3fe-cc6c5098a401",
   "metadata": {},
   "outputs": [
    {
     "data": {
      "text/plain": [
       "array([0., 0., 0., 0., 0., 0., 0., 0., 0., 0.])"
      ]
     },
     "execution_count": 4,
     "metadata": {},
     "output_type": "execute_result"
    }
   ],
   "source": [
    "np.zeros(10)"
   ]
  },
  {
   "cell_type": "markdown",
   "id": "73cb46c5-9b93-4bcc-9fc0-055c5d0cd2a5",
   "metadata": {},
   "source": [
    "#### Q2) Create a numpy array with values ranging from 10 to 49"
   ]
  },
  {
   "cell_type": "code",
   "execution_count": 5,
   "id": "6f3a027e-d5b3-4130-a8cd-10c8b71b0547",
   "metadata": {},
   "outputs": [
    {
     "data": {
      "text/plain": [
       "array([10, 11, 12, 13, 14, 15, 16, 17, 18, 19, 20, 21, 22, 23, 24, 25, 26,\n",
       "       27, 28, 29, 30, 31, 32, 33, 34, 35, 36, 37, 38, 39, 40, 41, 42, 43,\n",
       "       44, 45, 46, 47, 48, 49])"
      ]
     },
     "execution_count": 5,
     "metadata": {},
     "output_type": "execute_result"
    }
   ],
   "source": [
    "np.arange(10,50)"
   ]
  },
  {
   "cell_type": "markdown",
   "id": "f8a46de8-083b-4321-8da6-2f161dc88a8e",
   "metadata": {},
   "source": [
    "#### Q3) Create a numpy matrix of 2*2 integers, filled with ones."
   ]
  },
  {
   "cell_type": "code",
   "execution_count": 6,
   "id": "09541d0c-8922-4c05-93c8-3aab6f75dec8",
   "metadata": {},
   "outputs": [
    {
     "data": {
      "text/plain": [
       "array([[1, 1],\n",
       "       [1, 1]])"
      ]
     },
     "execution_count": 6,
     "metadata": {},
     "output_type": "execute_result"
    }
   ],
   "source": [
    "np.ones((2,2),dtype=int)"
   ]
  },
  {
   "cell_type": "markdown",
   "id": "c0c6c69a-2a89-48c4-8f56-0259b0638b30",
   "metadata": {},
   "source": [
    "#### Q4) Create a numpy matrix of 3*2 float numbers, filled with ones."
   ]
  },
  {
   "cell_type": "code",
   "execution_count": 7,
   "id": "59a0bb05-77d8-46a4-92aa-42244d932ce0",
   "metadata": {},
   "outputs": [
    {
     "data": {
      "text/plain": [
       "array([[1., 1.],\n",
       "       [1., 1.],\n",
       "       [1., 1.]])"
      ]
     },
     "execution_count": 7,
     "metadata": {},
     "output_type": "execute_result"
    }
   ],
   "source": [
    "np.ones((3,2),dtype=float)"
   ]
  },
  {
   "cell_type": "markdown",
   "id": "a1958a16-b789-4004-80f1-4793676da4b8",
   "metadata": {},
   "source": [
    "#### Q5) Given the X numpy array, create a new numpy array with the same shape and type as X, filled with ones."
   ]
  },
  {
   "cell_type": "code",
   "execution_count": 8,
   "id": "40eedf61-c6f6-47d2-b6b7-5b2c88803f79",
   "metadata": {},
   "outputs": [
    {
     "data": {
      "text/plain": [
       "array([1, 1, 1, 1])"
      ]
     },
     "execution_count": 8,
     "metadata": {},
     "output_type": "execute_result"
    }
   ],
   "source": [
    "X = np.arange(4, dtype=int)\n",
    "# creates a new NumPy array of the same shape and data type as x, but filled with ones (1s).\n",
    "np.ones_like(X)"
   ]
  },
  {
   "cell_type": "markdown",
   "id": "3a2fb492-f82e-48f4-b737-fdd552ff75df",
   "metadata": {},
   "source": [
    "#### Q6) Given the X numpy matrix, create a new numpy matrix with the same shape and type as X, filled with zeros."
   ]
  },
  {
   "cell_type": "code",
   "execution_count": 9,
   "id": "6019d3dd-8877-477b-967b-fb8ea14c9e92",
   "metadata": {},
   "outputs": [
    {
     "data": {
      "text/plain": [
       "array([[0, 0, 0],\n",
       "       [0, 0, 0]])"
      ]
     },
     "execution_count": 9,
     "metadata": {},
     "output_type": "execute_result"
    }
   ],
   "source": [
    "Y = np.array([[1,2,3],[4,5,6]],dtype=int)\n",
    "np.zeros_like(Y)"
   ]
  },
  {
   "cell_type": "markdown",
   "id": "9c9156db-1ca2-4f81-937e-516d23fbfd11",
   "metadata": {},
   "source": [
    "#### Q7) Create a numpy matrix of 4*4 integers, filled with fives."
   ]
  },
  {
   "cell_type": "code",
   "execution_count": 10,
   "id": "ae7fd8f6-d68c-43ea-b9fc-c63c4e9c5657",
   "metadata": {},
   "outputs": [
    {
     "data": {
      "text/plain": [
       "array([[5, 5, 5, 5],\n",
       "       [5, 5, 5, 5],\n",
       "       [5, 5, 5, 5],\n",
       "       [5, 5, 5, 5]])"
      ]
     },
     "execution_count": 10,
     "metadata": {},
     "output_type": "execute_result"
    }
   ],
   "source": [
    "np.ones((4,4),dtype=int)*5"
   ]
  },
  {
   "cell_type": "markdown",
   "id": "85421b7c-fb6a-47c7-944f-49a25229e503",
   "metadata": {},
   "source": [
    "#### Q8) Given the X numpy matrix, create a new numpy matrix with the same shape and type as X, filled with sevens."
   ]
  },
  {
   "cell_type": "code",
   "execution_count": 11,
   "id": "8b09a9ef-0a1e-4507-b31a-234ee2a2ad2a",
   "metadata": {},
   "outputs": [
    {
     "data": {
      "text/plain": [
       "array([[7, 7, 7],\n",
       "       [7, 7, 7]])"
      ]
     },
     "execution_count": 11,
     "metadata": {},
     "output_type": "execute_result"
    }
   ],
   "source": [
    "Z = np.array([[1,2,3],[4,5,6]],dtype=int)\n",
    "np.ones_like(Z)*7"
   ]
  },
  {
   "cell_type": "markdown",
   "id": "fedd40cf-3559-44e1-9fdc-559c845fb0f7",
   "metadata": {},
   "source": [
    "#### Q9) Create a 3*3 identity numpy matrix with ones on the diagonal and zeros elsewhere."
   ]
  },
  {
   "cell_type": "code",
   "execution_count": 12,
   "id": "bf3aaf59-103c-4548-a51b-edb5574ce6bd",
   "metadata": {},
   "outputs": [
    {
     "data": {
      "text/plain": [
       "array([[1, 0, 0],\n",
       "       [0, 1, 0],\n",
       "       [0, 0, 1]])"
      ]
     },
     "execution_count": 12,
     "metadata": {},
     "output_type": "execute_result"
    }
   ],
   "source": [
    "np.identity(3,dtype=int)"
   ]
  },
  {
   "cell_type": "markdown",
   "id": "e3a95164-04ee-400d-bf31-d69e8540630a",
   "metadata": {},
   "source": [
    "#### Q10) Create a numpy array, filled with 3 random integer values between 1 and 10."
   ]
  },
  {
   "cell_type": "code",
   "execution_count": 13,
   "id": "c582e5f0-96aa-489a-955b-d875ee11cbee",
   "metadata": {},
   "outputs": [
    {
     "data": {
      "text/plain": [
       "array([4, 4, 7])"
      ]
     },
     "execution_count": 13,
     "metadata": {},
     "output_type": "execute_result"
    }
   ],
   "source": [
    "np.random.randint(1,10,3)"
   ]
  },
  {
   "cell_type": "markdown",
   "id": "335e51c3-a466-463c-8670-19826037e6e0",
   "metadata": {},
   "source": [
    "#### Q11) Create a 3 * 3 * 3 numpy matrix, filled with random float values."
   ]
  },
  {
   "cell_type": "code",
   "execution_count": 14,
   "id": "00a47bcd-41ff-4509-86ff-d395a222ab8a",
   "metadata": {},
   "outputs": [
    {
     "data": {
      "text/plain": [
       "array([[[0.16113006, 0.1249522 , 0.93183664],\n",
       "        [0.50510278, 0.85279529, 0.25702002],\n",
       "        [0.69708718, 0.62618012, 0.47063007]],\n",
       "\n",
       "       [[0.81078214, 0.69252376, 0.67338534],\n",
       "        [0.22807568, 0.23292411, 0.46005022],\n",
       "        [0.82230767, 0.86269645, 0.12990689]],\n",
       "\n",
       "       [[0.66348065, 0.21965307, 0.86778923],\n",
       "        [0.68603018, 0.08899183, 0.56621504],\n",
       "        [0.9990092 , 0.58747062, 0.72603349]]])"
      ]
     },
     "execution_count": 14,
     "metadata": {},
     "output_type": "execute_result"
    }
   ],
   "source": [
    "np.random.random((3,3,3))"
   ]
  },
  {
   "cell_type": "markdown",
   "id": "dd7bf026-b07c-4877-8289-79e87a8f6be4",
   "metadata": {},
   "source": [
    "#### Q12) Given the X python list convert it to an Y numpy array"
   ]
  },
  {
   "cell_type": "code",
   "execution_count": 15,
   "id": "f3eba784-ebfa-42dc-a489-251da9c5f13e",
   "metadata": {},
   "outputs": [
    {
     "name": "stdout",
     "output_type": "stream",
     "text": [
      "<class 'list'>\n",
      "<class 'numpy.ndarray'>\n"
     ]
    }
   ],
   "source": [
    "X = [1,2,3,4,5]\n",
    "print(type(X))\n",
    "Y = np.array(X)\n",
    "print(type(Y))"
   ]
  },
  {
   "cell_type": "markdown",
   "id": "7321c105-67c8-44cb-a7f3-9038ad5b3558",
   "metadata": {},
   "source": [
    "#### Q13) Given the X numpy array, make a copy and store it on Y."
   ]
  },
  {
   "cell_type": "code",
   "execution_count": 16,
   "id": "3321184c-605f-4367-a40d-a350a97812aa",
   "metadata": {},
   "outputs": [
    {
     "data": {
      "text/plain": [
       "False"
      ]
     },
     "execution_count": 16,
     "metadata": {},
     "output_type": "execute_result"
    }
   ],
   "source": [
    "X = np.array([1,2,3,4,5])\n",
    "Y = np.array(X) # we can create a copy in this way\n",
    "# Y = np.copy(X) # we can also create a copy using this way\n",
    "X is Y # False because they are different objects "
   ]
  },
  {
   "cell_type": "markdown",
   "id": "2ca3759f-1495-4494-922f-2d986d1ece98",
   "metadata": {},
   "source": [
    "#### Q14) Create a numpy array with numbers from 1 to 10"
   ]
  },
  {
   "cell_type": "code",
   "execution_count": 17,
   "id": "59a28fd5-76c7-42b3-b23a-b11cf7ef74fb",
   "metadata": {},
   "outputs": [
    {
     "data": {
      "text/plain": [
       "array([ 1,  2,  3,  4,  5,  6,  7,  8,  9, 10])"
      ]
     },
     "execution_count": 17,
     "metadata": {},
     "output_type": "execute_result"
    }
   ],
   "source": [
    "np.arange(1,11)"
   ]
  },
  {
   "cell_type": "markdown",
   "id": "e50c8e9e-8862-43e2-a2c1-b5a9860a9bcb",
   "metadata": {},
   "source": [
    "#### Q15) Create a numpy array with the odd numbers between 1 to 10"
   ]
  },
  {
   "cell_type": "code",
   "execution_count": 18,
   "id": "b4e6bf45-80d6-4252-a110-dcc472dd281e",
   "metadata": {},
   "outputs": [
    {
     "data": {
      "text/plain": [
       "array([1, 3, 5, 7, 9])"
      ]
     },
     "execution_count": 18,
     "metadata": {},
     "output_type": "execute_result"
    }
   ],
   "source": [
    "np.arange(1,11,2)"
   ]
  },
  {
   "cell_type": "markdown",
   "id": "d4432821-d3b0-405e-aec8-027fd4f1f00d",
   "metadata": {},
   "source": [
    "#### Q16) Create a numpy array with numbers from 1 to 10, in descending order."
   ]
  },
  {
   "cell_type": "code",
   "execution_count": 19,
   "id": "7224cd01-5426-407b-acb5-34a03068c2c7",
   "metadata": {},
   "outputs": [
    {
     "data": {
      "text/plain": [
       "array([10,  9,  8,  7,  6,  5,  4,  3,  2,  1])"
      ]
     },
     "execution_count": 19,
     "metadata": {},
     "output_type": "execute_result"
    }
   ],
   "source": [
    "np.arange(1,11)[::-1]"
   ]
  },
  {
   "cell_type": "markdown",
   "id": "3fd1ef11-5ea2-464c-ae0e-eece0aae3e6c",
   "metadata": {},
   "source": [
    "#### Q17) Create a 3*3 numpy matrix, filled with values ranging from 0 to 8"
   ]
  },
  {
   "cell_type": "code",
   "execution_count": 20,
   "id": "f548ae5b-f91e-49b4-8b81-9e7e679bc92d",
   "metadata": {},
   "outputs": [
    {
     "data": {
      "text/plain": [
       "array([[0, 1, 2],\n",
       "       [3, 4, 5],\n",
       "       [6, 7, 8]])"
      ]
     },
     "execution_count": 20,
     "metadata": {},
     "output_type": "execute_result"
    }
   ],
   "source": [
    "np.arange(9).reshape(3,3)"
   ]
  },
  {
   "cell_type": "markdown",
   "id": "0da30276-6397-4fe8-9651-bb613ffc3684",
   "metadata": {},
   "source": [
    "#### Q18) Show the memory size of the given Z numpy matrix"
   ]
  },
  {
   "cell_type": "code",
   "execution_count": 21,
   "id": "085656e3-7b43-4c78-bbf2-4fc89f0a8d89",
   "metadata": {},
   "outputs": [
    {
     "name": "stdout",
     "output_type": "stream",
     "text": [
      "800 bytes\n"
     ]
    }
   ],
   "source": [
    "Z = np.zeros((10,10))\n",
    "print(\"%d bytes\" % (Z.size * Z.itemsize))"
   ]
  },
  {
   "cell_type": "markdown",
   "id": "6e1d0461-47d2-426e-b351-b56d0d9c45cd",
   "metadata": {},
   "source": [
    "### **Array indexation**"
   ]
  },
  {
   "cell_type": "markdown",
   "id": "8a6bb9a9-8ef9-4860-a771-6746ebd664de",
   "metadata": {},
   "source": [
    "#### Q19) Given the X numpy array, show it's first element"
   ]
  },
  {
   "cell_type": "code",
   "execution_count": 22,
   "id": "9cf69262-4306-4e2f-a81d-f572d350c1a7",
   "metadata": {},
   "outputs": [
    {
     "data": {
      "text/plain": [
       "array([0, 1, 2, 3, 4, 5, 6, 7, 8, 9])"
      ]
     },
     "execution_count": 22,
     "metadata": {},
     "output_type": "execute_result"
    }
   ],
   "source": [
    "X = np.arange(10)\n",
    "X"
   ]
  },
  {
   "cell_type": "code",
   "execution_count": 23,
   "id": "1f6593ef-5601-4a9c-a6c6-7a15d5cc53a5",
   "metadata": {},
   "outputs": [
    {
     "data": {
      "text/plain": [
       "0"
      ]
     },
     "execution_count": 23,
     "metadata": {},
     "output_type": "execute_result"
    }
   ],
   "source": [
    "X[0]"
   ]
  },
  {
   "cell_type": "markdown",
   "id": "83609e87-fe94-4c83-becd-b2349640f523",
   "metadata": {},
   "source": [
    "#### Q20) Given the X numpy array, show it's last element"
   ]
  },
  {
   "cell_type": "code",
   "execution_count": 24,
   "id": "5b0ce073-de3b-4a70-9e0c-77e5d104358e",
   "metadata": {},
   "outputs": [
    {
     "data": {
      "text/plain": [
       "9"
      ]
     },
     "execution_count": 24,
     "metadata": {},
     "output_type": "execute_result"
    }
   ],
   "source": [
    "X[-1]"
   ]
  },
  {
   "cell_type": "markdown",
   "id": "f409dcc8-63b7-4e15-b21b-166759cada75",
   "metadata": {},
   "source": [
    "#### Q21) Given the X numpy array, show it's first three elements"
   ]
  },
  {
   "cell_type": "code",
   "execution_count": 25,
   "id": "2109baf7-4ef1-4108-9cce-d804612fe4b6",
   "metadata": {},
   "outputs": [
    {
     "data": {
      "text/plain": [
       "array([0, 1, 2])"
      ]
     },
     "execution_count": 25,
     "metadata": {},
     "output_type": "execute_result"
    }
   ],
   "source": [
    "X[:3]"
   ]
  },
  {
   "cell_type": "markdown",
   "id": "6bed75ff-937f-4e07-b530-044672a89f1d",
   "metadata": {},
   "source": [
    "#### Q22) Given the X numpy array, show all middle elements"
   ]
  },
  {
   "cell_type": "code",
   "execution_count": 26,
   "id": "8f124ceb-ecb0-4ce8-9fd2-0b0ce4c4385d",
   "metadata": {},
   "outputs": [
    {
     "data": {
      "text/plain": [
       "array([1, 2, 3, 4, 5, 6, 7, 8])"
      ]
     },
     "execution_count": 26,
     "metadata": {},
     "output_type": "execute_result"
    }
   ],
   "source": [
    "X[1:-1]"
   ]
  },
  {
   "cell_type": "markdown",
   "id": "ce8436dc-cf63-4b78-a217-6952d1af98cb",
   "metadata": {},
   "source": [
    "#### Q23) Given the X numpy array, show the elements in reverse position"
   ]
  },
  {
   "cell_type": "code",
   "execution_count": 30,
   "id": "901a9915-d7fd-4062-9618-0940365ee9bb",
   "metadata": {},
   "outputs": [
    {
     "data": {
      "text/plain": [
       "array([9, 8, 7, 6, 5, 4, 3, 2, 1, 0])"
      ]
     },
     "execution_count": 30,
     "metadata": {},
     "output_type": "execute_result"
    }
   ],
   "source": [
    "X[::-1]"
   ]
  },
  {
   "cell_type": "markdown",
   "id": "82454a85-bec2-4e9d-8d3c-33692e8e6393",
   "metadata": {},
   "source": [
    "#### Q24) Given the X numpy array, show the elements in an odd position"
   ]
  },
  {
   "cell_type": "code",
   "execution_count": 31,
   "id": "61fc8fbe-6b12-4b3f-9aa8-65e39f5f90ba",
   "metadata": {},
   "outputs": [
    {
     "data": {
      "text/plain": [
       "array([1, 3, 5, 7, 9])"
      ]
     },
     "execution_count": 31,
     "metadata": {},
     "output_type": "execute_result"
    }
   ],
   "source": [
    "X[1::2]"
   ]
  },
  {
   "cell_type": "markdown",
   "id": "da6fa42c-d0ec-4886-bd4b-c7f708e08521",
   "metadata": {},
   "source": [
    "#### Q25) Given the X numpy matrix, show the first row elements"
   ]
  },
  {
   "cell_type": "code",
   "execution_count": 33,
   "id": "48088bf1-c825-45f3-bd50-9fe67e088a85",
   "metadata": {},
   "outputs": [
    {
     "data": {
      "text/plain": [
       "array([[0, 1, 2],\n",
       "       [3, 4, 5],\n",
       "       [6, 7, 8]])"
      ]
     },
     "execution_count": 33,
     "metadata": {},
     "output_type": "execute_result"
    }
   ],
   "source": [
    "Y = np.arange(9).reshape(3,3)\n",
    "Y"
   ]
  },
  {
   "cell_type": "code",
   "execution_count": 34,
   "id": "751e7336-dc5c-4103-b484-108c1ae3c70b",
   "metadata": {},
   "outputs": [
    {
     "data": {
      "text/plain": [
       "array([0, 1, 2])"
      ]
     },
     "execution_count": 34,
     "metadata": {},
     "output_type": "execute_result"
    }
   ],
   "source": [
    "Y[0]"
   ]
  },
  {
   "cell_type": "markdown",
   "id": "f71421f6-73bf-4968-8661-be1a9db88d94",
   "metadata": {},
   "source": [
    "#### Q26) Given the X numpy matrix, show the last row elements"
   ]
  },
  {
   "cell_type": "code",
   "execution_count": 35,
   "id": "3be41074-e5f6-4823-9de6-b3266d232f0c",
   "metadata": {},
   "outputs": [
    {
     "data": {
      "text/plain": [
       "array([6, 7, 8])"
      ]
     },
     "execution_count": 35,
     "metadata": {},
     "output_type": "execute_result"
    }
   ],
   "source": [
    "Y[-1]"
   ]
  },
  {
   "cell_type": "markdown",
   "id": "634cc367-90d2-40b4-8320-88ed12ed8ce9",
   "metadata": {},
   "source": [
    "#### Q27) Given the X numpy matrix, show the first element on first row"
   ]
  },
  {
   "cell_type": "code",
   "execution_count": 39,
   "id": "fe3b9a2b-4dc1-4005-8eff-c28a5793cf3a",
   "metadata": {},
   "outputs": [
    {
     "data": {
      "text/plain": [
       "0"
      ]
     },
     "execution_count": 39,
     "metadata": {},
     "output_type": "execute_result"
    }
   ],
   "source": [
    "Y[0][0]\n",
    "# or Y[0,0]"
   ]
  },
  {
   "cell_type": "markdown",
   "id": "91ec8c79-c993-4a6d-83e4-bb68efc6b069",
   "metadata": {},
   "source": [
    "#### Q28) Given the X numpy matrix, show the last element on last row"
   ]
  },
  {
   "cell_type": "code",
   "execution_count": 40,
   "id": "a81203c2-f24c-4329-92a0-a673ed09c8bb",
   "metadata": {},
   "outputs": [
    {
     "data": {
      "text/plain": [
       "8"
      ]
     },
     "execution_count": 40,
     "metadata": {},
     "output_type": "execute_result"
    }
   ],
   "source": [
    "Y[-1,-1]"
   ]
  },
  {
   "cell_type": "markdown",
   "id": "145fa05e-685f-4f5a-ba8c-d06495ee30fb",
   "metadata": {},
   "source": [
    "#### Q29) Given the X numpy matrix, show the middle row elements"
   ]
  },
  {
   "cell_type": "code",
   "execution_count": 44,
   "id": "244ad475-2970-4569-9932-b325107d8d6a",
   "metadata": {},
   "outputs": [
    {
     "data": {
      "text/plain": [
       "array([[3, 4, 5]])"
      ]
     },
     "execution_count": 44,
     "metadata": {},
     "output_type": "execute_result"
    }
   ],
   "source": [
    "Y[1:-1]"
   ]
  },
  {
   "cell_type": "markdown",
   "id": "79b2d066-e549-4304-aa54-19bc6b64e34c",
   "metadata": {},
   "source": [
    "#### Q30) Given the X numpy matrix, show the middle row middle elements"
   ]
  },
  {
   "cell_type": "code",
   "execution_count": 47,
   "id": "b28f0d3c-25bb-408b-8e5a-0aaf4c75717c",
   "metadata": {},
   "outputs": [
    {
     "data": {
      "text/plain": [
       "array([[4]])"
      ]
     },
     "execution_count": 47,
     "metadata": {},
     "output_type": "execute_result"
    }
   ],
   "source": [
    "# Y[1:-1][1:-1]\n",
    "Y[1:-1,1:-1]"
   ]
  },
  {
   "cell_type": "markdown",
   "id": "f94ba3bc-adc7-46b6-bd8d-62594a6db02d",
   "metadata": {},
   "source": [
    "#### Q31) Given the X numpy matrix, show the first two elements on the first two rows"
   ]
  },
  {
   "cell_type": "code",
   "execution_count": 48,
   "id": "99c29a76-de9a-4f33-9322-fa557c25fd86",
   "metadata": {},
   "outputs": [
    {
     "data": {
      "text/plain": [
       "array([[0, 1],\n",
       "       [3, 4]])"
      ]
     },
     "execution_count": 48,
     "metadata": {},
     "output_type": "execute_result"
    }
   ],
   "source": [
    "Y[:2,:2]"
   ]
  },
  {
   "cell_type": "markdown",
   "id": "b3034aee-44d5-4085-b151-c4fa85695bdc",
   "metadata": {},
   "source": [
    "#### Q32) Given the X numpy matrix, show the last two elements on the last two rows"
   ]
  },
  {
   "cell_type": "code",
   "execution_count": 51,
   "id": "72a2cd00-c2aa-40ce-9765-3c6be0de0782",
   "metadata": {},
   "outputs": [
    {
     "data": {
      "text/plain": [
       "array([[4, 5],\n",
       "       [7, 8]])"
      ]
     },
     "execution_count": 51,
     "metadata": {},
     "output_type": "execute_result"
    }
   ],
   "source": [
    "Y[-2:,-2:]\n",
    "# Y[2:, 2:]"
   ]
  },
  {
   "cell_type": "markdown",
   "id": "2fae563e-d607-4ad2-90f1-d3220b20197b",
   "metadata": {},
   "source": [
    "### **Array manipulation**"
   ]
  },
  {
   "cell_type": "markdown",
   "id": "063386e6-8067-43ec-9780-1a30de18885d",
   "metadata": {},
   "source": [
    "#### Q33) Convert the given integer numpy array to float"
   ]
  },
  {
   "cell_type": "code",
   "execution_count": 54,
   "id": "8b8ff987-9311-4587-bf39-96722241dd48",
   "metadata": {},
   "outputs": [
    {
     "data": {
      "text/plain": [
       "array([0, 1, 2, 3, 4, 5, 6, 7, 8, 9])"
      ]
     },
     "execution_count": 54,
     "metadata": {},
     "output_type": "execute_result"
    }
   ],
   "source": [
    "Z = np.arange(10)\n",
    "Z"
   ]
  },
  {
   "cell_type": "code",
   "execution_count": 55,
   "id": "ffe1d513-689f-4428-bea1-c0be5efa96b7",
   "metadata": {},
   "outputs": [
    {
     "data": {
      "text/plain": [
       "array([0., 1., 2., 3., 4., 5., 6., 7., 8., 9.])"
      ]
     },
     "execution_count": 55,
     "metadata": {},
     "output_type": "execute_result"
    }
   ],
   "source": [
    "np.array(Z,dtype = float)"
   ]
  },
  {
   "cell_type": "markdown",
   "id": "f003d9ad-59a1-4571-8d86-2955e944e21d",
   "metadata": {},
   "source": [
    "#### Q34) Reverse the given numpy array (first element becomes last)"
   ]
  },
  {
   "cell_type": "code",
   "execution_count": 56,
   "id": "8cd281c1-5594-4839-8294-b740e9484d34",
   "metadata": {},
   "outputs": [
    {
     "data": {
      "text/plain": [
       "array([9, 8, 7, 6, 5, 4, 3, 2, 1, 0])"
      ]
     },
     "execution_count": 56,
     "metadata": {},
     "output_type": "execute_result"
    }
   ],
   "source": [
    "Z[::-1]"
   ]
  },
  {
   "cell_type": "markdown",
   "id": "ac46b6d4-48a4-4f8d-87ee-0b0b60e4f74f",
   "metadata": {},
   "source": [
    "#### Q35) Order (sort) the given numpy array"
   ]
  },
  {
   "cell_type": "code",
   "execution_count": 58,
   "id": "58bf0663-a212-4739-a009-41890cf43c46",
   "metadata": {},
   "outputs": [
    {
     "data": {
      "text/plain": [
       "array([ 8,  5,  7,  6,  1,  2,  9, 10,  3])"
      ]
     },
     "execution_count": 58,
     "metadata": {},
     "output_type": "execute_result"
    }
   ],
   "source": [
    "X = np.array([8,5,7,6,1,2,9,10,3])\n",
    "X"
   ]
  },
  {
   "cell_type": "code",
   "execution_count": 61,
   "id": "c7fb3903-124a-4a20-9e14-eef4a2a37006",
   "metadata": {},
   "outputs": [
    {
     "data": {
      "text/plain": [
       "array([ 1,  2,  3,  5,  6,  7,  8,  9, 10])"
      ]
     },
     "execution_count": 61,
     "metadata": {},
     "output_type": "execute_result"
    }
   ],
   "source": [
    "# note that .sort function is used to sort the array in ascending order \n",
    "# np.sort() only sorts in ascending order, but you can reverse it using [::-1]:\n",
    "np.sort(X)"
   ]
  },
  {
   "cell_type": "markdown",
   "id": "14f6e7ba-ebc2-469c-abf0-ab168da24bb0",
   "metadata": {},
   "source": [
    "#### Q36) Given the X numpy array, set the fifth element equal to 1"
   ]
  },
  {
   "cell_type": "code",
   "execution_count": 63,
   "id": "b98b313e-409f-49c7-84b8-6866ca0411a1",
   "metadata": {},
   "outputs": [
    {
     "data": {
      "text/plain": [
       "array([ 8,  5,  7,  6,  1,  1,  9, 10,  3])"
      ]
     },
     "execution_count": 63,
     "metadata": {},
     "output_type": "execute_result"
    }
   ],
   "source": [
    "X[5] = 1\n",
    "X"
   ]
  },
  {
   "cell_type": "markdown",
   "id": "bbe27df1-4644-444e-932c-37ea05b0be10",
   "metadata": {},
   "source": [
    "#### Q37) Given the X numpy array, change the 50 with a 40"
   ]
  },
  {
   "cell_type": "code",
   "execution_count": 64,
   "id": "63569e3d-5c2a-4723-9604-a1ee77d3c2fc",
   "metadata": {},
   "outputs": [
    {
     "data": {
      "text/plain": [
       "array([10, 20, 30, 50, 60])"
      ]
     },
     "execution_count": 64,
     "metadata": {},
     "output_type": "execute_result"
    }
   ],
   "source": [
    "X = np.array([10, 20 , 30 , 50 , 60])\n",
    "X"
   ]
  },
  {
   "cell_type": "code",
   "execution_count": 65,
   "id": "4544d351-a837-42eb-8d17-7f7ed802ef22",
   "metadata": {},
   "outputs": [
    {
     "data": {
      "text/plain": [
       "array([10, 20, 30, 40, 60])"
      ]
     },
     "execution_count": 65,
     "metadata": {},
     "output_type": "execute_result"
    }
   ],
   "source": [
    "X[X == 50] = 40\n",
    "X"
   ]
  },
  {
   "cell_type": "markdown",
   "id": "3751c30b-772e-4b81-838c-5e8e896e7af4",
   "metadata": {},
   "source": [
    "#### Q38) Given the X numpy matrix, change the last row with all 1"
   ]
  },
  {
   "cell_type": "code",
   "execution_count": 66,
   "id": "4bd8da94-3aa7-4d50-9389-da9abaa5c586",
   "metadata": {},
   "outputs": [
    {
     "data": {
      "text/plain": [
       "array([[10, 20, 30],\n",
       "       [40, 50, 60],\n",
       "       [70, 80, 90]])"
      ]
     },
     "execution_count": 66,
     "metadata": {},
     "output_type": "execute_result"
    }
   ],
   "source": [
    "X = np.array([\n",
    "    [10,20,30],\n",
    "    [40,50,60],\n",
    "    [70,80,90]\n",
    "])\n",
    "X"
   ]
  },
  {
   "cell_type": "code",
   "execution_count": 68,
   "id": "761254e0-3b13-4052-ae3b-385266542470",
   "metadata": {},
   "outputs": [
    {
     "data": {
      "text/plain": [
       "array([[10, 20, 30],\n",
       "       [40, 50, 60],\n",
       "       [ 1,  1,  1]])"
      ]
     },
     "execution_count": 68,
     "metadata": {},
     "output_type": "execute_result"
    }
   ],
   "source": [
    "X[-1] = 1\n",
    "X"
   ]
  },
  {
   "cell_type": "markdown",
   "id": "4d779c06-4c49-40dd-810c-12df89683196",
   "metadata": {},
   "source": [
    "#### Q39) Given the X numpy matrix, change the last item on the last row with a 0"
   ]
  },
  {
   "cell_type": "code",
   "execution_count": 69,
   "id": "e70e1993-be86-4511-bda4-661f2d8e5071",
   "metadata": {},
   "outputs": [
    {
     "data": {
      "text/plain": [
       "array([[10, 20, 30],\n",
       "       [40, 50, 60],\n",
       "       [ 1,  1,  0]])"
      ]
     },
     "execution_count": 69,
     "metadata": {},
     "output_type": "execute_result"
    }
   ],
   "source": [
    "X[-1,-1] = 0\n",
    "X"
   ]
  },
  {
   "cell_type": "markdown",
   "id": "229facef-e7cf-4548-bee8-dbdc6e9a582f",
   "metadata": {},
   "source": [
    "#### Q40) Given the X numpy matrix, add 5 to every element"
   ]
  },
  {
   "cell_type": "code",
   "execution_count": 70,
   "id": "90f551cc-172a-45e5-b842-92b2c33be158",
   "metadata": {},
   "outputs": [
    {
     "data": {
      "text/plain": [
       "array([[5, 5, 5],\n",
       "       [5, 5, 5],\n",
       "       [5, 5, 5]])"
      ]
     },
     "execution_count": 70,
     "metadata": {},
     "output_type": "execute_result"
    }
   ],
   "source": [
    "X[:] = 5\n",
    "X"
   ]
  },
  {
   "cell_type": "markdown",
   "id": "800ecfe9-d4ff-4af4-972b-dcf12c6314d7",
   "metadata": {},
   "source": [
    "### **Boolean arrays (also called masks)**"
   ]
  },
  {
   "cell_type": "markdown",
   "id": "73148bab-9461-47b6-8682-b5b9f0afc338",
   "metadata": {},
   "source": [
    "#### Q41) Given the X numpy array, make a mask showing negative elements"
   ]
  },
  {
   "cell_type": "code",
   "execution_count": 71,
   "id": "44efff0b-79b4-4b6d-88b0-d2434bff75ea",
   "metadata": {},
   "outputs": [
    {
     "data": {
      "text/plain": [
       "array([  8,   9,  12,   1,  -5,  20,  -7,  23, -10])"
      ]
     },
     "execution_count": 71,
     "metadata": {},
     "output_type": "execute_result"
    }
   ],
   "source": [
    "Y = np.array([8,9,12,1,-5,20,-7,23,-10])\n",
    "Y"
   ]
  },
  {
   "cell_type": "code",
   "execution_count": 73,
   "id": "bb38742f-5023-4ec2-97f6-2b9cafac4dfe",
   "metadata": {},
   "outputs": [
    {
     "data": {
      "text/plain": [
       "array([False, False, False, False,  True, False,  True, False,  True])"
      ]
     },
     "execution_count": 73,
     "metadata": {},
     "output_type": "execute_result"
    }
   ],
   "source": [
    "mask = Y < 0\n",
    "mask"
   ]
  },
  {
   "cell_type": "markdown",
   "id": "ce651a76-c2dc-421e-9e4b-068f84df5bb8",
   "metadata": {},
   "source": [
    "#### Q42) Given the X numpy array, get the negative elements"
   ]
  },
  {
   "cell_type": "code",
   "execution_count": 74,
   "id": "31368889-5650-42fb-b2ce-caaec40bfaa0",
   "metadata": {},
   "outputs": [
    {
     "data": {
      "text/plain": [
       "array([ -5,  -7, -10])"
      ]
     },
     "execution_count": 74,
     "metadata": {},
     "output_type": "execute_result"
    }
   ],
   "source": [
    "negNo = Y[Y < 0]\n",
    "negNo"
   ]
  },
  {
   "cell_type": "markdown",
   "id": "38063f75-6c1e-479a-ac02-45cf71c6eaf7",
   "metadata": {},
   "source": [
    "#### Q43) Given the X numpy array, get numbers higher than 5"
   ]
  },
  {
   "cell_type": "code",
   "execution_count": 76,
   "id": "55cb4e65-dbae-4710-910d-b16a73bbbdd2",
   "metadata": {},
   "outputs": [
    {
     "data": {
      "text/plain": [
       "array([ 8,  9, 12, 20, 23])"
      ]
     },
     "execution_count": 76,
     "metadata": {},
     "output_type": "execute_result"
    }
   ],
   "source": [
    "Y[Y > 5]"
   ]
  },
  {
   "cell_type": "markdown",
   "id": "456ca0b0-a3f7-40bd-a8c6-b9175c1696ef",
   "metadata": {},
   "source": [
    "#### Q44) Given the X numpy array, get numbers higher than the elements mean"
   ]
  },
  {
   "cell_type": "code",
   "execution_count": 78,
   "id": "0f96fcb2-91f1-476b-ba22-320cb8edecb1",
   "metadata": {},
   "outputs": [
    {
     "data": {
      "text/plain": [
       "array([ 8,  9, 12, 20, 23])"
      ]
     },
     "execution_count": 78,
     "metadata": {},
     "output_type": "execute_result"
    }
   ],
   "source": [
    "Y[Y > Y.mean()]"
   ]
  },
  {
   "cell_type": "markdown",
   "id": "7c4d91e8-03c8-4dfb-804d-19ec06325466",
   "metadata": {},
   "source": [
    "#### Q45) Given the X numpy array, get numbers equal to 2 or 10"
   ]
  },
  {
   "cell_type": "code",
   "execution_count": 79,
   "id": "0f3a595d-4aa4-42ea-bb4b-10adcc8df1c0",
   "metadata": {},
   "outputs": [
    {
     "data": {
      "text/plain": [
       "array([ 5,  8,  1,  3,  2,  4, 10, 89])"
      ]
     },
     "execution_count": 79,
     "metadata": {},
     "output_type": "execute_result"
    }
   ],
   "source": [
    "X = np.array([5,8,1,3,2,4,10,89])\n",
    "X"
   ]
  },
  {
   "cell_type": "code",
   "execution_count": 83,
   "id": "0b881b4a-47e0-46d8-9bd6-e0b078547184",
   "metadata": {},
   "outputs": [
    {
     "data": {
      "text/plain": [
       "array([ 2, 10])"
      ]
     },
     "execution_count": 83,
     "metadata": {},
     "output_type": "execute_result"
    }
   ],
   "source": [
    "X[ (X == 2) | (X == 10) ]"
   ]
  },
  {
   "cell_type": "markdown",
   "id": "339ef03c-6c3e-4ca6-a52b-0bf0267f3a05",
   "metadata": {},
   "source": [
    "### **Logic Functions**"
   ]
  },
  {
   "cell_type": "markdown",
   "id": "0533aa2b-22e9-41c3-a502-89481f70a0c3",
   "metadata": {},
   "source": [
    "#### Q46) Given the X numpy array, return True if none of its elements is zero"
   ]
  },
  {
   "cell_type": "code",
   "execution_count": 91,
   "id": "5ae841b1-a458-4f66-85bd-c323ca00f868",
   "metadata": {},
   "outputs": [
    {
     "data": {
      "text/plain": [
       "array([10, 45,  0, 18,  0, 23,  0, 17])"
      ]
     },
     "execution_count": 91,
     "metadata": {},
     "output_type": "execute_result"
    }
   ],
   "source": [
    "X = np.array([10,45,0,18,0,23,0,17])\n",
    "X"
   ]
  },
  {
   "cell_type": "code",
   "execution_count": 95,
   "id": "342487c5-273b-48c4-a24e-42c92577dbdb",
   "metadata": {},
   "outputs": [
    {
     "data": {
      "text/plain": [
       "False"
      ]
     },
     "execution_count": 95,
     "metadata": {},
     "output_type": "execute_result"
    }
   ],
   "source": [
    "# Returns True if all elements in the input array a evaluate to True. Otherwise, it returns False.\n",
    "X.all()"
   ]
  },
  {
   "cell_type": "markdown",
   "id": "328aad39-e5c4-4e81-9f98-592a4abf6fac",
   "metadata": {},
   "source": [
    "#### Q47) Given the X numpy array, return True if any of its elements is zero"
   ]
  },
  {
   "cell_type": "code",
   "execution_count": 96,
   "id": "ded726ba-b119-4bc7-9b8e-3918f8fc13dc",
   "metadata": {},
   "outputs": [
    {
     "data": {
      "text/plain": [
       "True"
      ]
     },
     "execution_count": 96,
     "metadata": {},
     "output_type": "execute_result"
    }
   ],
   "source": [
    "# Returns True if at least one element in the input array a evaluates to True. If all elements are False or the array is empty, it returns False.\n",
    "X.any()"
   ]
  },
  {
   "cell_type": "markdown",
   "id": "9d70128c-d5c3-410c-ba9c-97df06241f94",
   "metadata": {},
   "source": [
    "### **Summary statistics**"
   ]
  },
  {
   "cell_type": "markdown",
   "id": "7b2cf070-5621-484e-9824-50124dc5715e",
   "metadata": {},
   "source": [
    "#### Q48) Given the X numpy array, show the sum of its elements"
   ]
  },
  {
   "cell_type": "code",
   "execution_count": 97,
   "id": "4bb209d2-f8f1-4388-8be4-1b4f71579c5f",
   "metadata": {},
   "outputs": [
    {
     "data": {
      "text/plain": [
       "array([1, 2, 3, 4, 5, 6, 7, 8, 9])"
      ]
     },
     "execution_count": 97,
     "metadata": {},
     "output_type": "execute_result"
    }
   ],
   "source": [
    "Y = np.arange(1,10)\n",
    "Y"
   ]
  },
  {
   "cell_type": "code",
   "execution_count": 98,
   "id": "434df5c1-6f2d-4e20-8df7-aa3b0677913a",
   "metadata": {},
   "outputs": [
    {
     "data": {
      "text/plain": [
       "45"
      ]
     },
     "execution_count": 98,
     "metadata": {},
     "output_type": "execute_result"
    }
   ],
   "source": [
    "Y.sum()"
   ]
  },
  {
   "cell_type": "markdown",
   "id": "27956df0-8272-452e-889a-be91b20cee20",
   "metadata": {},
   "source": [
    "#### Q49) Given the X numpy array, show the mean value of its elements"
   ]
  },
  {
   "cell_type": "code",
   "execution_count": 99,
   "id": "bc9ae822-73ac-4273-b053-95f8c1803d23",
   "metadata": {},
   "outputs": [
    {
     "data": {
      "text/plain": [
       "5.0"
      ]
     },
     "execution_count": 99,
     "metadata": {},
     "output_type": "execute_result"
    }
   ],
   "source": [
    "Y.mean()"
   ]
  },
  {
   "cell_type": "markdown",
   "id": "92024df9-74ac-46e5-a897-15c583bb9b67",
   "metadata": {},
   "source": [
    "#### Q50) Given the X numpy matrix, show the sum of its columns"
   ]
  },
  {
   "cell_type": "code",
   "execution_count": 100,
   "id": "626389d4-bbd1-4bad-baa1-672e6a260758",
   "metadata": {},
   "outputs": [
    {
     "data": {
      "text/plain": [
       "array([[ 1,  2,  3,  4],\n",
       "       [ 5,  6,  7,  8],\n",
       "       [ 9, 10, 11, 12],\n",
       "       [13, 14, 15, 16]])"
      ]
     },
     "execution_count": 100,
     "metadata": {},
     "output_type": "execute_result"
    }
   ],
   "source": [
    "Z =  np.array([\n",
    "    [1,   2,  3,  4],\n",
    "    [5,   6,  7,  8],\n",
    "    [9,  10, 11, 12],\n",
    "    [13, 14, 15, 16]\n",
    "])\n",
    "Z"
   ]
  },
  {
   "cell_type": "code",
   "execution_count": 102,
   "id": "e4a646f9-690a-421f-a040-a752615cad58",
   "metadata": {},
   "outputs": [
    {
     "data": {
      "text/plain": [
       "array([28, 32, 36, 40])"
      ]
     },
     "execution_count": 102,
     "metadata": {},
     "output_type": "execute_result"
    }
   ],
   "source": [
    "Z.sum(axis = 0)"
   ]
  },
  {
   "cell_type": "markdown",
   "id": "e2eee631-8fad-4846-b63f-266c4a9f3e1f",
   "metadata": {},
   "source": [
    "#### Q51) Given the X numpy matrix, show the mean value of its rows"
   ]
  },
  {
   "cell_type": "code",
   "execution_count": 103,
   "id": "7368cad3-05c4-40ca-9f4e-a3153eec96ba",
   "metadata": {},
   "outputs": [
    {
     "data": {
      "text/plain": [
       "array([ 2.5,  6.5, 10.5, 14.5])"
      ]
     },
     "execution_count": 103,
     "metadata": {},
     "output_type": "execute_result"
    }
   ],
   "source": [
    "Z.mean(axis = 1)"
   ]
  },
  {
   "cell_type": "markdown",
   "id": "8aa3d1d6-54ee-4a1c-b2b3-5bb4cb758b30",
   "metadata": {},
   "source": [
    "#### Q52) Given the X numpy array, show the max value of its elements"
   ]
  },
  {
   "cell_type": "code",
   "execution_count": 104,
   "id": "f25ee18d-41b6-407b-94d4-844ace32d2ba",
   "metadata": {},
   "outputs": [
    {
     "data": {
      "text/plain": [
       "array([ 1,  2,  0,  4,  5,  6,  0,  0,  9, 10])"
      ]
     },
     "execution_count": 104,
     "metadata": {},
     "output_type": "execute_result"
    }
   ],
   "source": [
    "X = np.array([1, 2, 0, 4, 5, 6, 0, 0, 9, 10])\n",
    "X"
   ]
  },
  {
   "cell_type": "code",
   "execution_count": 106,
   "id": "886aa3ec-3670-4075-9ff6-0e697714bf5b",
   "metadata": {},
   "outputs": [
    {
     "data": {
      "text/plain": [
       "10"
      ]
     },
     "execution_count": 106,
     "metadata": {},
     "output_type": "execute_result"
    }
   ],
   "source": [
    "X.max()"
   ]
  },
  {
   "cell_type": "markdown",
   "id": "405acaad-533a-4afe-bb67-2d000b17b019",
   "metadata": {},
   "source": [
    "#### **END PRACTICE**"
   ]
  }
 ],
 "metadata": {
  "kernelspec": {
   "display_name": "Python 3 (ipykernel)",
   "language": "python",
   "name": "python3"
  },
  "language_info": {
   "codemirror_mode": {
    "name": "ipython",
    "version": 3
   },
   "file_extension": ".py",
   "mimetype": "text/x-python",
   "name": "python",
   "nbconvert_exporter": "python",
   "pygments_lexer": "ipython3",
   "version": "3.9.6"
  }
 },
 "nbformat": 4,
 "nbformat_minor": 5
}
