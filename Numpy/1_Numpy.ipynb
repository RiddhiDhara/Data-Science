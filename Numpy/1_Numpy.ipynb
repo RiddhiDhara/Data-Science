{
 "cells": [
  {
   "cell_type": "markdown",
   "id": "b2c0215f-25d8-488a-b6aa-bcf96401fcdd",
   "metadata": {},
   "source": [
    "## NUMPY \n",
    "##### [Visit NumPy Documentation](https://numpy.org/doc/)\n",
    "---"
   ]
  },
  {
   "cell_type": "code",
   "execution_count": 1,
   "id": "3396f27a-5759-4263-b731-8e7a7d8042e2",
   "metadata": {},
   "outputs": [],
   "source": [
    "import numpy as np\n",
    "import sys"
   ]
  },
  {
   "cell_type": "markdown",
   "id": "9b5bac0a-c3c4-4577-a298-a7d79f3816da",
   "metadata": {},
   "source": [
    "## Hands on !!"
   ]
  },
  {
   "cell_type": "code",
   "execution_count": 2,
   "id": "f4aa1ec2-d923-4c18-9e6c-ef5f2cf9ce9e",
   "metadata": {},
   "outputs": [],
   "source": [
    "# basic list in python\n",
    "arr = [1,2,3,4]\n",
    "arr1 = [0,0.5,1,1.5,2]"
   ]
  },
  {
   "cell_type": "code",
   "execution_count": 3,
   "id": "c943f4e7-8883-4e5f-9360-6cd68c743f22",
   "metadata": {},
   "outputs": [],
   "source": [
    "#  converting it into a numpy array\n",
    "a = np.array(arr)\n",
    "b = np.array(arr1)"
   ]
  },
  {
   "cell_type": "code",
   "execution_count": 4,
   "id": "5c797a6a-67d7-434a-a785-8f742af32d44",
   "metadata": {},
   "outputs": [
    {
     "data": {
      "text/plain": [
       "numpy.ndarray"
      ]
     },
     "execution_count": 4,
     "metadata": {},
     "output_type": "execute_result"
    }
   ],
   "source": [
    "\n",
    "type(a)\n",
    "type(b)"
   ]
  },
  {
   "cell_type": "markdown",
   "id": "c276a330-16cd-4c67-bdb2-50ab96459706",
   "metadata": {},
   "source": [
    "## numpy operation \n",
    "---"
   ]
  },
  {
   "cell_type": "markdown",
   "id": "dae62e82-3549-4e8b-831a-ced738d75d7b",
   "metadata": {},
   "source": [
    "### numpy array indexing and slicing :"
   ]
  },
  {
   "cell_type": "code",
   "execution_count": 5,
   "id": "2633ed52-123f-48b3-afa3-c02b755f4f2d",
   "metadata": {},
   "outputs": [
    {
     "data": {
      "text/plain": [
       "(1, 2, 4)"
      ]
     },
     "execution_count": 5,
     "metadata": {},
     "output_type": "execute_result"
    }
   ],
   "source": [
    "\n",
    "a[0], a[1], a[-1]"
   ]
  },
  {
   "cell_type": "code",
   "execution_count": 6,
   "id": "10e320cc-3445-49fe-a280-cd4fea0e6f66",
   "metadata": {},
   "outputs": [
    {
     "data": {
      "text/plain": [
       "array([2])"
      ]
     },
     "execution_count": 6,
     "metadata": {},
     "output_type": "execute_result"
    }
   ],
   "source": [
    "\n",
    "a[1:2]"
   ]
  },
  {
   "cell_type": "code",
   "execution_count": 7,
   "id": "7d91e03f-0579-494c-8ee5-3c6399009d83",
   "metadata": {},
   "outputs": [
    {
     "data": {
      "text/plain": [
       "array([1, 2])"
      ]
     },
     "execution_count": 7,
     "metadata": {},
     "output_type": "execute_result"
    }
   ],
   "source": [
    "a[:2]"
   ]
  },
  {
   "cell_type": "code",
   "execution_count": 8,
   "id": "93379596-5b70-4a23-b3f9-b0e7a7f348ad",
   "metadata": {},
   "outputs": [
    {
     "data": {
      "text/plain": [
       "array([2, 3, 4])"
      ]
     },
     "execution_count": 8,
     "metadata": {},
     "output_type": "execute_result"
    }
   ],
   "source": [
    "a[-3:]"
   ]
  },
  {
   "cell_type": "code",
   "execution_count": 9,
   "id": "f3643d7f-7497-4a2f-8d7a-3344b7b31ed8",
   "metadata": {},
   "outputs": [
    {
     "data": {
      "text/plain": [
       "array([1, 3])"
      ]
     },
     "execution_count": 9,
     "metadata": {},
     "output_type": "execute_result"
    }
   ],
   "source": [
    "# same like python list\n",
    "# a[start,end,steps]\n",
    "a[0:-1:2]"
   ]
  },
  {
   "cell_type": "code",
   "execution_count": 10,
   "id": "e12d8963-0988-4505-be59-f2365743def9",
   "metadata": {},
   "outputs": [
    {
     "data": {
      "text/plain": [
       "array([1, 3])"
      ]
     },
     "execution_count": 10,
     "metadata": {},
     "output_type": "execute_result"
    }
   ],
   "source": [
    "a[::2]"
   ]
  },
  {
   "cell_type": "code",
   "execution_count": 11,
   "id": "f235e2ff-bda8-45a8-b55d-2b62353093dc",
   "metadata": {},
   "outputs": [
    {
     "data": {
      "text/plain": [
       "(0.0, 1.0, 2.0)"
      ]
     },
     "execution_count": 11,
     "metadata": {},
     "output_type": "execute_result"
    }
   ],
   "source": [
    "# second array\n",
    "b[0], b[2], b[-1]"
   ]
  },
  {
   "cell_type": "code",
   "execution_count": 12,
   "id": "2cb18e8e-b252-434a-a948-63d143d22119",
   "metadata": {},
   "outputs": [
    {
     "data": {
      "text/plain": [
       "array([0., 1., 2.])"
      ]
     },
     "execution_count": 12,
     "metadata": {},
     "output_type": "execute_result"
    }
   ],
   "source": [
    "# it means that from b you wanna select elements from index 0, 2, -1 resp.\n",
    "b[[0 , 2, -1]]"
   ]
  },
  {
   "cell_type": "markdown",
   "id": "f5f24d46-0155-4e3e-bc1a-796fed289be0",
   "metadata": {},
   "source": [
    "## Array types\n",
    "---"
   ]
  },
  {
   "cell_type": "code",
   "execution_count": 13,
   "id": "9fc2c78f-194c-4409-b88a-3a7c008a7bea",
   "metadata": {},
   "outputs": [
    {
     "data": {
      "text/plain": [
       "array([1, 2, 3, 4])"
      ]
     },
     "execution_count": 13,
     "metadata": {},
     "output_type": "execute_result"
    }
   ],
   "source": [
    "a"
   ]
  },
  {
   "cell_type": "code",
   "execution_count": 14,
   "id": "1e7a6900-cc2b-4fd9-9338-e71b3c68f587",
   "metadata": {},
   "outputs": [
    {
     "data": {
      "text/plain": [
       "dtype('int32')"
      ]
     },
     "execution_count": 14,
     "metadata": {},
     "output_type": "execute_result"
    }
   ],
   "source": [
    "# note that dtype is used to check the data type of the numpy array\n",
    "# note that dtype is not same as the type() in general python rather it is specially for numpy\n",
    "a.dtype"
   ]
  },
  {
   "cell_type": "code",
   "execution_count": 15,
   "id": "831a9d9c-b2a7-4dec-be73-d01943c87c13",
   "metadata": {},
   "outputs": [
    {
     "data": {
      "text/plain": [
       "array([0. , 0.5, 1. , 1.5, 2. ])"
      ]
     },
     "execution_count": 15,
     "metadata": {},
     "output_type": "execute_result"
    }
   ],
   "source": [
    "b"
   ]
  },
  {
   "cell_type": "code",
   "execution_count": 16,
   "id": "90ca95f2-72cc-4b11-b568-7a0121aed7e0",
   "metadata": {},
   "outputs": [
    {
     "data": {
      "text/plain": [
       "dtype('float64')"
      ]
     },
     "execution_count": 16,
     "metadata": {},
     "output_type": "execute_result"
    }
   ],
   "source": [
    "# note that b has floating val in the array hence datatype is float\n",
    "b.dtype"
   ]
  },
  {
   "cell_type": "code",
   "execution_count": 17,
   "id": "0ab5ddee-12fe-476f-a143-1af4cffa0b7e",
   "metadata": {},
   "outputs": [
    {
     "data": {
      "text/plain": [
       "array([1., 2., 3., 4.])"
      ]
     },
     "execution_count": 17,
     "metadata": {},
     "output_type": "execute_result"
    }
   ],
   "source": [
    "# we can change the data type of the numpy array\n",
    "# note that np.float is depreciated hence use only float or np.float64\n",
    "np.array([1,2,3,4], dtype=float)"
   ]
  },
  {
   "cell_type": "code",
   "execution_count": 18,
   "id": "ef0a3ab2-a0aa-401a-a245-e19cf76a7e6b",
   "metadata": {},
   "outputs": [
    {
     "data": {
      "text/plain": [
       "array([1, 2, 3, 5])"
      ]
     },
     "execution_count": 18,
     "metadata": {},
     "output_type": "execute_result"
    }
   ],
   "source": [
    "# same case for int \n",
    "np.array([1.0,2.1,3.2,5.4],dtype=int)"
   ]
  },
  {
   "cell_type": "code",
   "execution_count": 19,
   "id": "10d6705d-e870-477b-a670-e15698d4a17f",
   "metadata": {},
   "outputs": [
    {
     "data": {
      "text/plain": [
       "array(['a', 'b', 'cat', 'd'], dtype='<U3')"
      ]
     },
     "execution_count": 19,
     "metadata": {},
     "output_type": "execute_result"
    }
   ],
   "source": [
    "# note that numpy store int , float , boolean but not string in a regular way how ever they can be stored in a unique format\n",
    "# note that numpy stores string / characters in unicode or byte strings hence dtype=<Ux\n",
    "# where x represent the longest string present in the numpy array\n",
    "np.array(['a','b','cat','d'])"
   ]
  },
  {
   "cell_type": "code",
   "execution_count": 20,
   "id": "39b64b53-6616-4d34-92f3-83edd231f3cc",
   "metadata": {},
   "outputs": [
    {
     "name": "stdout",
     "output_type": "stream",
     "text": [
      "[{'a': 1} <module 'sys' (built-in)>]\n",
      "object\n"
     ]
    }
   ],
   "source": [
    "# NumPy prefers homogeneous arrays, but here you're mixing a dictionary ({'a': 1}) and (presumably) a module (sys). \n",
    "# NumPy will default to dtype=object in such cases.\n",
    "d = np.array([{'a': 1}, sys])  # Creates an object dtype array\n",
    "print(d)\n",
    "print(d.dtype)  # Output: object"
   ]
  },
  {
   "cell_type": "markdown",
   "id": "e600ab78-6b98-4d41-b489-dd459be99434",
   "metadata": {},
   "source": [
    "## Dimension and Shapes\n",
    "---"
   ]
  },
  {
   "cell_type": "markdown",
   "id": "6849ff83-3959-4ecb-a679-d2dcbbaf8443",
   "metadata": {},
   "source": [
    "### 2D array"
   ]
  },
  {
   "cell_type": "code",
   "execution_count": 21,
   "id": "3812099c-548d-4165-9d51-f0317d56c15c",
   "metadata": {},
   "outputs": [
    {
     "data": {
      "text/plain": [
       "array([[1, 2, 3],\n",
       "       [5, 6, 7]])"
      ]
     },
     "execution_count": 21,
     "metadata": {},
     "output_type": "execute_result"
    }
   ],
   "source": [
    "A = np.array([\n",
    "    [1,2,3],\n",
    "    [5,6,7]\n",
    "])\n",
    "A"
   ]
  },
  {
   "cell_type": "code",
   "execution_count": 22,
   "id": "4369cb98-957e-47b5-a357-e3cb39227f53",
   "metadata": {},
   "outputs": [
    {
     "data": {
      "text/plain": [
       "(2, 3)"
      ]
     },
     "execution_count": 22,
     "metadata": {},
     "output_type": "execute_result"
    }
   ],
   "source": [
    "# shape of the arrays / it means length breadth height \n",
    "A.shape"
   ]
  },
  {
   "cell_type": "code",
   "execution_count": 23,
   "id": "44fb5eef-9acc-4551-808f-a2affc4c06bf",
   "metadata": {},
   "outputs": [
    {
     "data": {
      "text/plain": [
       "2"
      ]
     },
     "execution_count": 23,
     "metadata": {},
     "output_type": "execute_result"
    }
   ],
   "source": [
    "# dimensions of the array : x , y , z axis / # dimension of the array : 2d or 3d\n",
    "A.ndim"
   ]
  },
  {
   "cell_type": "code",
   "execution_count": 24,
   "id": "c4b22062-d993-4403-9fc7-85e1655ccef5",
   "metadata": {},
   "outputs": [
    {
     "data": {
      "text/plain": [
       "6"
      ]
     },
     "execution_count": 24,
     "metadata": {},
     "output_type": "execute_result"
    }
   ],
   "source": [
    "# total size of the array : total no. of elements\n",
    "A.size"
   ]
  },
  {
   "cell_type": "markdown",
   "id": "153714ce-8b8e-4185-9218-e8ce8073831b",
   "metadata": {},
   "source": [
    "### 3D array"
   ]
  },
  {
   "cell_type": "code",
   "execution_count": 25,
   "id": "ef9c379a-1a45-4fbc-a404-d64b80830ca5",
   "metadata": {},
   "outputs": [],
   "source": [
    "B = np.array([\n",
    "    [\n",
    "        [1,2,3],\n",
    "        [4,5,6]\n",
    "    ],\n",
    "    [\n",
    "        [7,8,9],\n",
    "        [10,11,12]\n",
    "    ]\n",
    "])"
   ]
  },
  {
   "cell_type": "code",
   "execution_count": 26,
   "id": "979d296b-2423-4baa-bcbf-dcd7f9ff67c8",
   "metadata": {},
   "outputs": [
    {
     "data": {
      "text/plain": [
       "array([[[ 1,  2,  3],\n",
       "        [ 4,  5,  6]],\n",
       "\n",
       "       [[ 7,  8,  9],\n",
       "        [10, 11, 12]]])"
      ]
     },
     "execution_count": 26,
     "metadata": {},
     "output_type": "execute_result"
    }
   ],
   "source": [
    "B"
   ]
  },
  {
   "cell_type": "code",
   "execution_count": 27,
   "id": "c02f2bac-b3d5-415f-b9ed-f8a7d52b29dd",
   "metadata": {},
   "outputs": [
    {
     "data": {
      "text/plain": [
       "(2, 2, 3)"
      ]
     },
     "execution_count": 27,
     "metadata": {},
     "output_type": "execute_result"
    }
   ],
   "source": [
    "# shape of the array : it means length breadth height \n",
    "B.shape"
   ]
  },
  {
   "cell_type": "code",
   "execution_count": 28,
   "id": "926fc1cf-b485-4f74-af5d-d4d3a49b489a",
   "metadata": {},
   "outputs": [
    {
     "data": {
      "text/plain": [
       "3"
      ]
     },
     "execution_count": 28,
     "metadata": {},
     "output_type": "execute_result"
    }
   ],
   "source": [
    "# dimension of the array : 2d or 3d\n",
    "B.ndim"
   ]
  },
  {
   "cell_type": "code",
   "execution_count": 29,
   "id": "0cdb2989-2a7e-4abd-9c69-6a1d2cce3d7a",
   "metadata": {},
   "outputs": [
    {
     "data": {
      "text/plain": [
       "12"
      ]
     },
     "execution_count": 29,
     "metadata": {},
     "output_type": "execute_result"
    }
   ],
   "source": [
    "B.size"
   ]
  },
  {
   "cell_type": "code",
   "execution_count": 30,
   "id": "636b95ec-a0ae-4554-aad9-95f0336f8f79",
   "metadata": {},
   "outputs": [],
   "source": [
    "# note that if the numpy array either 2d or 3d is not in the proper alignment then the python consider it as the normal python object"
   ]
  },
  {
   "cell_type": "markdown",
   "id": "e5ddb5cb-3068-47e5-b687-6f74843e9d2f",
   "metadata": {},
   "source": [
    "### Indexing and Slicing of matrix"
   ]
  },
  {
   "cell_type": "code",
   "execution_count": 31,
   "id": "9c522d33-a4c9-40cf-a01e-9113579be3e8",
   "metadata": {},
   "outputs": [],
   "source": [
    "# square matrix\n",
    "A = np.array(\n",
    "    [\n",
    "        [1,2,3],\n",
    "        [4,5,6],\n",
    "        [7,8,9]\n",
    "    ]\n",
    ")"
   ]
  },
  {
   "cell_type": "code",
   "execution_count": 32,
   "id": "cce52576-7979-4fef-bf40-f51170a2ca17",
   "metadata": {},
   "outputs": [
    {
     "data": {
      "text/plain": [
       "array([1, 2, 3])"
      ]
     },
     "execution_count": 32,
     "metadata": {},
     "output_type": "execute_result"
    }
   ],
   "source": [
    "# accessing 1 dimension of the array\n",
    "A[0]"
   ]
  },
  {
   "cell_type": "code",
   "execution_count": 33,
   "id": "916b93fc-c21e-4fcf-b0fa-dfe6ed07e5be",
   "metadata": {},
   "outputs": [
    {
     "data": {
      "text/plain": [
       "array([4, 5, 6])"
      ]
     },
     "execution_count": 33,
     "metadata": {},
     "output_type": "execute_result"
    }
   ],
   "source": [
    "A[1]"
   ]
  },
  {
   "cell_type": "code",
   "execution_count": 34,
   "id": "31ef1f65-d29b-4f6f-87c3-05c5a0cc36f4",
   "metadata": {},
   "outputs": [
    {
     "data": {
      "text/plain": [
       "array([7, 8, 9])"
      ]
     },
     "execution_count": 34,
     "metadata": {},
     "output_type": "execute_result"
    }
   ],
   "source": [
    "A[2]"
   ]
  },
  {
   "cell_type": "code",
   "execution_count": 35,
   "id": "bb8f4688-7798-4a92-8c04-ec02071a73f1",
   "metadata": {},
   "outputs": [
    {
     "data": {
      "text/plain": [
       "array([[1, 2, 3],\n",
       "       [4, 5, 6],\n",
       "       [7, 8, 9]])"
      ]
     },
     "execution_count": 35,
     "metadata": {},
     "output_type": "execute_result"
    }
   ],
   "source": [
    "A[0:3]"
   ]
  },
  {
   "cell_type": "code",
   "execution_count": 36,
   "id": "d0a7907b-6231-4b2a-b0d4-ff45bbf44892",
   "metadata": {},
   "outputs": [
    {
     "data": {
      "text/plain": [
       "3"
      ]
     },
     "execution_count": 36,
     "metadata": {},
     "output_type": "execute_result"
    }
   ],
   "source": [
    "# accessing 2 dimension of the array\n",
    "A[0][2]"
   ]
  },
  {
   "cell_type": "code",
   "execution_count": 37,
   "id": "b73e8b87-035d-4ff5-ac99-34324d9b46a5",
   "metadata": {},
   "outputs": [
    {
     "data": {
      "text/plain": [
       "6"
      ]
     },
     "execution_count": 37,
     "metadata": {},
     "output_type": "execute_result"
    }
   ],
   "source": [
    "A[1][2]"
   ]
  },
  {
   "cell_type": "code",
   "execution_count": 38,
   "id": "6d216b31-b433-4ecd-bc51-eb0925411ee2",
   "metadata": {},
   "outputs": [
    {
     "data": {
      "text/plain": [
       "array([[2, 3],\n",
       "       [5, 6],\n",
       "       [8, 9]])"
      ]
     },
     "execution_count": 38,
     "metadata": {},
     "output_type": "execute_result"
    }
   ],
   "source": [
    "# splicing in both 2d and 3d\n",
    "# array_name[dim1_slicing, dim2_slicing]\n",
    "A[0:3, 1:3]"
   ]
  },
  {
   "cell_type": "code",
   "execution_count": 39,
   "id": "55a68e3e-303d-4c6a-97ff-bed374a62779",
   "metadata": {},
   "outputs": [],
   "source": [
    "# changing the value of the index\n",
    "A[1] = np.array([10,10,10])"
   ]
  },
  {
   "cell_type": "code",
   "execution_count": 40,
   "id": "178947e3-a97e-4b7f-af48-04915e7ca9be",
   "metadata": {},
   "outputs": [
    {
     "data": {
      "text/plain": [
       "array([[ 1,  2,  3],\n",
       "       [10, 10, 10],\n",
       "       [ 7,  8,  9]])"
      ]
     },
     "execution_count": 40,
     "metadata": {},
     "output_type": "execute_result"
    }
   ],
   "source": [
    "A"
   ]
  },
  {
   "cell_type": "code",
   "execution_count": 41,
   "id": "f8851ec1-a23c-4bcc-b17e-7c66d3de2f9d",
   "metadata": {},
   "outputs": [],
   "source": [
    "# if we assign a single no. to a incompatible array shape then that no. id repeated times that dimension\n",
    "A[2] = 99"
   ]
  },
  {
   "cell_type": "code",
   "execution_count": 42,
   "id": "cb5f1ca8-1ba0-4d55-8215-2903cb4c95b2",
   "metadata": {},
   "outputs": [
    {
     "data": {
      "text/plain": [
       "array([[ 1,  2,  3],\n",
       "       [10, 10, 10],\n",
       "       [99, 99, 99]])"
      ]
     },
     "execution_count": 42,
     "metadata": {},
     "output_type": "execute_result"
    }
   ],
   "source": [
    "A"
   ]
  },
  {
   "cell_type": "markdown",
   "id": "ed63c834-a290-41f4-ae1e-27fbd22e935f",
   "metadata": {},
   "source": [
    "### Built-In function in Numpy"
   ]
  },
  {
   "cell_type": "markdown",
   "id": "c6af72c4-4167-428b-afc3-0089edcc0b0c",
   "metadata": {},
   "source": [
    "#### for 1D array"
   ]
  },
  {
   "cell_type": "code",
   "execution_count": 43,
   "id": "8ca32beb-2f0f-4d05-835f-8872bf08c2d3",
   "metadata": {},
   "outputs": [],
   "source": [
    "a = np.array([1,2,3,4])"
   ]
  },
  {
   "cell_type": "code",
   "execution_count": 44,
   "id": "1b717093-8447-4200-9c1b-c63553c0e982",
   "metadata": {},
   "outputs": [
    {
     "data": {
      "text/plain": [
       "10"
      ]
     },
     "execution_count": 44,
     "metadata": {},
     "output_type": "execute_result"
    }
   ],
   "source": [
    "# function to find the sum of the elements of the array\n",
    "a.sum()"
   ]
  },
  {
   "cell_type": "code",
   "execution_count": 45,
   "id": "6b4ef653-2a1a-49ed-be6b-e783f49635f7",
   "metadata": {},
   "outputs": [
    {
     "data": {
      "text/plain": [
       "2.5"
      ]
     },
     "execution_count": 45,
     "metadata": {},
     "output_type": "execute_result"
    }
   ],
   "source": [
    "# function to find the mean of the elements of the array\n",
    "a.mean()"
   ]
  },
  {
   "attachments": {},
   "cell_type": "markdown",
   "id": "9f082214-2f67-4910-a469-cd787adece77",
   "metadata": {},
   "source": [
    "#### standard deviation \n",
    "---\n",
    "##### The standard deviation (σ) is calculated as:\n",
    "## σ = √(∑(xi−mu)^2/n)"
   ]
  },
  {
   "cell_type": "code",
   "execution_count": 46,
   "id": "ebec6e1d-6794-4ef9-aaf6-e5be06794284",
   "metadata": {},
   "outputs": [
    {
     "data": {
      "text/plain": [
       "1.118033988749895"
      ]
     },
     "execution_count": 46,
     "metadata": {},
     "output_type": "execute_result"
    }
   ],
   "source": [
    "# function to find the standard deviation of the numpy \n",
    "a.std()"
   ]
  },
  {
   "cell_type": "markdown",
   "id": "cc58e340-86ba-432d-b22b-a466e9ec0574",
   "metadata": {},
   "source": [
    "#### variance\n",
    "---\n",
    "##### variance is calculated as :\n",
    "\n",
    "## σ^2 =  1/N (∑(i = 1 to N) of (xi - mu)^2)"
   ]
  },
  {
   "cell_type": "code",
   "execution_count": 47,
   "id": "8e84318b-c41e-4233-9023-51b4ab7d45ff",
   "metadata": {},
   "outputs": [
    {
     "data": {
      "text/plain": [
       "1.25"
      ]
     },
     "execution_count": 47,
     "metadata": {},
     "output_type": "execute_result"
    }
   ],
   "source": [
    "# function to find the variance of the array\n",
    "a.var()"
   ]
  },
  {
   "cell_type": "markdown",
   "id": "6054e6eb-627c-4fcb-960d-14b009b3b5e2",
   "metadata": {},
   "source": [
    "#### for multi-d array"
   ]
  },
  {
   "cell_type": "code",
   "execution_count": 48,
   "id": "68932c07-ff48-45aa-8fe1-d7ff6cb47c77",
   "metadata": {},
   "outputs": [],
   "source": [
    "A = np.array(\n",
    "    [\n",
    "        [1,2,3],\n",
    "        [4,5,6],\n",
    "        [7,8,9]\n",
    "    ]\n",
    ")"
   ]
  },
  {
   "cell_type": "code",
   "execution_count": 49,
   "id": "c394a72f-9aa2-437f-9bbf-e05c417e77d9",
   "metadata": {},
   "outputs": [
    {
     "data": {
      "text/plain": [
       "45"
      ]
     },
     "execution_count": 49,
     "metadata": {},
     "output_type": "execute_result"
    }
   ],
   "source": [
    "A.sum()"
   ]
  },
  {
   "cell_type": "code",
   "execution_count": 50,
   "id": "a692660e-bc21-4d3c-89ae-53a8ad07cc24",
   "metadata": {},
   "outputs": [
    {
     "data": {
      "text/plain": [
       "5.0"
      ]
     },
     "execution_count": 50,
     "metadata": {},
     "output_type": "execute_result"
    }
   ],
   "source": [
    "A.mean()"
   ]
  },
  {
   "cell_type": "code",
   "execution_count": 51,
   "id": "953db1cf-2cda-4c88-a279-e67850f6254f",
   "metadata": {},
   "outputs": [
    {
     "data": {
      "text/plain": [
       "2.581988897471611"
      ]
     },
     "execution_count": 51,
     "metadata": {},
     "output_type": "execute_result"
    }
   ],
   "source": [
    "A.std()"
   ]
  },
  {
   "cell_type": "code",
   "execution_count": 52,
   "id": "bcf6cd35-28ea-41b9-8f77-26ee4853fcce",
   "metadata": {},
   "outputs": [
    {
     "data": {
      "text/plain": [
       "6.666666666666667"
      ]
     },
     "execution_count": 52,
     "metadata": {},
     "output_type": "execute_result"
    }
   ],
   "source": [
    "A.var()"
   ]
  },
  {
   "cell_type": "markdown",
   "id": "6b15e2df-8d6b-4928-ba9e-5c4aa8ee35f5",
   "metadata": {},
   "source": [
    "#### above function but along an axis -> x or y"
   ]
  },
  {
   "cell_type": "markdown",
   "id": "92d739dc-82b1-4373-8ce6-f73546818b64",
   "metadata": {},
   "source": [
    "note that here : \n",
    "- axis = 0 means operation along column\n",
    "- axis = 1 means operation along row"
   ]
  },
  {
   "cell_type": "code",
   "execution_count": 53,
   "id": "5f03a2ee-98cd-4a20-82e8-ce50af15d341",
   "metadata": {},
   "outputs": [
    {
     "data": {
      "text/plain": [
       "array([12, 15, 18])"
      ]
     },
     "execution_count": 53,
     "metadata": {},
     "output_type": "execute_result"
    }
   ],
   "source": [
    "# sum along column\n",
    "A.sum(axis = 0) "
   ]
  },
  {
   "cell_type": "code",
   "execution_count": 54,
   "id": "e7424e70-dca9-4847-a360-32d72f9106d7",
   "metadata": {},
   "outputs": [
    {
     "data": {
      "text/plain": [
       "array([ 6, 15, 24])"
      ]
     },
     "execution_count": 54,
     "metadata": {},
     "output_type": "execute_result"
    }
   ],
   "source": [
    "# sum along column\n",
    "A.sum(axis = 1)"
   ]
  },
  {
   "cell_type": "code",
   "execution_count": 55,
   "id": "2d823f46-ec73-4a5b-827c-5286c53a82e2",
   "metadata": {},
   "outputs": [
    {
     "data": {
      "text/plain": [
       "array([4., 5., 6.])"
      ]
     },
     "execution_count": 55,
     "metadata": {},
     "output_type": "execute_result"
    }
   ],
   "source": [
    "# mean along column\n",
    "A.mean(axis = 0)"
   ]
  },
  {
   "cell_type": "code",
   "execution_count": 56,
   "id": "efee91cf-f851-422d-9c90-2f8bcb7742a2",
   "metadata": {},
   "outputs": [
    {
     "data": {
      "text/plain": [
       "array([2., 5., 8.])"
      ]
     },
     "execution_count": 56,
     "metadata": {},
     "output_type": "execute_result"
    }
   ],
   "source": [
    "# mean along row\n",
    "A.mean(axis = 1)"
   ]
  },
  {
   "cell_type": "code",
   "execution_count": 57,
   "id": "4cd07307-f4fd-4798-b2a4-5763f68220d9",
   "metadata": {},
   "outputs": [
    {
     "data": {
      "text/plain": [
       "array([2.44948974, 2.44948974, 2.44948974])"
      ]
     },
     "execution_count": 57,
     "metadata": {},
     "output_type": "execute_result"
    }
   ],
   "source": [
    "# std along col\n",
    "A.std(axis = 0)"
   ]
  },
  {
   "cell_type": "code",
   "execution_count": 58,
   "id": "fcb52e11-92fd-41a9-bec5-d9393ecf09a9",
   "metadata": {},
   "outputs": [
    {
     "data": {
      "text/plain": [
       "array([0.81649658, 0.81649658, 0.81649658])"
      ]
     },
     "execution_count": 58,
     "metadata": {},
     "output_type": "execute_result"
    }
   ],
   "source": [
    "# std along row\n",
    "A.std(axis = 1)"
   ]
  },
  {
   "cell_type": "code",
   "execution_count": 59,
   "id": "b3cce651-f8d1-4313-aae7-fbbd349e6ad9",
   "metadata": {},
   "outputs": [
    {
     "data": {
      "text/plain": [
       "array([6., 6., 6.])"
      ]
     },
     "execution_count": 59,
     "metadata": {},
     "output_type": "execute_result"
    }
   ],
   "source": [
    "# var along col\n",
    "A.var(axis = 0)"
   ]
  },
  {
   "cell_type": "code",
   "execution_count": 60,
   "id": "907d80c8-13f6-4ba4-8539-9f60310551b6",
   "metadata": {},
   "outputs": [
    {
     "data": {
      "text/plain": [
       "array([0.66666667, 0.66666667, 0.66666667])"
      ]
     },
     "execution_count": 60,
     "metadata": {},
     "output_type": "execute_result"
    }
   ],
   "source": [
    "# var along row\n",
    "A.var(axis = 1)"
   ]
  },
  {
   "cell_type": "markdown",
   "id": "7f11592d-4dce-450d-a510-a1772f32a6ad",
   "metadata": {},
   "source": [
    "### Broadcasting and vectorized Operation\n",
    "- vectorized operations are operations which are performed between arr & arr || arr & scalar values"
   ]
  },
  {
   "cell_type": "markdown",
   "id": "0a685beb-2f73-4471-b669-1ab850e5a80e",
   "metadata": {},
   "source": [
    "#### Array (operation) scalar val"
   ]
  },
  {
   "cell_type": "code",
   "execution_count": 61,
   "id": "d0e61095-722a-43f0-ac44-6926cb130b9d",
   "metadata": {},
   "outputs": [
    {
     "data": {
      "text/plain": [
       "array([0, 1, 2, 3])"
      ]
     },
     "execution_count": 61,
     "metadata": {},
     "output_type": "execute_result"
    }
   ],
   "source": [
    "# .arange(n) functions created an array of numbers from 0 to n-1\n",
    "a = np.arange(4)\n",
    "a"
   ]
  },
  {
   "cell_type": "code",
   "execution_count": 62,
   "id": "2265e467-fdd9-49e9-aacc-02c8c9e10b21",
   "metadata": {},
   "outputs": [
    {
     "data": {
      "text/plain": [
       "array([10, 11, 12, 13])"
      ]
     },
     "execution_count": 62,
     "metadata": {},
     "output_type": "execute_result"
    }
   ],
   "source": [
    "# adding 10 to array a\n",
    "# arr + 10 = add 10 to each elements of the array\n",
    "a + 10"
   ]
  },
  {
   "cell_type": "code",
   "execution_count": 63,
   "id": "de306e06-2870-48ac-aee9-900e82079e41",
   "metadata": {},
   "outputs": [
    {
     "data": {
      "text/plain": [
       "array([ 0, 10, 20, 30])"
      ]
     },
     "execution_count": 63,
     "metadata": {},
     "output_type": "execute_result"
    }
   ],
   "source": [
    "# multiply 10 tp array a\n",
    "# arr * 10 = multiply 10 to each elements of the array\n",
    "a * 10\n"
   ]
  },
  {
   "cell_type": "code",
   "execution_count": 64,
   "id": "1763ac8d-173b-4244-8cc0-7aabc8e0d61a",
   "metadata": {},
   "outputs": [
    {
     "data": {
      "text/plain": [
       "array([0, 1, 2, 3])"
      ]
     },
     "execution_count": 64,
     "metadata": {},
     "output_type": "execute_result"
    }
   ],
   "source": [
    "# a is unchanged\n",
    "a"
   ]
  },
  {
   "cell_type": "code",
   "execution_count": 65,
   "id": "1d05bcb5-a6eb-419a-8641-1df11a7855cb",
   "metadata": {},
   "outputs": [],
   "source": [
    "# this changes the array itself\n",
    "a += 100"
   ]
  },
  {
   "cell_type": "code",
   "execution_count": 66,
   "id": "e0ca64c4-7667-4377-b2ae-7abd4a885d27",
   "metadata": {},
   "outputs": [
    {
     "data": {
      "text/plain": [
       "array([100, 101, 102, 103])"
      ]
     },
     "execution_count": 66,
     "metadata": {},
     "output_type": "execute_result"
    }
   ],
   "source": [
    "a"
   ]
  },
  {
   "cell_type": "code",
   "execution_count": 67,
   "id": "9096d3fb-6324-4c4e-9fa0-49a338cc499d",
   "metadata": {},
   "outputs": [
    {
     "data": {
      "text/plain": [
       "[0, 1, 2, 3]"
      ]
     },
     "execution_count": 67,
     "metadata": {},
     "output_type": "execute_result"
    }
   ],
   "source": [
    "# loading a list using for loop\n",
    "l = [i for i in range(4)]\n",
    "l"
   ]
  },
  {
   "cell_type": "code",
   "execution_count": 68,
   "id": "9ff90c3c-8cf2-45d4-8d74-f1760ffeace8",
   "metadata": {},
   "outputs": [
    {
     "data": {
      "text/plain": [
       "[0, 10, 20, 30]"
      ]
     },
     "execution_count": 68,
     "metadata": {},
     "output_type": "execute_result"
    }
   ],
   "source": [
    "l = [ i * 10 for i in l]\n",
    "l"
   ]
  },
  {
   "cell_type": "markdown",
   "id": "c4fd5e70-cca0-4302-a9ba-c3500f480472",
   "metadata": {},
   "source": [
    "#### array (operation) array\n",
    "- note that the arrays needs to have compatible shape for vectorised operations\n",
    "- NumPy Operations: Element-wise vs. Matrix Operations\n",
    "\n",
    "| **Operation**             | **Symbol**                      | **Default Behavior**                                      |\n",
    "|---------------------------|--------------------------------|----------------------------------------------------------|\n",
    "| **Addition**              | `+`                            | Element-wise                                            |\n",
    "| **Subtraction**           | `-`                            | Element-wise                                            |\n",
    "| **Multiplication**        | `*`                            | Element-wise                                            |\n",
    "| **Division**              | `/`                            | Element-wise                                            |\n",
    "| **Exponentiation**        | `**`                           | Element-wise                                            |"
   ]
  },
  {
   "cell_type": "code",
   "execution_count": 69,
   "id": "25a59eee-5c0a-4ff0-82a9-17e14cb48123",
   "metadata": {},
   "outputs": [
    {
     "data": {
      "text/plain": [
       "array([0, 1, 2, 3])"
      ]
     },
     "execution_count": 69,
     "metadata": {},
     "output_type": "execute_result"
    }
   ],
   "source": [
    "# creating a new array\n",
    "a = np.arange(4)\n",
    "a"
   ]
  },
  {
   "cell_type": "code",
   "execution_count": 70,
   "id": "0d737365-667d-4ef0-832d-529807b41a49",
   "metadata": {},
   "outputs": [
    {
     "data": {
      "text/plain": [
       "array([10, 10, 10, 10])"
      ]
     },
     "execution_count": 70,
     "metadata": {},
     "output_type": "execute_result"
    }
   ],
   "source": [
    "b = np.array([10,10,10,10])\n",
    "b"
   ]
  },
  {
   "cell_type": "code",
   "execution_count": 71,
   "id": "96fd475c-d402-41e7-892d-642b5cc1edb4",
   "metadata": {},
   "outputs": [
    {
     "data": {
      "text/plain": [
       "array([10, 11, 12, 13])"
      ]
     },
     "execution_count": 71,
     "metadata": {},
     "output_type": "execute_result"
    }
   ],
   "source": [
    "# element wise addition\n",
    "a + b"
   ]
  },
  {
   "cell_type": "code",
   "execution_count": 72,
   "id": "6a74590a-ddaf-4608-b5ce-29d32b4ab265",
   "metadata": {},
   "outputs": [
    {
     "data": {
      "text/plain": [
       "array([ 0, 10, 20, 30])"
      ]
     },
     "execution_count": 72,
     "metadata": {},
     "output_type": "execute_result"
    }
   ],
   "source": [
    "# element wise multiplication\n",
    "a * b"
   ]
  },
  {
   "cell_type": "markdown",
   "id": "caa9e5ff-3e8a-4ace-be04-cc813bde6c56",
   "metadata": {},
   "source": [
    "#### Boolean array\n",
    "_also called mask_"
   ]
  },
  {
   "cell_type": "markdown",
   "id": "d47ee5a4-0864-40b6-be89-7ad59d0086d7",
   "metadata": {},
   "source": [
    "##### 1-D Array"
   ]
  },
  {
   "cell_type": "code",
   "execution_count": 73,
   "id": "28b87faa-8c4d-44be-b653-aaa4d17b6142",
   "metadata": {},
   "outputs": [
    {
     "data": {
      "text/plain": [
       "array([0, 1, 2, 3])"
      ]
     },
     "execution_count": 73,
     "metadata": {},
     "output_type": "execute_result"
    }
   ],
   "source": [
    "a = np.arange(4)\n",
    "a"
   ]
  },
  {
   "cell_type": "code",
   "execution_count": 74,
   "id": "1c6b833f-4bee-4879-9230-73b3254255c4",
   "metadata": {},
   "outputs": [
    {
     "data": {
      "text/plain": [
       "array([0, 3])"
      ]
     },
     "execution_count": 74,
     "metadata": {},
     "output_type": "execute_result"
    }
   ],
   "source": [
    "# selecting element using index\n",
    "a[[0, -1]]"
   ]
  },
  {
   "cell_type": "code",
   "execution_count": 75,
   "id": "3952f534-fd68-4673-9ffe-ea44884aa559",
   "metadata": {},
   "outputs": [
    {
     "data": {
      "text/plain": [
       "array([0, 3])"
      ]
     },
     "execution_count": 75,
     "metadata": {},
     "output_type": "execute_result"
    }
   ],
   "source": [
    "# selecting elements using boolean value\n",
    "# note that true means to take the element and false means to not take the elements\n",
    "a[[True, False, False, True]]"
   ]
  },
  {
   "cell_type": "code",
   "execution_count": 76,
   "id": "3dac7ee1-ac1e-47fc-bdf2-fe0e3c074294",
   "metadata": {},
   "outputs": [
    {
     "data": {
      "text/plain": [
       "array([0, 1, 2, 3])"
      ]
     },
     "execution_count": 76,
     "metadata": {},
     "output_type": "execute_result"
    }
   ],
   "source": [
    "a"
   ]
  },
  {
   "cell_type": "code",
   "execution_count": 77,
   "id": "77bcaf1b-05eb-4699-9ea3-f5d4919a3146",
   "metadata": {},
   "outputs": [
    {
     "data": {
      "text/plain": [
       "array([False, False,  True,  True])"
      ]
     },
     "execution_count": 77,
     "metadata": {},
     "output_type": "execute_result"
    }
   ],
   "source": [
    "# here select elements >= 2 returning a boolean array\n",
    "a >= 2"
   ]
  },
  {
   "cell_type": "code",
   "execution_count": 78,
   "id": "7eacfac9-0b14-4b43-a57d-d97d8678659a",
   "metadata": {},
   "outputs": [
    {
     "data": {
      "text/plain": [
       "array([2, 3])"
      ]
     },
     "execution_count": 78,
     "metadata": {},
     "output_type": "execute_result"
    }
   ],
   "source": [
    "# filters the array on a[condition] returning the array of elements\n",
    "# note that in [] a is the element of the array a\n",
    "a[a>=2]"
   ]
  },
  {
   "cell_type": "code",
   "execution_count": 79,
   "id": "3ad32080-0c28-4526-a612-57157376905f",
   "metadata": {},
   "outputs": [
    {
     "data": {
      "text/plain": [
       "1.5"
      ]
     },
     "execution_count": 79,
     "metadata": {},
     "output_type": "execute_result"
    }
   ],
   "source": [
    "a.mean()"
   ]
  },
  {
   "cell_type": "code",
   "execution_count": 80,
   "id": "f45321c1-34c0-44ca-868a-dd9ffa3b05db",
   "metadata": {},
   "outputs": [
    {
     "data": {
      "text/plain": [
       "array([2, 3])"
      ]
     },
     "execution_count": 80,
     "metadata": {},
     "output_type": "execute_result"
    }
   ],
   "source": [
    "a[a>a.mean()]"
   ]
  },
  {
   "cell_type": "code",
   "execution_count": 81,
   "id": "f14ab04f-1355-4c66-906b-4a519fa805e9",
   "metadata": {},
   "outputs": [
    {
     "data": {
      "text/plain": [
       "array([0, 1])"
      ]
     },
     "execution_count": 81,
     "metadata": {},
     "output_type": "execute_result"
    }
   ],
   "source": [
    "a[~(a > a.mean())]"
   ]
  },
  {
   "cell_type": "code",
   "execution_count": 82,
   "id": "7b2809fb-86f0-4b6a-8db9-a9c977e74b8f",
   "metadata": {},
   "outputs": [
    {
     "data": {
      "text/plain": [
       "array([0, 1])"
      ]
     },
     "execution_count": 82,
     "metadata": {},
     "output_type": "execute_result"
    }
   ],
   "source": [
    "a[(a == 0 )|(a == 1)]"
   ]
  },
  {
   "cell_type": "code",
   "execution_count": 83,
   "id": "a606200c-f6a1-4d55-b7b8-c94ac296e777",
   "metadata": {},
   "outputs": [
    {
     "data": {
      "text/plain": [
       "array([0, 2])"
      ]
     },
     "execution_count": 83,
     "metadata": {},
     "output_type": "execute_result"
    }
   ],
   "source": [
    "a[(a <= 2) & (a % 2 == 0)]"
   ]
  },
  {
   "cell_type": "markdown",
   "id": "3557471f-4769-449c-8f22-6980135263af",
   "metadata": {},
   "source": [
    "##### Multi-D array"
   ]
  },
  {
   "cell_type": "code",
   "execution_count": 84,
   "id": "ee444129-547e-4849-b475-2d88d0919991",
   "metadata": {},
   "outputs": [
    {
     "data": {
      "text/plain": [
       "array([[27, 82, 94],\n",
       "       [58, 64, 12],\n",
       "       [15, 84, 17]])"
      ]
     },
     "execution_count": 84,
     "metadata": {},
     "output_type": "execute_result"
    }
   ],
   "source": [
    "A = np.random.randint(100,size = (3,3))\n",
    "A"
   ]
  },
  {
   "cell_type": "code",
   "execution_count": 85,
   "id": "a2aa892f-17e2-44e0-b7ec-2252cdd10679",
   "metadata": {},
   "outputs": [
    {
     "data": {
      "text/plain": [
       "array([27, 94, 64, 15, 17])"
      ]
     },
     "execution_count": 85,
     "metadata": {},
     "output_type": "execute_result"
    }
   ],
   "source": [
    "# now creating a boolean array based on the above array returning a boolean 1D array\n",
    "A[np.array([\n",
    "    [True, False, True],\n",
    "    [False, True, False],\n",
    "    [True, False, True]\n",
    "])]"
   ]
  },
  {
   "cell_type": "code",
   "execution_count": 86,
   "id": "7518bec6-861e-4e00-9ea9-66cbc3af6e94",
   "metadata": {},
   "outputs": [
    {
     "data": {
      "text/plain": [
       "array([[False,  True,  True],\n",
       "       [ True,  True, False],\n",
       "       [False,  True, False]])"
      ]
     },
     "execution_count": 86,
     "metadata": {},
     "output_type": "execute_result"
    }
   ],
   "source": [
    "# this is dynamically generated boolean array while filtering\n",
    "A > 30"
   ]
  },
  {
   "cell_type": "markdown",
   "id": "5d4765a0-f058-46b1-8065-38090bb844de",
   "metadata": {},
   "source": [
    "---\n",
    "### Linear Algebra methods\n",
    "\n",
    "| **Operation**                     | **Function**                        | **Description** |\n",
    "|------------------------------------|-------------------------------------|----------------|\n",
    "| **Matrix Multiplication**         | `np.dot(A, B)` or `A @ B`          | Performs **matrix multiplication** following linear algebra rules. |\n",
    "| **Element-wise Multiplication**   | `A * B`                             | Multiplies matrices **element-wise** (Hadamard product). |\n",
    "| **Matrix Power**                   | `np.linalg.matrix_power(A, n)`      | Raises a square matrix `A` to the power `n`. |\n",
    "| **Determinant**                    | `np.linalg.det(A)`                  | Computes the **determinant** of matrix `A`. |\n",
    "| **Inverse**                        | `np.linalg.inv(A)`                  | Computes the **inverse** of matrix `A`. |\n",
    "| **Pseudo-Inverse**                 | `np.linalg.pinv(A)`                 | Computes the **Moore-Penrose pseudoinverse** of `A`. |\n",
    "| **Transpose**                      | `A.T` or `np.transpose(A)`          | Returns the **transpose** of matrix `A`. |\n",
    "| **Trace**                          | `np.trace(A)`                       | Returns the **sum of diagonal elements** of matrix `A`. |\n",
    "| **Eigenvalues & Eigenvectors**     | `np.linalg.eig(A)`                  | Computes **eigenvalues** and **eigenvectors** of `A`. |\n",
    "| **Singular Value Decomposition**   | `np.linalg.svd(A)`                  | Computes the **Singular Value Decomposition (SVD)**. |\n",
    "| **QR Decomposition**               | `np.linalg.qr(A)`                   | Computes the **QR decomposition** of `A`. |\n",
    "| **Cholesky Decomposition**         | `np.linalg.cholesky(A)`             | Computes the **Cholesky decomposition** of `A`. |\n",
    "| **LU Decomposition**               | `scipy.linalg.lu(A)`                | Computes the **LU decomposition** (requires SciPy). |\n",
    "| **Solve Linear System**            | `np.linalg.solve(A, b)`             | Solves the equation `Ax = b` for `x`. |\n",
    "| **Least Squares Solution**         | `np.linalg.lstsq(A, b, rcond=None)` | Solves the **least squares problem** for `Ax = b`. |\n",
    "| **Norm of a Matrix**               | `np.linalg.norm(A, ord)`            | Computes the **norm** of a matrix or vector (Frobenius, Euclidean, etc.). |\n",
    "| **Condition Number**               | `np.linalg.cond(A)`                 | Computes the **condition number** of `A`. |\n",
    "| **Rank of a Matrix**               | `np.linalg.matrix_rank(A)`          | Computes the **rank** of matrix `A`. |\n",
    "| **Outer Product**                  | `np.outer(a, b)`                    | Computes the **outer product** of vectors `a` and `b`. |\n",
    "| **Inner Product**                  | `np.inner(a, b)`                    | Computes the **inner product** of vectors `a` and `b`. |\n",
    "| **Cross Product**                  | `np.cross(a, b)`                    | Computes the **cross product** of 3D vectors `a` and `b`. |\n",
    "\n"
   ]
  },
  {
   "cell_type": "code",
   "execution_count": 87,
   "id": "1d3008e9-e545-4c6e-a33c-73595ec383b8",
   "metadata": {},
   "outputs": [],
   "source": [
    "A = np.array([\n",
    "    [1,2,3],\n",
    "    [4,5,6],\n",
    "    [7,8,9]\n",
    "])"
   ]
  },
  {
   "cell_type": "code",
   "execution_count": 88,
   "id": "100aceff-fb74-4c5b-89fc-cdb119b17ec8",
   "metadata": {},
   "outputs": [],
   "source": [
    "B = np.array([\n",
    "    [6,5],\n",
    "    [4,3],\n",
    "    [2,1]\n",
    "])"
   ]
  },
  {
   "cell_type": "code",
   "execution_count": 89,
   "id": "6913e44f-4efd-4965-a627-62cb6f8e29b4",
   "metadata": {},
   "outputs": [
    {
     "data": {
      "text/plain": [
       "array([[20, 14],\n",
       "       [56, 41],\n",
       "       [92, 68]])"
      ]
     },
     "execution_count": 89,
     "metadata": {},
     "output_type": "execute_result"
    }
   ],
   "source": [
    "# here it is called matrix multiplication\n",
    "A.dot(B)"
   ]
  },
  {
   "cell_type": "code",
   "execution_count": 90,
   "id": "4bb0f353-d0a3-44c5-a851-17835ae5e9c4",
   "metadata": {},
   "outputs": [
    {
     "data": {
      "text/plain": [
       "array([[20, 14],\n",
       "       [56, 41],\n",
       "       [92, 68]])"
      ]
     },
     "execution_count": 90,
     "metadata": {},
     "output_type": "execute_result"
    }
   ],
   "source": [
    "# here it is also called matrix multiplication\n",
    "A @ B"
   ]
  },
  {
   "cell_type": "code",
   "execution_count": 91,
   "id": "c85af74c-ea51-4141-8a28-68f849e05b55",
   "metadata": {},
   "outputs": [
    {
     "data": {
      "text/plain": [
       "array([[6, 4, 2],\n",
       "       [5, 3, 1]])"
      ]
     },
     "execution_count": 91,
     "metadata": {},
     "output_type": "execute_result"
    }
   ],
   "source": [
    "# transpose of a matrix\n",
    "B.T"
   ]
  },
  {
   "cell_type": "code",
   "execution_count": 92,
   "id": "6bcc45cf-5062-4cb9-9dcf-52046d4d1ad8",
   "metadata": {},
   "outputs": [
    {
     "data": {
      "text/plain": [
       "array([[1, 4, 7],\n",
       "       [2, 5, 8],\n",
       "       [3, 6, 9]])"
      ]
     },
     "execution_count": 92,
     "metadata": {},
     "output_type": "execute_result"
    }
   ],
   "source": [
    "A.T"
   ]
  },
  {
   "cell_type": "code",
   "execution_count": 93,
   "id": "b1491413-9732-4b81-a095-d3760c961c42",
   "metadata": {},
   "outputs": [
    {
     "data": {
      "text/plain": [
       "array([[36, 48, 60],\n",
       "       [24, 33, 42]])"
      ]
     },
     "execution_count": 93,
     "metadata": {},
     "output_type": "execute_result"
    }
   ],
   "source": [
    "# B transpose X A\n",
    "B.T @ A"
   ]
  },
  {
   "cell_type": "markdown",
   "id": "952c2323-7c51-4cd3-b219-c60783adb5f4",
   "metadata": {},
   "source": [
    "---\n",
    "### Size of object in memory\n",
    "##### int, float\n",
    "- the total no. of bytes needed to store a simple number\n",
    "- Conclusion : Not at all space efficient"
   ]
  },
  {
   "cell_type": "code",
   "execution_count": 94,
   "id": "6ccdf674-2d8b-4220-80c6-b608be82db84",
   "metadata": {},
   "outputs": [
    {
     "data": {
      "text/plain": [
       "28"
      ]
     },
     "execution_count": 94,
     "metadata": {},
     "output_type": "execute_result"
    }
   ],
   "source": [
    "# An integer in python is > 24 bytes\n",
    "sys.getsizeof(1)"
   ]
  },
  {
   "cell_type": "code",
   "execution_count": 95,
   "id": "93e1f596-42d0-4b6d-b298-0f01a162f86d",
   "metadata": {},
   "outputs": [
    {
     "data": {
      "text/plain": [
       "72"
      ]
     },
     "execution_count": 95,
     "metadata": {},
     "output_type": "execute_result"
    }
   ],
   "source": [
    "# Longs are even larger\n",
    "sys.getsizeof(10**100)"
   ]
  },
  {
   "cell_type": "code",
   "execution_count": 96,
   "id": "0697661a-7317-42ef-b7c7-f8f7938ca12a",
   "metadata": {},
   "outputs": [
    {
     "data": {
      "text/plain": [
       "4"
      ]
     },
     "execution_count": 96,
     "metadata": {},
     "output_type": "execute_result"
    }
   ],
   "source": [
    "# Numpy size is much smaller\n",
    "np.dtype(int).itemsize"
   ]
  },
  {
   "cell_type": "code",
   "execution_count": 97,
   "id": "3d118060-d9fb-4a4c-afae-710bbf031c02",
   "metadata": {},
   "outputs": [
    {
     "data": {
      "text/plain": [
       "1"
      ]
     },
     "execution_count": 97,
     "metadata": {},
     "output_type": "execute_result"
    }
   ],
   "source": [
    "# numpy size is much smaller\n",
    "np.dtype(np.int8).itemsize"
   ]
  },
  {
   "cell_type": "code",
   "execution_count": 98,
   "id": "1be2b59a-8312-474e-b375-c60507f9d997",
   "metadata": {},
   "outputs": [
    {
     "data": {
      "text/plain": [
       "8"
      ]
     },
     "execution_count": 98,
     "metadata": {},
     "output_type": "execute_result"
    }
   ],
   "source": [
    "np.dtype(float).itemsize"
   ]
  },
  {
   "cell_type": "markdown",
   "id": "8e357b4b-97f3-4838-82af-b89f0fe286d3",
   "metadata": {},
   "source": [
    "#### List size\n",
    "##### list are even larger\n",
    "- here we are comparing the size of python list and numpy arrays"
   ]
  },
  {
   "cell_type": "code",
   "execution_count": 99,
   "id": "99f5affb-42fe-467c-8adf-bd8235d282c9",
   "metadata": {},
   "outputs": [
    {
     "data": {
      "text/plain": [
       "64"
      ]
     },
     "execution_count": 99,
     "metadata": {},
     "output_type": "execute_result"
    }
   ],
   "source": [
    "# size of 1-element list in python\n",
    "sys.getsizeof([1])"
   ]
  },
  {
   "cell_type": "code",
   "execution_count": 100,
   "id": "10bdd201-6386-4a52-a220-0d2bddb7cb21",
   "metadata": {},
   "outputs": [
    {
     "data": {
      "text/plain": [
       "4"
      ]
     },
     "execution_count": 100,
     "metadata": {},
     "output_type": "execute_result"
    }
   ],
   "source": [
    "# size of 1-element array in numpy\n",
    "np.array([1]).nbytes"
   ]
  },
  {
   "cell_type": "markdown",
   "id": "f4077bc4-8149-4bbe-ac03-2fd564d4fc1b",
   "metadata": {},
   "source": [
    "#### Performance is also important\n",
    "- here we are comparing the performance of the python list and numpy arrays"
   ]
  },
  {
   "cell_type": "code",
   "execution_count": 101,
   "id": "a96b1dc1-6b0c-4473-9246-ef182ec2dd4f",
   "metadata": {},
   "outputs": [],
   "source": [
    "l = list(range(1000))"
   ]
  },
  {
   "cell_type": "code",
   "execution_count": 102,
   "id": "2a903d1f-c00c-4d4c-94b0-5b3530e33d70",
   "metadata": {},
   "outputs": [],
   "source": [
    "a = np.arange(1000)"
   ]
  },
  {
   "cell_type": "markdown",
   "id": "6786513c-10e7-4e8b-b0eb-f531319de12b",
   "metadata": {},
   "source": [
    "##### here we will be using the time module to compare the performance"
   ]
  },
  {
   "cell_type": "code",
   "execution_count": 108,
   "id": "e9d1e051-3e5d-433c-98bd-272874c0bd73",
   "metadata": {},
   "outputs": [
    {
     "name": "stdout",
     "output_type": "stream",
     "text": [
      "3.83 µs ± 134 ns per loop (mean ± std. dev. of 7 runs, 100,000 loops each)\n"
     ]
    }
   ],
   "source": [
    "# here we are calculating the time to calculate the exponent of each element in a\n",
    "%timeit np.sum(a ** 2)"
   ]
  },
  {
   "cell_type": "code",
   "execution_count": 109,
   "id": "7db194d1-daae-4d3e-8962-f5d937047d8a",
   "metadata": {},
   "outputs": [
    {
     "name": "stdout",
     "output_type": "stream",
     "text": [
      "193 µs ± 2.81 µs per loop (mean ± std. dev. of 7 runs, 10,000 loops each)\n"
     ]
    }
   ],
   "source": [
    "# here we are calculating the time to calculate the exponent of each element in b\n",
    "%timeit sum([i**2 for i in l])"
   ]
  },
  {
   "cell_type": "markdown",
   "id": "3223d4ed-e14e-4d55-a3db-e74afcb27d4b",
   "metadata": {},
   "source": [
    "##### conclusion on the above experiment : \n",
    "#### 🔍 **What Do These Results Mean?**\n",
    "\n",
    "- **For NumPy array:** `3.83 µs ± 134 ns per loop` (very fast 🔥)  \n",
    "- **For Python list:** `193 µs ± 2.81 µs per loop` (much slower 🐢)  \n",
    "\n",
    "✅ **NumPy is ~50 times faster than a Python list for this operation!**\n"
   ]
  },
  {
   "cell_type": "markdown",
   "id": "6feaa836-3cd6-4e13-86e0-a9b3d8a9a9ef",
   "metadata": {},
   "source": [
    "---\n",
    "### Numpy more useful functions "
   ]
  },
  {
   "cell_type": "markdown",
   "id": "0e85724e-5d10-45e9-9e3e-204fb7807fd9",
   "metadata": {},
   "source": [
    "#### random"
   ]
  },
  {
   "cell_type": "code",
   "execution_count": 119,
   "id": "786d5017-638c-436d-90e9-df7f2cc9b1ac",
   "metadata": {},
   "outputs": [
    {
     "data": {
      "text/plain": [
       "array([0.43752093, 0.00453949])"
      ]
     },
     "execution_count": 119,
     "metadata": {},
     "output_type": "execute_result"
    }
   ],
   "source": [
    "# generates two random numbers between 0 and 1 from a uniform distribution.\n",
    "np.random.random(size=2)"
   ]
  },
  {
   "cell_type": "code",
   "execution_count": 120,
   "id": "031f6c8a-f176-4e1a-8bce-91b7bd4c978e",
   "metadata": {},
   "outputs": [
    {
     "data": {
      "text/plain": [
       "array([ 2.06736737, -1.62655039])"
      ]
     },
     "execution_count": 120,
     "metadata": {},
     "output_type": "execute_result"
    }
   ],
   "source": [
    "# Generates values from a normal distribution of 2 elements\n",
    "np.random.normal(size=2)"
   ]
  },
  {
   "cell_type": "code",
   "execution_count": 121,
   "id": "c019d963-0c51-4f3d-bf98-4a119eb9e0b0",
   "metadata": {},
   "outputs": [
    {
     "data": {
      "text/plain": [
       "array([[0.12433965, 0.15977823, 0.67709256, 0.50344444],\n",
       "       [0.76963128, 0.53831063, 0.69718689, 0.60894567]])"
      ]
     },
     "execution_count": 121,
     "metadata": {},
     "output_type": "execute_result"
    }
   ],
   "source": [
    "# Generates a random m x n array of numbers between 0 and 1\n",
    "# random.rand(m,n)\n",
    "np.random.rand(2,4)"
   ]
  },
  {
   "cell_type": "markdown",
   "id": "324f2e67-484d-435f-a356-9437b1c9861e",
   "metadata": {},
   "source": [
    "#### arange"
   ]
  },
  {
   "cell_type": "code",
   "execution_count": 122,
   "id": "a432f8ec-bd1c-473f-9e98-cf812e1e581f",
   "metadata": {},
   "outputs": [
    {
     "data": {
      "text/plain": [
       "array([0, 1, 2, 3, 4, 5, 6, 7, 8, 9])"
      ]
     },
     "execution_count": 122,
     "metadata": {},
     "output_type": "execute_result"
    }
   ],
   "source": [
    "# generate a numpy array containing element from 0 to 9\n",
    "np.arange(10)"
   ]
  },
  {
   "cell_type": "code",
   "execution_count": 124,
   "id": "b5bc65af-9032-4e71-8257-eb7806d7fb8b",
   "metadata": {},
   "outputs": [
    {
     "data": {
      "text/plain": [
       "array([5, 6, 7, 8, 9])"
      ]
     },
     "execution_count": 124,
     "metadata": {},
     "output_type": "execute_result"
    }
   ],
   "source": [
    "# generate a numpy array containing element from m to n\n",
    "np.arange(5,10)"
   ]
  },
  {
   "cell_type": "code",
   "execution_count": 125,
   "id": "61d62b6f-3408-4a13-98f0-89768da137c9",
   "metadata": {},
   "outputs": [
    {
     "data": {
      "text/plain": [
       "array([0. , 0.1, 0.2, 0.3, 0.4, 0.5, 0.6, 0.7, 0.8, 0.9])"
      ]
     },
     "execution_count": 125,
     "metadata": {},
     "output_type": "execute_result"
    }
   ],
   "source": [
    "# Creates an array with values from 0 to 1 with a step of .1\n",
    "np.arange(0,1,.1)"
   ]
  },
  {
   "cell_type": "markdown",
   "id": "7b21fccc-5350-4d68-a5e7-33b31bc24f27",
   "metadata": {},
   "source": [
    "#### reshape"
   ]
  },
  {
   "cell_type": "code",
   "execution_count": 128,
   "id": "ea1e572f-c150-4946-8594-4678f618061d",
   "metadata": {},
   "outputs": [
    {
     "data": {
      "text/plain": [
       "array([[0, 1, 2, 3, 4],\n",
       "       [5, 6, 7, 8, 9]])"
      ]
     },
     "execution_count": 128,
     "metadata": {},
     "output_type": "execute_result"
    }
   ],
   "source": [
    "# Reshapes an array into a specified shape ( row,col)\n",
    "np.arange(10).reshape(2,5)"
   ]
  },
  {
   "cell_type": "code",
   "execution_count": 129,
   "id": "dda6a328-b94d-410b-87b2-e4fb1ea62e56",
   "metadata": {},
   "outputs": [
    {
     "data": {
      "text/plain": [
       "array([[0, 1],\n",
       "       [2, 3],\n",
       "       [4, 5],\n",
       "       [6, 7],\n",
       "       [8, 9]])"
      ]
     },
     "execution_count": 129,
     "metadata": {},
     "output_type": "execute_result"
    }
   ],
   "source": [
    "# Reshapes an array into a specified shape (row,col)\n",
    "np.arange(10).reshape(5,2)"
   ]
  },
  {
   "cell_type": "markdown",
   "id": "4c3d049d-5f6c-42a0-9cf9-886689e09bf8",
   "metadata": {},
   "source": [
    "#### linspace"
   ]
  },
  {
   "cell_type": "code",
   "execution_count": 131,
   "id": "664fe552-464a-4cf2-a782-b210cfdc797b",
   "metadata": {},
   "outputs": [
    {
     "data": {
      "text/plain": [
       "array([0.  , 0.25, 0.5 , 0.75, 1.  ])"
      ]
     },
     "execution_count": 131,
     "metadata": {},
     "output_type": "execute_result"
    }
   ],
   "source": [
    "#  generate an array of evenly spaced numbers between a start and stop value and no. of val to generate\n",
    "np.linspace(0,1,5)"
   ]
  },
  {
   "cell_type": "code",
   "execution_count": 139,
   "id": "8705ef0d-8685-40ec-9c9d-0525247092fa",
   "metadata": {},
   "outputs": [
    {
     "data": {
      "text/plain": [
       "array([  1,   6,  11,  16,  21,  27,  32,  37,  42,  47,  53,  58,  63,\n",
       "        68,  73,  79,  84,  89,  94, 100])"
      ]
     },
     "execution_count": 139,
     "metadata": {},
     "output_type": "execute_result"
    }
   ],
   "source": [
    "np.linspace(1,100,20,dtype = int)"
   ]
  },
  {
   "cell_type": "code",
   "execution_count": 140,
   "id": "b112e66d-3f53-4cd0-8804-03e236308d3e",
   "metadata": {},
   "outputs": [
    {
     "data": {
      "text/plain": [
       "array([0.  , 0.05, 0.1 , 0.15, 0.2 , 0.25, 0.3 , 0.35, 0.4 , 0.45, 0.5 ,\n",
       "       0.55, 0.6 , 0.65, 0.7 , 0.75, 0.8 , 0.85, 0.9 , 0.95])"
      ]
     },
     "execution_count": 140,
     "metadata": {},
     "output_type": "execute_result"
    }
   ],
   "source": [
    "# endpoint=False → Excludes the stop value (1), so spacing is adjusted accordingly\n",
    "np.linspace(0,1,20,False)"
   ]
  },
  {
   "cell_type": "markdown",
   "id": "cf03d325-2772-437d-9025-76729eb683be",
   "metadata": {},
   "source": [
    "#### Zeros, ones, empty"
   ]
  },
  {
   "cell_type": "code",
   "execution_count": 142,
   "id": "5c604097-223b-42d1-a484-99462ed37c90",
   "metadata": {},
   "outputs": [
    {
     "data": {
      "text/plain": [
       "array([0., 0., 0., 0., 0.])"
      ]
     },
     "execution_count": 142,
     "metadata": {},
     "output_type": "execute_result"
    }
   ],
   "source": [
    "# Return a new array of given shape and type, filled with zeros.\n",
    "np.zeros(5)"
   ]
  },
  {
   "cell_type": "code",
   "execution_count": 144,
   "id": "8a6df1b7-35b8-46ef-a57d-35ef4f90e941",
   "metadata": {},
   "outputs": [
    {
     "data": {
      "text/plain": [
       "array([[0., 0., 0.],\n",
       "       [0., 0., 0.],\n",
       "       [0., 0., 0.]])"
      ]
     },
     "execution_count": 144,
     "metadata": {},
     "output_type": "execute_result"
    }
   ],
   "source": [
    "np.zeros((3,3))"
   ]
  },
  {
   "cell_type": "code",
   "execution_count": 145,
   "id": "e48c28f5-599a-4acd-a628-168a6087ccf9",
   "metadata": {},
   "outputs": [
    {
     "data": {
      "text/plain": [
       "array([[0, 0, 0],\n",
       "       [0, 0, 0],\n",
       "       [0, 0, 0]])"
      ]
     },
     "execution_count": 145,
     "metadata": {},
     "output_type": "execute_result"
    }
   ],
   "source": [
    "np.zeros((3,3),dtype=int)"
   ]
  },
  {
   "cell_type": "code",
   "execution_count": 147,
   "id": "8d7dcf81-9aa2-4539-a6c6-d0bfe4a88e37",
   "metadata": {},
   "outputs": [
    {
     "data": {
      "text/plain": [
       "array([1., 1., 1., 1., 1.])"
      ]
     },
     "execution_count": 147,
     "metadata": {},
     "output_type": "execute_result"
    }
   ],
   "source": [
    "# Return a new array of given shape and type, filled with ones.\n",
    "np.ones(5)"
   ]
  },
  {
   "cell_type": "code",
   "execution_count": 148,
   "id": "9eba7078-3962-42bb-896b-f2b3c432f9e9",
   "metadata": {},
   "outputs": [
    {
     "data": {
      "text/plain": [
       "array([[1., 1., 1.],\n",
       "       [1., 1., 1.],\n",
       "       [1., 1., 1.]])"
      ]
     },
     "execution_count": 148,
     "metadata": {},
     "output_type": "execute_result"
    }
   ],
   "source": [
    "np.ones((3,3))"
   ]
  },
  {
   "cell_type": "code",
   "execution_count": 153,
   "id": "2541b8bb-c91a-40a2-bb23-4e398740b7b9",
   "metadata": {},
   "outputs": [
    {
     "data": {
      "text/plain": [
       "array([1., 1., 1., 1., 1.])"
      ]
     },
     "execution_count": 153,
     "metadata": {},
     "output_type": "execute_result"
    }
   ],
   "source": [
    "# Return a new array of given shape and type, without initializing entries.\n",
    "# It does not initialize values, meaning the elements will contain random garbage values (whatever was in memory at that time).\n",
    "# It's faster than np.zeros() or np.ones() because it skips the step of setting values.\n",
    "np.empty(5)"
   ]
  },
  {
   "cell_type": "code",
   "execution_count": 154,
   "id": "edd07f4f-1abe-435c-bd4b-7cd49aea5e1a",
   "metadata": {},
   "outputs": [
    {
     "data": {
      "text/plain": [
       "array([[9.43940533e-312, 1.77863633e-322, 0.00000000e+000,\n",
       "        0.00000000e+000, 0.00000000e+000],\n",
       "       [1.09322382e-042, 7.48418037e-067, 4.76066267e-090,\n",
       "        2.21657816e-056, 4.34339413e-315]])"
      ]
     },
     "execution_count": 154,
     "metadata": {},
     "output_type": "execute_result"
    }
   ],
   "source": [
    "np.empty((2,5))"
   ]
  },
  {
   "cell_type": "markdown",
   "id": "3d7ce4cd-098d-4e8d-b30a-365bed35448c",
   "metadata": {},
   "source": [
    "#### identity, eye"
   ]
  },
  {
   "cell_type": "code",
   "execution_count": 163,
   "id": "20c66b51-bd87-4c4b-8355-7e76b47a5071",
   "metadata": {},
   "outputs": [
    {
     "data": {
      "text/plain": [
       "array([[1., 0., 0.],\n",
       "       [0., 1., 0.],\n",
       "       [0., 0., 1.]])"
      ]
     },
     "execution_count": 163,
     "metadata": {},
     "output_type": "execute_result"
    }
   ],
   "source": [
    "# Return the identity array.\n",
    "# alaways generetes square matrix\n",
    "np.identity(3)"
   ]
  },
  {
   "cell_type": "code",
   "execution_count": 167,
   "id": "47e1f438-44e4-4124-a520-c82fcda61bd7",
   "metadata": {},
   "outputs": [
    {
     "data": {
      "text/plain": [
       "array([[1., 0., 0.],\n",
       "       [0., 1., 0.],\n",
       "       [0., 0., 1.]])"
      ]
     },
     "execution_count": 167,
     "metadata": {},
     "output_type": "execute_result"
    }
   ],
   "source": [
    "# Return a 2-D array with ones on the diagonal and zeros elsewhere.\n",
    "# rows may not be same as col\n",
    "np.eye(3)"
   ]
  },
  {
   "cell_type": "code",
   "execution_count": 168,
   "id": "2685f382-7dd3-4ae7-ba61-9ea04f273cd8",
   "metadata": {},
   "outputs": [
    {
     "data": {
      "text/plain": [
       "array([[1., 0., 0.],\n",
       "       [0., 1., 0.],\n",
       "       [0., 0., 1.]])"
      ]
     },
     "execution_count": 168,
     "metadata": {},
     "output_type": "execute_result"
    }
   ],
   "source": [
    "np.eye(3,3)"
   ]
  },
  {
   "cell_type": "code",
   "execution_count": 169,
   "id": "d2bcf1dc-7da0-4d8a-a452-02a7f1f26dda",
   "metadata": {},
   "outputs": [
    {
     "data": {
      "text/plain": [
       "array([[1., 0., 0., 0.],\n",
       "       [0., 1., 0., 0.],\n",
       "       [0., 0., 1., 0.],\n",
       "       [0., 0., 0., 1.],\n",
       "       [0., 0., 0., 0.],\n",
       "       [0., 0., 0., 0.],\n",
       "       [0., 0., 0., 0.],\n",
       "       [0., 0., 0., 0.]])"
      ]
     },
     "execution_count": 169,
     "metadata": {},
     "output_type": "execute_result"
    }
   ],
   "source": [
    "np.eye(8,4)"
   ]
  },
  {
   "cell_type": "code",
   "execution_count": 171,
   "id": "89cb68c8-e6ee-47ec-8856-039cf1776617",
   "metadata": {},
   "outputs": [
    {
     "data": {
      "text/plain": [
       "array([[0., 1., 0., 0.],\n",
       "       [0., 0., 1., 0.],\n",
       "       [0., 0., 0., 1.],\n",
       "       [0., 0., 0., 0.],\n",
       "       [0., 0., 0., 0.],\n",
       "       [0., 0., 0., 0.],\n",
       "       [0., 0., 0., 0.],\n",
       "       [0., 0., 0., 0.]])"
      ]
     },
     "execution_count": 171,
     "metadata": {},
     "output_type": "execute_result"
    }
   ],
   "source": [
    "# The k parameter controls which diagonal gets the 1s. k is called the offset\n",
    "np.eye(8,4,k=1)"
   ]
  },
  {
   "cell_type": "code",
   "execution_count": 176,
   "id": "381f7975-c1a7-4dee-9904-fc83ba3f2ed1",
   "metadata": {},
   "outputs": [
    {
     "data": {
      "text/plain": [
       "array([[0., 0., 0., 0.],\n",
       "       [0., 0., 0., 0.],\n",
       "       [0., 0., 0., 0.],\n",
       "       [1., 0., 0., 0.],\n",
       "       [0., 1., 0., 0.],\n",
       "       [0., 0., 1., 0.],\n",
       "       [0., 0., 0., 1.],\n",
       "       [0., 0., 0., 0.]])"
      ]
     },
     "execution_count": 176,
     "metadata": {},
     "output_type": "execute_result"
    }
   ],
   "source": [
    "# +ve k -> shift col , -ve k -> shift row\n",
    "np.eye(8,4,k=-3)"
   ]
  },
  {
   "cell_type": "code",
   "execution_count": 177,
   "id": "104dbfd9-b670-4f14-9963-b11d7ee6ba22",
   "metadata": {},
   "outputs": [
    {
     "data": {
      "text/plain": [
       "'W'"
      ]
     },
     "execution_count": 177,
     "metadata": {},
     "output_type": "execute_result"
    }
   ],
   "source": [
    "\"hello World\"[6]"
   ]
  },
  {
   "cell_type": "markdown",
   "id": "20891406-26fc-4750-8fbc-42ba2f07775d",
   "metadata": {},
   "source": [
    "# 📌 NumPy Functions Table\n",
    "\n",
    "## **Creating Arrays**\n",
    "| Function | Syntax | Use Case |\n",
    "|----------|--------|----------|\n",
    "| `array()` | `np.array([1, 2, 3])` | Creates a NumPy array from a list or tuple |\n",
    "| `zeros()` | `np.zeros((3,3))` | Creates an array filled with zeros |\n",
    "| `ones()` | `np.ones((2,2))` | Creates an array filled with ones |\n",
    "| `full()` | `np.full((3,3), 5)` | Creates an array filled with a specific value |\n",
    "| `eye()` | `np.eye(3)` | Creates an identity matrix of size `3×3` |\n",
    "| `arange()` | `np.arange(1, 10, 2)` | Creates an array with values from 1 to 10 with a step of 2 |\n",
    "| `linspace()` | `np.linspace(0, 1, 5)` | Creates an array with 5 equally spaced values between 0 and 1 |\n",
    "| `random.rand()` | `np.random.rand(3,3)` | Generates a random `3×3` array of numbers between 0 and 1 |\n",
    "\n",
    "## **Mathematical Operations**\n",
    "| Function | Syntax | Use Case |\n",
    "|----------|--------|----------|\n",
    "| `add()` | `np.add(a, b)` | Element-wise addition of two arrays |\n",
    "| `subtract()` | `np.subtract(a, b)` | Element-wise subtraction |\n",
    "| `multiply()` | `np.multiply(a, b)` | Element-wise multiplication |\n",
    "| `divide()` | `np.divide(a, b)` | Element-wise division |\n",
    "| `power()` | `np.power(a, 2)` | Raises each element of `a` to the power of 2 |\n",
    "| `sqrt()` | `np.sqrt(a)` | Computes the square root of each element in `a` |\n",
    "| `exp()` | `np.exp(a)` | Computes the exponential (e^x) for each element in `a` |\n",
    "| `log()` | `np.log(a)` | Computes the natural logarithm (ln) of `a` |\n",
    "\n",
    "## **Statistical Functions**\n",
    "| Function | Syntax | Use Case |\n",
    "|----------|--------|----------|\n",
    "| `mean()` | `np.mean(a)` | Computes the mean of an array |\n",
    "| `median()` | `np.median(a)` | Computes the median of an array |\n",
    "| `std()` | `np.std(a)` | Computes the standard deviation |\n",
    "| `var()` | `np.var(a)` | Computes the variance |\n",
    "| `min()` | `np.min(a)` | Finds the minimum value in an array |\n",
    "| `max()` | `np.max(a)` | Finds the maximum value in an array |\n",
    "| `argmin()` | `np.argmin(a)` | Returns the index of the minimum value |\n",
    "| `argmax()` | `np.argmax(a)` | Returns the index of the maximum value |\n",
    "\n",
    "## **Linear Algebra**\n",
    "| Function | Syntax | Use Case |\n",
    "|----------|--------|----------|\n",
    "| `dot()` | `np.dot(a, b)` | Computes the dot product of two arrays |\n",
    "| `matmul()` | `np.matmul(a, b)` | Matrix multiplication |\n",
    "| `linalg.inv()` | `np.linalg.inv(A)` | Computes the inverse of a matrix |\n",
    "| `linalg.det()` | `np.linalg.det(A)` | Computes the determinant of a matrix |\n",
    "| `linalg.eig()` | `np.linalg.eig(A)` | Computes eigenvalues and eigenvectors |\n",
    "\n",
    "## **Array Manipulation**\n",
    "| Function | Syntax | Use Case |\n",
    "|----------|--------|----------|\n",
    "| `reshape()` | `np.reshape(a, (2,3))` | Reshapes an array into a specified shape |\n",
    "| `ravel()` | `np.ravel(a)` | Flattens an array into a 1D array |\n",
    "| `transpose()` | `np.transpose(a)` | Transposes a matrix |\n",
    "| `concatenate()` | `np.concatenate((a, b), axis=0)` | Joins two arrays along a specified axis |\n",
    "| `vstack()` | `np.vstack((a, b))` | Stacks arrays vertically |\n",
    "| `hstack()` | `np.hstack((a, b))` | Stacks arrays horizontally |\n",
    "\n",
    "## **Sorting & Searching**\n",
    "| Function | Syntax | Use Case |\n",
    "|----------|--------|----------|\n",
    "| `sort()` | `np.sort(a)` | Sorts an array |\n",
    "| `argsort()` | `np.argsort(a)` | Returns the indices that would sort an array |\n",
    "| `where()` | `np.where(a > 5, 1, 0)` | Returns indices where a condition is met |\n",
    "| `unique()` | `np.unique(a)` | Finds unique values in an array |\n",
    "\n",
    "## **Random Number Generation**\n",
    "| Function | Syntax | Use Case |\n",
    "|----------|--------|----------|\n",
    "| `random.rand()` | `np.random.rand(3,3)` | Generates a random `3×3` array (values between 0 and 1) |\n",
    "| `random.randint()` | `np.random.randint(1, 10, (2,2))` | Generates a random integer matrix (between 1 and 10) |\n",
    "| `random.normal()` | `np.random.normal(0, 1, (3,3))` | Generates values from a normal distribution |\n",
    "| `random.choice()` | `np.random.choice(a, 3)` | Selects 3 random elements from an array |\n",
    "| `random.shuffle()` | `np.random.shuffle(a)` | Shuffles an array in place |\n",
    "\n",
    "---\n",
    "\n",
    "## **🔹 Summary**\n",
    "- **Creating arrays:** `array()`, `zeros()`, `ones()`, `arange()`, `linspace()`\n",
    "- **Math operations:** `add()`, `subtract()`, `multiply()`, `divide()`, `sqrt()`\n",
    "- **Statistics:** `mean()`, `median()`, `std()`, `var()`, `min()`, `max()`\n",
    "- **Linear algebra:** `dot()`, `matmul()`, `inv()`, `det()`, `eig()`\n",
    "- **Array manipulation:** `reshape()`, `transpose()`, `concatenate()`\n",
    "- **Sorting & Searching:** `sort()`, `argsort()`, `where()`, `unique()`\n",
    "- **Random generation:** `rand()`, `randint()`, `choice()`, `shuffle()`\n",
    "\n",
    "🚀 **NumPy is incredibly powerful!** Let me know if you need more details! 😃\n"
   ]
  },
  {
   "cell_type": "markdown",
   "id": "3b0e8da3-e906-425c-94fd-9f292d638d0f",
   "metadata": {},
   "source": [
    "-----------------------------------------------------------**END**---------------------------------------------------"
   ]
  }
 ],
 "metadata": {
  "kernelspec": {
   "display_name": "Python 3 (ipykernel)",
   "language": "python",
   "name": "python3"
  },
  "language_info": {
   "codemirror_mode": {
    "name": "ipython",
    "version": 3
   },
   "file_extension": ".py",
   "mimetype": "text/x-python",
   "name": "python",
   "nbconvert_exporter": "python",
   "pygments_lexer": "ipython3",
   "version": "3.9.6"
  }
 },
 "nbformat": 4,
 "nbformat_minor": 5
}
