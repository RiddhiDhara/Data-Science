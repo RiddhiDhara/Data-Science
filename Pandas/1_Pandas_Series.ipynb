{
 "cells": [
  {
   "cell_type": "markdown",
   "id": "db194b93-9348-4f60-a56b-354ac37ae25e",
   "metadata": {},
   "source": [
    "## PANDAS\n",
    "##### [Visit Pandas Documentation](https://pandas.pydata.org/docs/user_guide/index.html)\n",
    "---"
   ]
  },
  {
   "cell_type": "code",
   "execution_count": 1,
   "id": "d7f67772-259c-430c-8309-bfb5a92e875a",
   "metadata": {},
   "outputs": [],
   "source": [
    "# importing libraries\n",
    "import pandas as pd\n",
    "import numpy as np\n",
    "# note that the underlying library that works under pandas is numpy"
   ]
  },
  {
   "cell_type": "markdown",
   "id": "2ed25778-73df-4181-a014-848b784810dc",
   "metadata": {},
   "source": [
    "### Pandas Series\n",
    "- We'll start analyzing \"The Group of Seven\" (G7). Which is a political formed by Canada, France, Germany, Italy, Japan, the United Kingdom and the United States. We'll start by analyzing population, and for that, we'll use a pandas.Series object."
   ]
  },
  {
   "cell_type": "code",
   "execution_count": 2,
   "id": "dc9b76b7-a621-469a-8121-349b942169c8",
   "metadata": {},
   "outputs": [
    {
     "data": {
      "text/plain": [
       "0     35.467\n",
       "1     63.951\n",
       "2     80.940\n",
       "3     60.665\n",
       "4    127.061\n",
       "5     64.511\n",
       "6    318.523\n",
       "dtype: float64"
      ]
     },
     "execution_count": 2,
     "metadata": {},
     "output_type": "execute_result"
    }
   ],
   "source": [
    "# pandas.Series : Series is a one-dimensional labeled array that can hold any data type \n",
    "# (integers, floats, strings, Python objects, etc.). \n",
    "# It is similar to a column in a spreadsheet or a one-dimensional NumPy array but with labels (an index) attached to each value.\n",
    "g7_pop = pd.Series([35.467, 63.951, 80.940, 60.665, 127.061, 64.511, 318.523])\n",
    "g7_pop"
   ]
  },
  {
   "cell_type": "markdown",
   "id": "61942d24-ed41-4f6b-8081-4541092d77e4",
   "metadata": {},
   "source": [
    "Note : Someone might not know we're representing population in millions of inhabitants. Series can have a name, to better document the purpose of the Series:"
   ]
  },
  {
   "cell_type": "code",
   "execution_count": 3,
   "id": "96924575-640a-4314-b5ae-88075c104939",
   "metadata": {},
   "outputs": [],
   "source": [
    "# .name is used to add a name to the Series\n",
    "g7_pop.name = \"G7 population in millions\""
   ]
  },
  {
   "cell_type": "code",
   "execution_count": 4,
   "id": "17227ed9-d2af-4fc2-ac1e-bd09d08f5b80",
   "metadata": {},
   "outputs": [
    {
     "data": {
      "text/plain": [
       "0     35.467\n",
       "1     63.951\n",
       "2     80.940\n",
       "3     60.665\n",
       "4    127.061\n",
       "5     64.511\n",
       "6    318.523\n",
       "Name: G7 population in millions, dtype: float64"
      ]
     },
     "execution_count": 4,
     "metadata": {},
     "output_type": "execute_result"
    }
   ],
   "source": [
    "g7_pop"
   ]
  },
  {
   "cell_type": "code",
   "execution_count": 5,
   "id": "720bc9fb-4365-44a3-923e-0092e3f50315",
   "metadata": {},
   "outputs": [
    {
     "data": {
      "text/plain": [
       "dtype('float64')"
      ]
     },
     "execution_count": 5,
     "metadata": {},
     "output_type": "execute_result"
    }
   ],
   "source": [
    "# finding the datatype using dtype form numpy\n",
    "g7_pop.dtype"
   ]
  },
  {
   "cell_type": "code",
   "execution_count": 6,
   "id": "bb5ec719-f9a8-4ab1-95e5-c0f829d3a428",
   "metadata": {},
   "outputs": [
    {
     "data": {
      "text/plain": [
       "array([ 35.467,  63.951,  80.94 ,  60.665, 127.061,  64.511, 318.523])"
      ]
     },
     "execution_count": 6,
     "metadata": {},
     "output_type": "execute_result"
    }
   ],
   "source": [
    "# The .values attribute in Pandas is used to extract the underlying data from a Series \n",
    "# or DataFrame as a NumPy array (or an array-like structure). \n",
    "# It helps when you need to perform NumPy-based operations or work with raw data.\n",
    "g7_pop.values"
   ]
  },
  {
   "cell_type": "code",
   "execution_count": 7,
   "id": "9f3691e0-c798-4a47-8d66-f28da1330898",
   "metadata": {},
   "outputs": [
    {
     "data": {
      "text/plain": [
       "numpy.ndarray"
      ]
     },
     "execution_count": 7,
     "metadata": {},
     "output_type": "execute_result"
    }
   ],
   "source": [
    "# we can check the type of the array above\n",
    "type(g7_pop.values)"
   ]
  },
  {
   "cell_type": "code",
   "execution_count": 8,
   "id": "5ee99a2b-9b96-4b87-8ded-32d20c433769",
   "metadata": {},
   "outputs": [
    {
     "data": {
      "text/plain": [
       "pandas.core.series.Series"
      ]
     },
     "execution_count": 8,
     "metadata": {},
     "output_type": "execute_result"
    }
   ],
   "source": [
    "type(g7_pop)\n",
    "# the result is a class <class 'pandas.core.series.Series'>"
   ]
  },
  {
   "cell_type": "code",
   "execution_count": 9,
   "id": "191e958f-e5a3-43c8-82e0-0de84172e7f1",
   "metadata": {},
   "outputs": [
    {
     "data": {
      "text/plain": [
       "(35.467, 63.951)"
      ]
     },
     "execution_count": 9,
     "metadata": {},
     "output_type": "execute_result"
    }
   ],
   "source": [
    "# even though g7_pop in a class instance but still its values / elements can be accessed just like arrays\n",
    "g7_pop[0], g7_pop[1]"
   ]
  },
  {
   "cell_type": "code",
   "execution_count": 10,
   "id": "8e33f117-fa49-4e6f-af1e-eb33c9d70e83",
   "metadata": {},
   "outputs": [
    {
     "data": {
      "text/plain": [
       "RangeIndex(start=0, stop=7, step=1)"
      ]
     },
     "execution_count": 10,
     "metadata": {},
     "output_type": "execute_result"
    }
   ],
   "source": [
    "# The .index attribute in Pandas is used to retrieve or modify the index labels of a Series or DataFrame.\n",
    "# note that by default the index is from 0 to n-1 with a step of 1\n",
    "# Pandas Index is immutable, meaning you cannot modify it in place, but you can replace it entirely with a new index.\n",
    "g7_pop.index"
   ]
  },
  {
   "cell_type": "markdown",
   "id": "098d1f65-bd89-4b8a-b349-884f129e4072",
   "metadata": {},
   "source": [
    "Note : we can modify the index just like an object or dictionary"
   ]
  },
  {
   "cell_type": "code",
   "execution_count": 11,
   "id": "64663403-5746-45c0-a576-23e522bbaf54",
   "metadata": {},
   "outputs": [],
   "source": [
    "# here we will be modifying the index based on the need entirely\n",
    "g7_pop.index = [\n",
    "    'Canada',\n",
    "    'France',\n",
    "    'Germany',\n",
    "    'Italy',\n",
    "    'Japan',\n",
    "    'United Kingdom',\n",
    "    'United States',\n",
    "]\n",
    "# note that .index type is also a panda class "
   ]
  },
  {
   "cell_type": "code",
   "execution_count": 12,
   "id": "6553ff51-b183-4cf3-bca9-472b3c295ac8",
   "metadata": {},
   "outputs": [
    {
     "data": {
      "text/plain": [
       "Canada             35.467\n",
       "France             63.951\n",
       "Germany            80.940\n",
       "Italy              60.665\n",
       "Japan             127.061\n",
       "United Kingdom     64.511\n",
       "United States     318.523\n",
       "Name: G7 population in millions, dtype: float64"
      ]
     },
     "execution_count": 12,
     "metadata": {},
     "output_type": "execute_result"
    }
   ],
   "source": [
    "g7_pop"
   ]
  },
  {
   "cell_type": "code",
   "execution_count": 13,
   "id": "b33148fb-2486-4990-962a-6a51ba0a89fc",
   "metadata": {},
   "outputs": [
    {
     "data": {
      "text/plain": [
       "Canada             35.467\n",
       "France             63.951\n",
       "Germany            80.940\n",
       "Italy              60.665\n",
       "Japan             127.061\n",
       "United Kingdom     64.511\n",
       "United States     318.523\n",
       "Name: G7 population in million!!, dtype: float64"
      ]
     },
     "execution_count": 13,
     "metadata": {},
     "output_type": "execute_result"
    }
   ],
   "source": [
    "# here we will be creating the series from scratch\n",
    "pd.Series({\n",
    "    \"Canada\" : 35.467,\n",
    "    \"France\" : 63.951,\n",
    "    \"Germany\" : 80.940,\n",
    "    \"Italy\" : 60.665,\n",
    "    \"Japan\" : 127.061,\n",
    "    \"United Kingdom\" : 64.511,\n",
    "    \"United States\" : 318.523\n",
    "},name = \"G7 population in million!!\")"
   ]
  },
  {
   "cell_type": "code",
   "execution_count": 14,
   "id": "47537f66-30c9-4858-91ef-e4067b469657",
   "metadata": {},
   "outputs": [
    {
     "data": {
      "text/plain": [
       "Canada             35.467\n",
       "France             63.951\n",
       "Germany            80.940\n",
       "Italy              60.665\n",
       "Japan             127.061\n",
       "United Kingdom     64.511\n",
       "United States     318.523\n",
       "Name: G7 population in millions!!, dtype: float64"
      ]
     },
     "execution_count": 14,
     "metadata": {},
     "output_type": "execute_result"
    }
   ],
   "source": [
    "# series can also be created in this way from scratch\n",
    "pd.Series(\n",
    "    [35.467, 63.951, 80.940, 60.665, 127.061, 64.511, 318.523],\n",
    "    index = ['Canada','France','Germany','Italy','Japan','United Kingdom','United States',],\n",
    "    name=\"G7 population in millions!!\"\n",
    ")"
   ]
  },
  {
   "cell_type": "code",
   "execution_count": 15,
   "id": "e434afa4-0ee5-457a-a636-50d8a10efb00",
   "metadata": {},
   "outputs": [
    {
     "data": {
      "text/plain": [
       "France     63.951\n",
       "Germany    80.940\n",
       "Italy      60.665\n",
       "Spain         NaN\n",
       "Name: G7 population in millions, dtype: float64"
      ]
     },
     "execution_count": 15,
     "metadata": {},
     "output_type": "execute_result"
    }
   ],
   "source": [
    "# We can create another series out of other series specifying their indexes\n",
    "pd.Series(\n",
    "    g7_pop,\n",
    "    index = [\"France\",\"Germany\",\"Italy\",\"Spain\"]\n",
    ")\n",
    "# here for index spain it shows NaN because in g7_pop spain as index is not present"
   ]
  },
  {
   "cell_type": "markdown",
   "id": "0e64614b-ea64-46b8-ba96-a79e187eb008",
   "metadata": {},
   "source": [
    "### Indexing\n",
    "- Indexing works similarly to lists and dictionaries, you use the index of the element you're looking for:"
   ]
  },
  {
   "cell_type": "code",
   "execution_count": 16,
   "id": "4039d20f-dd0f-4a7f-ab06-18c6c00ce104",
   "metadata": {},
   "outputs": [
    {
     "data": {
      "text/plain": [
       "Canada             35.467\n",
       "France             63.951\n",
       "Germany            80.940\n",
       "Italy              60.665\n",
       "Japan             127.061\n",
       "United Kingdom     64.511\n",
       "United States     318.523\n",
       "Name: G7 population in millions, dtype: float64"
      ]
     },
     "execution_count": 16,
     "metadata": {},
     "output_type": "execute_result"
    }
   ],
   "source": [
    "g7_pop"
   ]
  },
  {
   "cell_type": "code",
   "execution_count": 17,
   "id": "cd2dab2b-7683-430d-a6f2-305cf14b8fd9",
   "metadata": {},
   "outputs": [
    {
     "data": {
      "text/plain": [
       "35.467"
      ]
     },
     "execution_count": 17,
     "metadata": {},
     "output_type": "execute_result"
    }
   ],
   "source": [
    "# now using the name of the country as the index\n",
    "g7_pop[\"Canada\"]"
   ]
  },
  {
   "cell_type": "code",
   "execution_count": 18,
   "id": "74c22359-26a8-470a-ac3e-8ed85bb50102",
   "metadata": {},
   "outputs": [
    {
     "data": {
      "text/plain": [
       "127.061"
      ]
     },
     "execution_count": 18,
     "metadata": {},
     "output_type": "execute_result"
    }
   ],
   "source": [
    "g7_pop[\"Japan\"]"
   ]
  },
  {
   "cell_type": "code",
   "execution_count": 19,
   "id": "4019554f-409a-40d0-b08d-8509d2b88bbd",
   "metadata": {},
   "outputs": [
    {
     "data": {
      "text/plain": [
       "63.951"
      ]
     },
     "execution_count": 19,
     "metadata": {},
     "output_type": "execute_result"
    }
   ],
   "source": [
    "# but we can still get the element value using the numerical position index using iloc attribute\n",
    "# The .iloc attribute in Pandas is used for position-based (integer) indexing to access rows and columns in a DataFrame or Series.\n",
    "g7_pop.iloc[1]"
   ]
  },
  {
   "cell_type": "code",
   "execution_count": 20,
   "id": "2a050b0b-ce2f-4cf5-a5d7-ad712ab1c449",
   "metadata": {},
   "outputs": [
    {
     "data": {
      "text/plain": [
       "318.523"
      ]
     },
     "execution_count": 20,
     "metadata": {},
     "output_type": "execute_result"
    }
   ],
   "source": [
    "g7_pop.iloc[-1]"
   ]
  },
  {
   "cell_type": "code",
   "execution_count": 21,
   "id": "36b02bc1-845d-4032-a6fd-16eaa7039cad",
   "metadata": {},
   "outputs": [
    {
     "data": {
      "text/plain": [
       "Italy     60.665\n",
       "France    63.951\n",
       "Name: G7 population in millions, dtype: float64"
      ]
     },
     "execution_count": 21,
     "metadata": {},
     "output_type": "execute_result"
    }
   ],
   "source": [
    "# selecting multiple indexes\n",
    "g7_pop[[\"Italy\",\"France\"]]"
   ]
  },
  {
   "cell_type": "code",
   "execution_count": 22,
   "id": "a177e8d9-84fe-49ea-b4df-ef2b68c19e85",
   "metadata": {},
   "outputs": [
    {
     "data": {
      "text/plain": [
       "France            63.951\n",
       "United States    318.523\n",
       "Name: G7 population in millions, dtype: float64"
      ]
     },
     "execution_count": 22,
     "metadata": {},
     "output_type": "execute_result"
    }
   ],
   "source": [
    "# now using iloc\n",
    "g7_pop[[1,-1]]"
   ]
  },
  {
   "cell_type": "markdown",
   "id": "78fb9a4b-b8db-4e2a-ae63-7ecc695ce39a",
   "metadata": {},
   "source": [
    "#### Slicing in pandas\n",
    "note that :\n",
    "- there is a fundamental difference between the slicing in python lists and in pandas series\n",
    "- In python list while slicing the upper limit index is not considered\n",
    "- In pandas series while slicing the upper limit index is considered\n"
   ]
  },
  {
   "cell_type": "code",
   "execution_count": 23,
   "id": "3c599376-1259-4d61-9e8d-15e88c8260dc",
   "metadata": {},
   "outputs": [
    {
     "data": {
      "text/plain": [
       "Canada      35.467\n",
       "France      63.951\n",
       "Germany     80.940\n",
       "Italy       60.665\n",
       "Japan      127.061\n",
       "Name: G7 population in millions, dtype: float64"
      ]
     },
     "execution_count": 23,
     "metadata": {},
     "output_type": "execute_result"
    }
   ],
   "source": [
    "# slicing \n",
    "g7_pop[\"Canada\" : \"Japan\"]"
   ]
  },
  {
   "cell_type": "markdown",
   "id": "dd52f261-f040-43d0-b7f1-980cdbe3c056",
   "metadata": {},
   "source": [
    "### Conditional Selection ( boolean array )\n",
    "- The same boolean array techniques we saw applied to numpy arrays can be used for Pandas Series\n",
    "- Note that conditions written outside returns a boolean series\n",
    "- Note that conditions written inside the [] retuns a series of values following the conditions"
   ]
  },
  {
   "cell_type": "code",
   "execution_count": 24,
   "id": "8217c051-8d2f-4f0f-b884-d5bc4a7101f0",
   "metadata": {},
   "outputs": [
    {
     "data": {
      "text/plain": [
       "Canada             35.467\n",
       "France             63.951\n",
       "Germany            80.940\n",
       "Italy              60.665\n",
       "Japan             127.061\n",
       "United Kingdom     64.511\n",
       "United States     318.523\n",
       "Name: G7 population in millions, dtype: float64"
      ]
     },
     "execution_count": 24,
     "metadata": {},
     "output_type": "execute_result"
    }
   ],
   "source": [
    "g7_pop"
   ]
  },
  {
   "cell_type": "code",
   "execution_count": 25,
   "id": "c1550089-928a-4c7f-b2cb-ec4a536c88ee",
   "metadata": {},
   "outputs": [
    {
     "data": {
      "text/plain": [
       "Canada            False\n",
       "France            False\n",
       "Germany            True\n",
       "Italy             False\n",
       "Japan              True\n",
       "United Kingdom    False\n",
       "United States      True\n",
       "Name: G7 population in millions, dtype: bool"
      ]
     },
     "execution_count": 25,
     "metadata": {},
     "output_type": "execute_result"
    }
   ],
   "source": [
    "g7_pop > 70"
   ]
  },
  {
   "cell_type": "markdown",
   "id": "947ec8a8-99df-465b-9701-06a37638aae0",
   "metadata": {},
   "source": [
    "See here the above code returned a series containing boolean values according to the given condition"
   ]
  },
  {
   "cell_type": "code",
   "execution_count": 26,
   "id": "e384f468-d783-490e-9f02-a5cc9798f4be",
   "metadata": {},
   "outputs": [
    {
     "data": {
      "text/plain": [
       "Germany           80.940\n",
       "Japan            127.061\n",
       "United States    318.523\n",
       "Name: G7 population in millions, dtype: float64"
      ]
     },
     "execution_count": 26,
     "metadata": {},
     "output_type": "execute_result"
    }
   ],
   "source": [
    "# getting another series based on the condition applied to the elements in the array\n",
    "g7_pop[g7_pop > 70]"
   ]
  },
  {
   "cell_type": "code",
   "execution_count": 27,
   "id": "ca7ffc1f-2569-4e07-b831-924c9059e81a",
   "metadata": {},
   "outputs": [
    {
     "data": {
      "text/plain": [
       "107.30257142857144"
      ]
     },
     "execution_count": 27,
     "metadata": {},
     "output_type": "execute_result"
    }
   ],
   "source": [
    "# calculating the mean of the array\n",
    "# The axis parameter in .mean() determines whether Pandas computes the mean along rows or columns.\n",
    "# axis applies if the array is not 1D\n",
    "g7_pop.mean()"
   ]
  },
  {
   "cell_type": "code",
   "execution_count": 28,
   "id": "f671de21-a305-4290-ad72-8b9bfd5b7eeb",
   "metadata": {},
   "outputs": [
    {
     "data": {
      "text/plain": [
       "Japan            127.061\n",
       "United States    318.523\n",
       "Name: G7 population in millions, dtype: float64"
      ]
     },
     "execution_count": 28,
     "metadata": {},
     "output_type": "execute_result"
    }
   ],
   "source": [
    "g7_pop[g7_pop > g7_pop.mean()]"
   ]
  },
  {
   "cell_type": "code",
   "execution_count": 29,
   "id": "ef29440c-b9a6-4c88-ad1d-835db5a58e33",
   "metadata": {},
   "outputs": [
    {
     "data": {
      "text/plain": [
       "97.24996987121581"
      ]
     },
     "execution_count": 29,
     "metadata": {},
     "output_type": "execute_result"
    }
   ],
   "source": [
    "# to find the standard deviation we will be using std\n",
    "# The axis parameter in .mean() determines whether Pandas computes the mean along rows or columns.\n",
    "# axis applies if the array is not 1D\n",
    "g7_pop.std()"
   ]
  },
  {
   "cell_type": "code",
   "execution_count": 30,
   "id": "13f39eee-5a8a-4ebf-a6cc-92a177334aa3",
   "metadata": {},
   "outputs": [],
   "source": [
    "# operators used in pandas and numpy underlying arrays\n",
    "# ~ not\n",
    "# | or\n",
    "# & and"
   ]
  },
  {
   "cell_type": "code",
   "execution_count": 31,
   "id": "967f1c46-9a08-492a-bfcc-1534a1c9d846",
   "metadata": {},
   "outputs": [
    {
     "data": {
      "text/plain": [
       "France             63.951\n",
       "Germany            80.940\n",
       "Italy              60.665\n",
       "Japan             127.061\n",
       "United Kingdom     64.511\n",
       "United States     318.523\n",
       "Name: G7 population in millions, dtype: float64"
      ]
     },
     "execution_count": 31,
     "metadata": {},
     "output_type": "execute_result"
    }
   ],
   "source": [
    "g7_pop[(g7_pop > g7_pop.mean() - g7_pop.std() / 2) | (g7_pop > g7_pop.mean() + g7_pop.std() / 2)]"
   ]
  },
  {
   "cell_type": "markdown",
   "id": "a848e3ca-b3d6-4cec-9e57-0d0ce78bf694",
   "metadata": {},
   "source": [
    "### Operations and methods\n",
    "- Series also support vectorized operations and aggregation functions as Numpy:"
   ]
  },
  {
   "cell_type": "code",
   "execution_count": 32,
   "id": "e92cd735-ecb0-4a57-87f3-ce0d0f19ab99",
   "metadata": {},
   "outputs": [
    {
     "data": {
      "text/plain": [
       "Canada             35.467\n",
       "France             63.951\n",
       "Germany            80.940\n",
       "Italy              60.665\n",
       "Japan             127.061\n",
       "United Kingdom     64.511\n",
       "United States     318.523\n",
       "Name: G7 population in millions, dtype: float64"
      ]
     },
     "execution_count": 32,
     "metadata": {},
     "output_type": "execute_result"
    }
   ],
   "source": [
    "g7_pop"
   ]
  },
  {
   "cell_type": "code",
   "execution_count": 33,
   "id": "ade1dc25-dc83-4df9-99cf-e35a11970ebd",
   "metadata": {},
   "outputs": [
    {
     "data": {
      "text/plain": [
       "Canada             35467000.0\n",
       "France             63951000.0\n",
       "Germany            80940000.0\n",
       "Italy              60665000.0\n",
       "Japan             127061000.0\n",
       "United Kingdom     64511000.0\n",
       "United States     318523000.0\n",
       "Name: G7 population in millions, dtype: float64"
      ]
     },
     "execution_count": 33,
     "metadata": {},
     "output_type": "execute_result"
    }
   ],
   "source": [
    "# multiplying the elements with million\n",
    "# this doesnot change the series rather returns another series\n",
    "g7_pop * 1_000_000"
   ]
  },
  {
   "cell_type": "code",
   "execution_count": 34,
   "id": "1171fa72-efb2-44c9-bf90-81597a327069",
   "metadata": {},
   "outputs": [
    {
     "data": {
      "text/plain": [
       "107.30257142857144"
      ]
     },
     "execution_count": 34,
     "metadata": {},
     "output_type": "execute_result"
    }
   ],
   "source": [
    "# finding the mean of the update g7_pop\n",
    "g7_pop.mean()"
   ]
  },
  {
   "cell_type": "code",
   "execution_count": 35,
   "id": "1f98dce7-7700-4770-803c-11629a818f3a",
   "metadata": {},
   "outputs": [
    {
     "data": {
      "text/plain": [
       "Canada            3.568603\n",
       "France            4.158117\n",
       "Germany           4.393708\n",
       "Italy             4.105367\n",
       "Japan             4.844667\n",
       "United Kingdom    4.166836\n",
       "United States     5.763695\n",
       "Name: G7 population in millions, dtype: float64"
      ]
     },
     "execution_count": 35,
     "metadata": {},
     "output_type": "execute_result"
    }
   ],
   "source": [
    "# np.log() is used to compute the natural logarithm (ln) of numbers, meaning it calculates logarithms to the base e (~2.718).\n",
    "np.log(g7_pop)"
   ]
  },
  {
   "cell_type": "code",
   "execution_count": 36,
   "id": "51ac3db6-d983-4cf3-a37c-65a8b1c922bf",
   "metadata": {},
   "outputs": [
    {
     "data": {
      "text/plain": [
       "83.29425"
      ]
     },
     "execution_count": 36,
     "metadata": {},
     "output_type": "execute_result"
    }
   ],
   "source": [
    "# finding the mean of a particular slice of g7_pop array\n",
    "g7_pop[\"Germany\":\"United Kingdom\"].mean()"
   ]
  },
  {
   "cell_type": "markdown",
   "id": "622c548b-8e1f-4806-8dea-4ffe5e613620",
   "metadata": {},
   "source": [
    "### Boolean Operation\n",
    "using boolean operators"
   ]
  },
  {
   "cell_type": "code",
   "execution_count": 37,
   "id": "3f2ca896-282f-4375-84f5-8e26a4d1b105",
   "metadata": {},
   "outputs": [
    {
     "data": {
      "text/plain": [
       "Canada             35.467\n",
       "France             63.951\n",
       "Germany            80.940\n",
       "Italy              60.665\n",
       "Japan             127.061\n",
       "United Kingdom     64.511\n",
       "United States     318.523\n",
       "Name: G7 population in millions, dtype: float64"
      ]
     },
     "execution_count": 37,
     "metadata": {},
     "output_type": "execute_result"
    }
   ],
   "source": [
    "g7_pop"
   ]
  },
  {
   "cell_type": "code",
   "execution_count": 38,
   "id": "4a78d81b-63e0-4325-8041-010e233f37ea",
   "metadata": {},
   "outputs": [
    {
     "data": {
      "text/plain": [
       "Canada            False\n",
       "France            False\n",
       "Germany            True\n",
       "Italy             False\n",
       "Japan              True\n",
       "United Kingdom    False\n",
       "United States      True\n",
       "Name: G7 population in millions, dtype: bool"
      ]
     },
     "execution_count": 38,
     "metadata": {},
     "output_type": "execute_result"
    }
   ],
   "source": [
    "g7_pop > 80"
   ]
  },
  {
   "cell_type": "code",
   "execution_count": 39,
   "id": "42ff34a5-05fb-4779-93ab-dffe3d7ee98c",
   "metadata": {},
   "outputs": [
    {
     "data": {
      "text/plain": [
       "Germany           80.940\n",
       "Japan            127.061\n",
       "United States    318.523\n",
       "Name: G7 population in millions, dtype: float64"
      ]
     },
     "execution_count": 39,
     "metadata": {},
     "output_type": "execute_result"
    }
   ],
   "source": [
    "g7_pop[g7_pop > 80]"
   ]
  },
  {
   "cell_type": "code",
   "execution_count": 40,
   "id": "6911f411-d294-428b-a05d-144e6cdaeb27",
   "metadata": {},
   "outputs": [
    {
     "data": {
      "text/plain": [
       "Canada            35.467\n",
       "Germany           80.940\n",
       "Japan            127.061\n",
       "United States    318.523\n",
       "Name: G7 population in millions, dtype: float64"
      ]
     },
     "execution_count": 40,
     "metadata": {},
     "output_type": "execute_result"
    }
   ],
   "source": [
    "g7_pop[(g7_pop > 80) | (g7_pop < 40)]"
   ]
  },
  {
   "cell_type": "code",
   "execution_count": 41,
   "id": "a67f86ec-9fa4-4582-ba18-7304e10c6f8c",
   "metadata": {},
   "outputs": [
    {
     "data": {
      "text/plain": [
       "Germany     80.940\n",
       "Japan      127.061\n",
       "Name: G7 population in millions, dtype: float64"
      ]
     },
     "execution_count": 41,
     "metadata": {},
     "output_type": "execute_result"
    }
   ],
   "source": [
    "g7_pop[(g7_pop > 80) & (g7_pop < 200)]"
   ]
  },
  {
   "cell_type": "markdown",
   "id": "5a35364c-23ae-49b0-b269-0b393fd11329",
   "metadata": {},
   "source": [
    "### Modifying series\n",
    "Notes : \n",
    "- The panda series is partially immutable\n",
    "- In series the indexes are immutable means they cannot be changed individually but can be altered entirely\n",
    "- In series the values are mutable "
   ]
  },
  {
   "cell_type": "code",
   "execution_count": 42,
   "id": "212c6b90-ca59-4cac-af0c-1fdec20d9d80",
   "metadata": {},
   "outputs": [
    {
     "data": {
      "text/plain": [
       "Canada             40.500\n",
       "France             63.951\n",
       "Germany            80.940\n",
       "Italy              60.665\n",
       "Japan             127.061\n",
       "United Kingdom     64.511\n",
       "United States     318.523\n",
       "Name: G7 population in millions, dtype: float64"
      ]
     },
     "execution_count": 42,
     "metadata": {},
     "output_type": "execute_result"
    }
   ],
   "source": [
    "# changing the value of canada\n",
    "g7_pop[\"Canada\"] = 40.5\n",
    "g7_pop"
   ]
  },
  {
   "cell_type": "code",
   "execution_count": 43,
   "id": "dbba457f-b5ad-40c0-9f23-bc25f520b023",
   "metadata": {},
   "outputs": [
    {
     "data": {
      "text/plain": [
       "Canada             40.500\n",
       "France             63.951\n",
       "Germany            80.940\n",
       "Italy              60.665\n",
       "Japan             127.061\n",
       "United Kingdom     64.511\n",
       "United States     500.456\n",
       "Name: G7 population in millions, dtype: float64"
      ]
     },
     "execution_count": 43,
     "metadata": {},
     "output_type": "execute_result"
    }
   ],
   "source": [
    "# now using the index to change the value using .iloc\n",
    "g7_pop.iloc[-1] = 500.456\n",
    "g7_pop"
   ]
  },
  {
   "cell_type": "code",
   "execution_count": 44,
   "id": "141a9572-3f93-436a-a5ac-a12f4bdbb0ab",
   "metadata": {},
   "outputs": [
    {
     "data": {
      "text/plain": [
       "Canada             99.560\n",
       "France             99.560\n",
       "Germany            80.940\n",
       "Italy              99.560\n",
       "Japan             127.061\n",
       "United Kingdom     99.560\n",
       "United States     500.456\n",
       "Name: G7 population in millions, dtype: float64"
      ]
     },
     "execution_count": 44,
     "metadata": {},
     "output_type": "execute_result"
    }
   ],
   "source": [
    "# now changing the values of the indexes following the provided condition\n",
    "g7_pop[g7_pop < 80] = 99.56\n",
    "g7_pop"
   ]
  },
  {
   "cell_type": "code",
   "execution_count": null,
   "id": "2db7caa9-2bcd-4ec9-bf8b-42c1dd273abe",
   "metadata": {},
   "outputs": [],
   "source": []
  }
 ],
 "metadata": {
  "kernelspec": {
   "display_name": "Python 3 (ipykernel)",
   "language": "python",
   "name": "python3"
  },
  "language_info": {
   "codemirror_mode": {
    "name": "ipython",
    "version": 3
   },
   "file_extension": ".py",
   "mimetype": "text/x-python",
   "name": "python",
   "nbconvert_exporter": "python",
   "pygments_lexer": "ipython3",
   "version": "3.9.6"
  }
 },
 "nbformat": 4,
 "nbformat_minor": 5
}
