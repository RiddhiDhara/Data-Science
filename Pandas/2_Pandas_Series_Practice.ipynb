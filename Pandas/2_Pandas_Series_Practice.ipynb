{
 "cells": [
  {
   "cell_type": "markdown",
   "id": "da0c7262-4e9a-4cd8-b71e-f64934c5dcbd",
   "metadata": {},
   "source": [
    "## **PANDA(Series) Exercise**\n",
    "---"
   ]
  },
  {
   "cell_type": "code",
   "execution_count": 84,
   "id": "61328553-1a26-425d-be91-f18fc8ae4d92",
   "metadata": {},
   "outputs": [
    {
     "name": "stdout",
     "output_type": "stream",
     "text": [
      "2.0.0\n"
     ]
    }
   ],
   "source": [
    "# importing modules\n",
    "import numpy as np\n",
    "import pandas as pd\n",
    "# checking the version \n",
    "print(pd.__version__)"
   ]
  },
  {
   "cell_type": "markdown",
   "id": "594c4305-ef67-43a1-9d9a-68e39040f61b",
   "metadata": {},
   "source": [
    "### **Series Creation** "
   ]
  },
  {
   "cell_type": "markdown",
   "id": "5d1299f4-1ba6-4560-b676-105610c0ad8d",
   "metadata": {},
   "source": [
    "#### Q1) Create an empty pandas Series"
   ]
  },
  {
   "cell_type": "code",
   "execution_count": 85,
   "id": "671bd549-d349-4e2f-96ca-378d8e49c447",
   "metadata": {},
   "outputs": [
    {
     "data": {
      "text/plain": [
       "Series([], dtype: object)"
      ]
     },
     "execution_count": 85,
     "metadata": {},
     "output_type": "execute_result"
    }
   ],
   "source": [
    "X = pd.Series()\n",
    "X"
   ]
  },
  {
   "cell_type": "markdown",
   "id": "37467a83-09af-4601-8440-1d97bfef3690",
   "metadata": {},
   "source": [
    "#### Q2) Given the X python list convert it to an Y pandas Series"
   ]
  },
  {
   "cell_type": "code",
   "execution_count": 86,
   "id": "dafd0384-d374-4266-8349-dec7867a90c7",
   "metadata": {},
   "outputs": [
    {
     "data": {
      "text/plain": [
       "0    1\n",
       "1    2\n",
       "2    3\n",
       "3    4\n",
       "4    5\n",
       "5    6\n",
       "dtype: int64"
      ]
     },
     "execution_count": 86,
     "metadata": {},
     "output_type": "execute_result"
    }
   ],
   "source": [
    "Y = [1,2,3,4,5,6]\n",
    "X = pd.Series(Y)\n",
    "X"
   ]
  },
  {
   "cell_type": "markdown",
   "id": "112aad44-2fe9-45aa-a51f-686e4d47bcc0",
   "metadata": {},
   "source": [
    "#### Q3) Given the X pandas Series, name it 'My letters'"
   ]
  },
  {
   "cell_type": "code",
   "execution_count": 87,
   "id": "02d5075e-b908-4b98-b893-7e8c474c1314",
   "metadata": {},
   "outputs": [
    {
     "data": {
      "text/plain": [
       "0    R\n",
       "1    I\n",
       "2    D\n",
       "3    D\n",
       "4    H\n",
       "5    I\n",
       "Name: My Letters, dtype: object"
      ]
     },
     "execution_count": 87,
     "metadata": {},
     "output_type": "execute_result"
    }
   ],
   "source": [
    "X = pd.Series([\"R\",\"I\",\"D\",\"D\",\"H\",\"I\"])\n",
    "X.name = \"My Letters\"\n",
    "X"
   ]
  },
  {
   "cell_type": "markdown",
   "id": "406fbc88-745c-428c-9fff-d98f2d0d53e2",
   "metadata": {},
   "source": [
    "#### Q4) Given the X pandas Series, show its values"
   ]
  },
  {
   "cell_type": "code",
   "execution_count": 88,
   "id": "12605f65-f1cd-4fa5-b350-b92caf59f1c0",
   "metadata": {},
   "outputs": [
    {
     "data": {
      "text/plain": [
       "array(['R', 'I', 'D', 'D', 'H', 'I'], dtype=object)"
      ]
     },
     "execution_count": 88,
     "metadata": {},
     "output_type": "execute_result"
    }
   ],
   "source": [
    "# X decleared in the previous question\n",
    "X.values"
   ]
  },
  {
   "cell_type": "markdown",
   "id": "6baf050e-1b89-48e7-81c5-9cf94d0ca968",
   "metadata": {},
   "source": [
    "### **Series indexation**"
   ]
  },
  {
   "cell_type": "markdown",
   "id": "3e5457cf-fca1-4cd8-85ba-17670d2fc240",
   "metadata": {},
   "source": [
    "#### Q5) Assign index names to the given X pandas Series"
   ]
  },
  {
   "cell_type": "code",
   "execution_count": 89,
   "id": "00f81a59-d2b6-458a-b060-f523ce9a0ae6",
   "metadata": {},
   "outputs": [
    {
     "data": {
      "text/plain": [
       "l1    R\n",
       "l2    I\n",
       "l3    D\n",
       "l4    D\n",
       "l5    H\n",
       "l6    I\n",
       "Name: My Letters, dtype: object"
      ]
     },
     "execution_count": 89,
     "metadata": {},
     "output_type": "execute_result"
    }
   ],
   "source": [
    "X.index = [\n",
    "    \"l1\",\n",
    "    \"l2\",\n",
    "    \"l3\",\n",
    "    \"l4\",\n",
    "    \"l5\",\n",
    "    \"l6\"\n",
    "]\n",
    "X"
   ]
  },
  {
   "cell_type": "markdown",
   "id": "4fc8e241-7cc9-4939-9a5e-428f8821073a",
   "metadata": {},
   "source": [
    "#### Q6) Given the X pandas Series, show its first element"
   ]
  },
  {
   "cell_type": "code",
   "execution_count": 90,
   "id": "3c47f241-f508-45ea-ad41-280ab1c31569",
   "metadata": {},
   "outputs": [
    {
     "data": {
      "text/plain": [
       "'R'"
      ]
     },
     "execution_count": 90,
     "metadata": {},
     "output_type": "execute_result"
    }
   ],
   "source": [
    "X.iloc[0]\n",
    "# X[\"l1\"]"
   ]
  },
  {
   "cell_type": "markdown",
   "id": "d3a1503c-e611-44ad-8b8e-5183685e68b1",
   "metadata": {},
   "source": [
    "#### Q7) Given the X pandas Series, show its last element"
   ]
  },
  {
   "cell_type": "code",
   "execution_count": 91,
   "id": "e19b70a5-65da-4814-aa9d-e74b25791524",
   "metadata": {},
   "outputs": [
    {
     "data": {
      "text/plain": [
       "'I'"
      ]
     },
     "execution_count": 91,
     "metadata": {},
     "output_type": "execute_result"
    }
   ],
   "source": [
    "X[-1]\n",
    "# X.iloc[-1]\n",
    "# X[\"l6\"]"
   ]
  },
  {
   "cell_type": "markdown",
   "id": "e89cbf65-6401-43e8-b55a-0c02477cd118",
   "metadata": {},
   "source": [
    "#### Q8) Given the X pandas Series, show all middle elements"
   ]
  },
  {
   "cell_type": "code",
   "execution_count": 92,
   "id": "1a6cc625-4825-47cc-a87f-fff21a9a2457",
   "metadata": {},
   "outputs": [
    {
     "data": {
      "text/plain": [
       "l2    I\n",
       "l3    D\n",
       "l4    D\n",
       "l5    H\n",
       "Name: My Letters, dtype: object"
      ]
     },
     "execution_count": 92,
     "metadata": {},
     "output_type": "execute_result"
    }
   ],
   "source": [
    "X.iloc[1:-1]"
   ]
  },
  {
   "cell_type": "markdown",
   "id": "49edc642-819a-4ded-9f37-32db18611f2c",
   "metadata": {},
   "source": [
    "#### Q9) Given the X pandas Series, show the elements in reverse position"
   ]
  },
  {
   "cell_type": "code",
   "execution_count": 93,
   "id": "a98ac0c5-7956-4812-86e6-830705ddd65e",
   "metadata": {},
   "outputs": [
    {
     "data": {
      "text/plain": [
       "l6    I\n",
       "l5    H\n",
       "l4    D\n",
       "l3    D\n",
       "l2    I\n",
       "l1    R\n",
       "Name: My Letters, dtype: object"
      ]
     },
     "execution_count": 93,
     "metadata": {},
     "output_type": "execute_result"
    }
   ],
   "source": [
    "X[::-1]"
   ]
  },
  {
   "cell_type": "markdown",
   "id": "3d7b04e6-25e1-46fe-ac19-ee8ce092e85e",
   "metadata": {},
   "source": [
    "#### Q10) Given the X pandas Series, show the first and last elements"
   ]
  },
  {
   "cell_type": "code",
   "execution_count": 94,
   "id": "cdc68f29-53d0-4605-b708-9fc772a43965",
   "metadata": {},
   "outputs": [
    {
     "data": {
      "text/plain": [
       "l1    R\n",
       "l6    I\n",
       "Name: My Letters, dtype: object"
      ]
     },
     "execution_count": 94,
     "metadata": {},
     "output_type": "execute_result"
    }
   ],
   "source": [
    "# this use the concept of numpy to get only the value of the mentioned index\n",
    "X[[0,-1]]"
   ]
  },
  {
   "cell_type": "markdown",
   "id": "056ebe13-8d5b-49c4-bd98-41810a384632",
   "metadata": {},
   "source": [
    "### **Series manipulation**"
   ]
  },
  {
   "cell_type": "markdown",
   "id": "c2d04d80-224a-4da3-b6eb-c66b1e9967d9",
   "metadata": {},
   "source": [
    "#### Q11) Convert the given integer pandas Series to float"
   ]
  },
  {
   "cell_type": "code",
   "execution_count": 95,
   "id": "2fe0e328-5e34-4fee-8bde-e7f0559deca2",
   "metadata": {},
   "outputs": [
    {
     "data": {
      "text/plain": [
       "0     4\n",
       "1     8\n",
       "2    23\n",
       "3    54\n",
       "4    71\n",
       "5    12\n",
       "6    69\n",
       "dtype: int64"
      ]
     },
     "execution_count": 95,
     "metadata": {},
     "output_type": "execute_result"
    }
   ],
   "source": [
    "Y = pd.Series([4,8,23,54,71,12,69])\n",
    "Y"
   ]
  },
  {
   "cell_type": "code",
   "execution_count": 96,
   "id": "7b026c6c-eefb-4a84-9002-acdad55f7806",
   "metadata": {},
   "outputs": [
    {
     "data": {
      "text/plain": [
       "0     4.0\n",
       "1     8.0\n",
       "2    23.0\n",
       "3    54.0\n",
       "4    71.0\n",
       "5    12.0\n",
       "6    69.0\n",
       "dtype: float64"
      ]
     },
     "execution_count": 96,
     "metadata": {},
     "output_type": "execute_result"
    }
   ],
   "source": [
    "pd.Series(Y,dtype=float)"
   ]
  },
  {
   "cell_type": "markdown",
   "id": "81e64215-fd48-4285-9ab9-fbb9d4d1895a",
   "metadata": {},
   "source": [
    "#### Q12) Reverse the given pandas Series (first element becomes last)"
   ]
  },
  {
   "cell_type": "code",
   "execution_count": 97,
   "id": "27e3cec8-cf48-46ad-b9fc-f34e31f43809",
   "metadata": {},
   "outputs": [
    {
     "data": {
      "text/plain": [
       "6    69\n",
       "5    12\n",
       "4    71\n",
       "3    54\n",
       "2    23\n",
       "1     8\n",
       "0     4\n",
       "dtype: int64"
      ]
     },
     "execution_count": 97,
     "metadata": {},
     "output_type": "execute_result"
    }
   ],
   "source": [
    "Y[::-1]"
   ]
  },
  {
   "cell_type": "markdown",
   "id": "8051cd48-6026-496d-846a-e1c8d1be1660",
   "metadata": {},
   "source": [
    "#### Q13) Order (sort) the given pandas Series"
   ]
  },
  {
   "cell_type": "code",
   "execution_count": 98,
   "id": "3acd72af-bd27-4c03-be06-18349f5ec6b5",
   "metadata": {},
   "outputs": [
    {
     "data": {
      "text/plain": [
       "0     4\n",
       "1     8\n",
       "5    12\n",
       "2    23\n",
       "3    54\n",
       "6    69\n",
       "4    71\n",
       "dtype: int64"
      ]
     },
     "execution_count": 98,
     "metadata": {},
     "output_type": "execute_result"
    }
   ],
   "source": [
    "# default ascending\n",
    "Y = Y.sort_values()\n",
    "Y"
   ]
  },
  {
   "cell_type": "code",
   "execution_count": 99,
   "id": "c497bbd4-4de9-421c-897f-01296484df2d",
   "metadata": {},
   "outputs": [
    {
     "data": {
      "text/plain": [
       "4    71\n",
       "6    69\n",
       "3    54\n",
       "2    23\n",
       "5    12\n",
       "1     8\n",
       "0     4\n",
       "dtype: int64"
      ]
     },
     "execution_count": 99,
     "metadata": {},
     "output_type": "execute_result"
    }
   ],
   "source": [
    "# default descending\n",
    "Y = Y.sort_values(ascending = False)\n",
    "Y"
   ]
  },
  {
   "cell_type": "markdown",
   "id": "b4baa6cc-978d-43b4-8547-23655ed395d8",
   "metadata": {},
   "source": [
    "#### Q14) Given the X pandas Series, set the fifth element equal to 10"
   ]
  },
  {
   "cell_type": "code",
   "execution_count": 100,
   "id": "f8598e4c-0e71-46e9-9f08-b178ff396348",
   "metadata": {},
   "outputs": [
    {
     "data": {
      "text/plain": [
       "0    1\n",
       "1    2\n",
       "2    3\n",
       "3    4\n",
       "4    5\n",
       "5    6\n",
       "6    7\n",
       "7    8\n",
       "8    9\n",
       "dtype: int64"
      ]
     },
     "execution_count": 100,
     "metadata": {},
     "output_type": "execute_result"
    }
   ],
   "source": [
    "Y = pd.Series([1,2,3,4,5,6,7,8,9])\n",
    "Y"
   ]
  },
  {
   "cell_type": "code",
   "execution_count": 101,
   "id": "81dbf8c8-544b-4f2b-bb75-3ef4ba891ec4",
   "metadata": {},
   "outputs": [
    {
     "data": {
      "text/plain": [
       "0     1\n",
       "1     2\n",
       "2     3\n",
       "3     4\n",
       "4     5\n",
       "5    10\n",
       "6     7\n",
       "7     8\n",
       "8     9\n",
       "dtype: int64"
      ]
     },
     "execution_count": 101,
     "metadata": {},
     "output_type": "execute_result"
    }
   ],
   "source": [
    "Y[5] = 10\n",
    "Y"
   ]
  },
  {
   "cell_type": "markdown",
   "id": "00ec5f12-065d-4c42-a850-d2e4f6540051",
   "metadata": {},
   "source": [
    "#### Q15) Given the X pandas Series, change all the middle elements to 0"
   ]
  },
  {
   "cell_type": "code",
   "execution_count": 102,
   "id": "a93df59f-046f-4aca-88e7-9812a9d75577",
   "metadata": {},
   "outputs": [
    {
     "data": {
      "text/plain": [
       "0    1\n",
       "1    0\n",
       "2    0\n",
       "3    0\n",
       "4    0\n",
       "5    0\n",
       "6    0\n",
       "7    0\n",
       "8    9\n",
       "dtype: int64"
      ]
     },
     "execution_count": 102,
     "metadata": {},
     "output_type": "execute_result"
    }
   ],
   "source": [
    "Y[1:-1] = 0\n",
    "Y"
   ]
  },
  {
   "cell_type": "markdown",
   "id": "2c1797cd-457e-45d8-b994-38d63efd4541",
   "metadata": {},
   "source": [
    "#### Q16) Given the X pandas Series, add 5 to every element"
   ]
  },
  {
   "cell_type": "code",
   "execution_count": 103,
   "id": "6a6bd740-1017-446c-8fe8-c27f22570129",
   "metadata": {},
   "outputs": [
    {
     "data": {
      "text/plain": [
       "0     6\n",
       "1     7\n",
       "2     8\n",
       "3     9\n",
       "4    10\n",
       "5    11\n",
       "dtype: int64"
      ]
     },
     "execution_count": 103,
     "metadata": {},
     "output_type": "execute_result"
    }
   ],
   "source": [
    "Y = pd.Series([1,2,3,4,5,6])\n",
    "Y = Y + 5\n",
    "Y"
   ]
  },
  {
   "cell_type": "markdown",
   "id": "e24b6a03-1ec7-40fd-8dd8-b0d62acd828a",
   "metadata": {},
   "source": [
    "### **Series boolean arrays (also called masks)**"
   ]
  },
  {
   "cell_type": "markdown",
   "id": "db5d5570-9e70-447f-8e4a-b639e862e9e4",
   "metadata": {},
   "source": [
    "#### Q17) Given the X pandas Series, make a mask showing negative elements"
   ]
  },
  {
   "cell_type": "code",
   "execution_count": 104,
   "id": "3b256c5f-508c-43fd-92bc-aaff78d412c8",
   "metadata": {},
   "outputs": [
    {
     "data": {
      "text/plain": [
       "0     1\n",
       "1     8\n",
       "2    56\n",
       "3    -4\n",
       "4   -59\n",
       "5    23\n",
       "6    -2\n",
       "dtype: int64"
      ]
     },
     "execution_count": 104,
     "metadata": {},
     "output_type": "execute_result"
    }
   ],
   "source": [
    "X = pd.Series([1,8,56,-4,-59,23,-2])\n",
    "X"
   ]
  },
  {
   "cell_type": "code",
   "execution_count": 105,
   "id": "2dc5c75e-9df5-41b5-8d3a-b13bfb3d5280",
   "metadata": {},
   "outputs": [
    {
     "data": {
      "text/plain": [
       "0    False\n",
       "1    False\n",
       "2    False\n",
       "3     True\n",
       "4     True\n",
       "5    False\n",
       "6     True\n",
       "dtype: bool"
      ]
     },
     "execution_count": 105,
     "metadata": {},
     "output_type": "execute_result"
    }
   ],
   "source": [
    "mask = X < 0\n",
    "mask"
   ]
  },
  {
   "cell_type": "markdown",
   "id": "f30129d2-e248-4fa6-92d1-1bf53001a373",
   "metadata": {},
   "source": [
    "#### Q18) Given the X pandas Series, get the negative elements"
   ]
  },
  {
   "cell_type": "code",
   "execution_count": 106,
   "id": "9f030cb2-a157-4738-b2b1-df31e473e7d7",
   "metadata": {},
   "outputs": [
    {
     "data": {
      "text/plain": [
       "3    -4\n",
       "4   -59\n",
       "6    -2\n",
       "dtype: int64"
      ]
     },
     "execution_count": 106,
     "metadata": {},
     "output_type": "execute_result"
    }
   ],
   "source": [
    "mask = X < 0\n",
    "X[mask]"
   ]
  },
  {
   "cell_type": "markdown",
   "id": "b779435f-1653-4013-aa4e-7b1bd936b1a7",
   "metadata": {},
   "source": [
    "#### Q19) Given the X pandas Series, get numbers higher than 5"
   ]
  },
  {
   "cell_type": "code",
   "execution_count": 107,
   "id": "16e2cbd3-fd1e-4166-935c-9b66e670c46f",
   "metadata": {},
   "outputs": [
    {
     "data": {
      "text/plain": [
       "1     8\n",
       "2    56\n",
       "5    23\n",
       "dtype: int64"
      ]
     },
     "execution_count": 107,
     "metadata": {},
     "output_type": "execute_result"
    }
   ],
   "source": [
    "mask = X > 5\n",
    "X[mask]"
   ]
  },
  {
   "cell_type": "markdown",
   "id": "4f52585e-8665-405d-856e-f25d3d90d79a",
   "metadata": {},
   "source": [
    "#### Q20) Given the X pandas Series, get numbers higher than the elements mean"
   ]
  },
  {
   "cell_type": "code",
   "execution_count": 108,
   "id": "07a1fc60-88ca-4c3f-8d1b-ee7079054417",
   "metadata": {},
   "outputs": [
    {
     "data": {
      "text/plain": [
       "1     8\n",
       "2    56\n",
       "5    23\n",
       "dtype: int64"
      ]
     },
     "execution_count": 108,
     "metadata": {},
     "output_type": "execute_result"
    }
   ],
   "source": [
    "mask = X > X.mean()\n",
    "X[mask]"
   ]
  },
  {
   "cell_type": "markdown",
   "id": "54b09340-66cd-4856-9e18-24ca0369c92b",
   "metadata": {},
   "source": [
    "#### Q21) Given the X pandas Series, get numbers equal to 2 or 10"
   ]
  },
  {
   "cell_type": "code",
   "execution_count": 109,
   "id": "2dc07835-cfdd-46ea-9a60-95aeb7da7130",
   "metadata": {},
   "outputs": [
    {
     "data": {
      "text/plain": [
       "0     5\n",
       "1     7\n",
       "2     2\n",
       "3     3\n",
       "4    10\n",
       "5    96\n",
       "6     4\n",
       "dtype: int64"
      ]
     },
     "execution_count": 109,
     "metadata": {},
     "output_type": "execute_result"
    }
   ],
   "source": [
    "Y = pd.Series([5,7,2,3,10,96,4])\n",
    "Y"
   ]
  },
  {
   "cell_type": "code",
   "execution_count": 110,
   "id": "bf5f41d0-fae8-444a-87fb-d56ba6774708",
   "metadata": {},
   "outputs": [
    {
     "data": {
      "text/plain": [
       "2     2\n",
       "4    10\n",
       "dtype: int64"
      ]
     },
     "execution_count": 110,
     "metadata": {},
     "output_type": "execute_result"
    }
   ],
   "source": [
    "mask = ( Y == 2 ) | ( Y == 10 )\n",
    "Y[mask]"
   ]
  },
  {
   "cell_type": "markdown",
   "id": "144f9685-4fb8-4b53-a8a5-c2670c6d33c8",
   "metadata": {},
   "source": [
    "### **Logic functions**"
   ]
  },
  {
   "cell_type": "markdown",
   "id": "a3f94d01-812d-423d-a387-43e498558c26",
   "metadata": {},
   "source": [
    "#### Q22) Given the X pandas Series, return True if none of its elements is zero"
   ]
  },
  {
   "cell_type": "code",
   "execution_count": 111,
   "id": "dcc6aced-c609-4b16-a0f8-214fbc85cb1c",
   "metadata": {},
   "outputs": [
    {
     "data": {
      "text/plain": [
       "False"
      ]
     },
     "execution_count": 111,
     "metadata": {},
     "output_type": "execute_result"
    }
   ],
   "source": [
    "Z = pd.Series([-1,2,0,-4,5,6,0,0,-9,10])\n",
    "# .all() returns true if all of its values are non zero and false when atleast one is 0\n",
    "Z.all()"
   ]
  },
  {
   "cell_type": "markdown",
   "id": "ae1ba0bb-05c6-4568-8c56-3a80be1bd8e4",
   "metadata": {},
   "source": [
    "#### Q23) Given the X pandas Series, return True if any of its elements is zero"
   ]
  },
  {
   "cell_type": "code",
   "execution_count": 112,
   "id": "82089ba3-1f1d-48a6-bb31-10386dc5206f",
   "metadata": {},
   "outputs": [
    {
     "data": {
      "text/plain": [
       "True"
      ]
     },
     "execution_count": 112,
     "metadata": {},
     "output_type": "execute_result"
    }
   ],
   "source": [
    "# .any() returns true if atleast one of its value is 0 and false if none is 0\n",
    "Z.any()"
   ]
  },
  {
   "cell_type": "markdown",
   "id": "6544487d-d625-4bbf-b508-c91c7bf0067e",
   "metadata": {},
   "source": [
    "### **Summary statistics**"
   ]
  },
  {
   "cell_type": "markdown",
   "id": "bc4bc75f-9e7d-4064-8251-76c79ee9b7b2",
   "metadata": {},
   "source": [
    "#### Q24) Given the X pandas Series, show the sum of its elements"
   ]
  },
  {
   "cell_type": "code",
   "execution_count": 113,
   "id": "9bfb5fd4-0ec9-4e19-8a1a-992c0ad2c323",
   "metadata": {},
   "outputs": [
    {
     "data": {
      "text/plain": [
       "21"
      ]
     },
     "execution_count": 113,
     "metadata": {},
     "output_type": "execute_result"
    }
   ],
   "source": [
    "Y = pd.Series([1,2,3,4,5,6])\n",
    "Y.sum()"
   ]
  },
  {
   "cell_type": "markdown",
   "id": "cda652da-c4db-4275-8373-fda8922d0b50",
   "metadata": {},
   "source": [
    "#### Q25) Given the X pandas Series, show the mean value of its elements"
   ]
  },
  {
   "cell_type": "code",
   "execution_count": 114,
   "id": "4ac32b25-3652-4261-a40c-0b54cedfcbe2",
   "metadata": {},
   "outputs": [
    {
     "data": {
      "text/plain": [
       "3.5"
      ]
     },
     "execution_count": 114,
     "metadata": {},
     "output_type": "execute_result"
    }
   ],
   "source": [
    "Y.mean()"
   ]
  },
  {
   "cell_type": "markdown",
   "id": "f07df710-a76e-491a-92fa-87bc050ba0c3",
   "metadata": {},
   "source": [
    "#### Q26) Given the X pandas Series, show the max value of its elements"
   ]
  },
  {
   "cell_type": "code",
   "execution_count": 115,
   "id": "0def1cc1-8013-4af5-99d4-2eb0f076843a",
   "metadata": {},
   "outputs": [
    {
     "data": {
      "text/plain": [
       "6"
      ]
     },
     "execution_count": 115,
     "metadata": {},
     "output_type": "execute_result"
    }
   ],
   "source": [
    "Y.max()"
   ]
  },
  {
   "cell_type": "markdown",
   "id": "b0752797-38d1-4c4d-80c3-8141394aba55",
   "metadata": {},
   "source": [
    "### **END PRACTICE**"
   ]
  }
 ],
 "metadata": {
  "kernelspec": {
   "display_name": "Python 3 (ipykernel)",
   "language": "python",
   "name": "python3"
  },
  "language_info": {
   "codemirror_mode": {
    "name": "ipython",
    "version": 3
   },
   "file_extension": ".py",
   "mimetype": "text/x-python",
   "name": "python",
   "nbconvert_exporter": "python",
   "pygments_lexer": "ipython3",
   "version": "3.9.6"
  }
 },
 "nbformat": 4,
 "nbformat_minor": 5
}
